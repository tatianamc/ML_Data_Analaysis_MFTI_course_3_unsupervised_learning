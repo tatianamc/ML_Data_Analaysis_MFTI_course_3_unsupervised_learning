{
 "cells": [
  {
   "cell_type": "markdown",
   "metadata": {},
   "source": [
    "# Programming Assignment: \n",
    "## Готовим LDA по рецептам"
   ]
  },
  {
   "cell_type": "markdown",
   "metadata": {},
   "source": [
    "Как вы уже знаете, в тематическом моделировании делается предположение о том, что для определения тематики порядок слов в документе не важен; об этом гласит гипотеза «мешка слов». Сегодня мы будем работать с несколько нестандартной для тематического моделирования коллекцией, которую можно назвать «мешком ингредиентов», потому что на состоит из рецептов блюд разных кухонь. Тематические модели ищут слова, которые часто вместе встречаются в документах, и составляют из них темы. Мы попробуем применить эту идею к рецептам и найти кулинарные «темы». Эта коллекция хороша тем, что не требует предобработки. Кроме того, эта задача достаточно наглядно иллюстрирует принцип работы тематических моделей.\n",
    "\n",
    "Для выполнения заданий, помимо часто используемых в курсе библиотек, потребуются модули *json* и *gensim*. Первый входит в дистрибутив Anaconda, второй можно поставить командой \n",
    "\n",
    "*pip install gensim*\n",
    "лучше исталлировать через анаконду\n",
    "\n",
    "Построение модели занимает некоторое время. На ноутбуке с процессором Intel Core i7 и тактовой частотой 2400 МГц на построение одной модели уходит менее 10 минут."
   ]
  },
  {
   "cell_type": "markdown",
   "metadata": {},
   "source": [
    "### Загрузка данных"
   ]
  },
  {
   "cell_type": "markdown",
   "metadata": {},
   "source": [
    "Коллекция дана в json-формате: для каждого рецепта известны его id, кухня (cuisine) и список ингредиентов, в него входящих. Загрузить данные можно с помощью модуля json (он входит в дистрибутив Anaconda):"
   ]
  },
  {
   "cell_type": "code",
   "execution_count": 89,
   "metadata": {
    "collapsed": true
   },
   "outputs": [],
   "source": [
    "import json"
   ]
  },
  {
   "cell_type": "code",
   "execution_count": 90,
   "metadata": {
    "collapsed": true
   },
   "outputs": [],
   "source": [
    "with open(\"recipes.json\") as f:\n",
    "    recipes = json.load(f)"
   ]
  },
  {
   "cell_type": "code",
   "execution_count": 91,
   "metadata": {
    "collapsed": false
   },
   "outputs": [
    {
     "data": {
      "text/plain": [
       "39774"
      ]
     },
     "execution_count": 91,
     "metadata": {},
     "output_type": "execute_result"
    }
   ],
   "source": [
    "len(recipes)"
   ]
  },
  {
   "cell_type": "code",
   "execution_count": 92,
   "metadata": {
    "collapsed": false
   },
   "outputs": [
    {
     "name": "stdout",
     "output_type": "stream",
     "text": [
      "{'cuisine': 'filipino', 'id': 20130, 'ingredients': ['eggs', 'pepper', 'salt', 'mayonaise', 'cooking oil', 'green chilies', 'grilled chicken breasts', 'garlic powder', 'yellow onion', 'soy sauce', 'butter', 'chicken livers']}\n"
     ]
    }
   ],
   "source": [
    "print (recipes[2])"
   ]
  },
  {
   "cell_type": "markdown",
   "metadata": {},
   "source": [
    "### Составление корпуса"
   ]
  },
  {
   "cell_type": "code",
   "execution_count": 93,
   "metadata": {
    "collapsed": true
   },
   "outputs": [],
   "source": [
    "from gensim import corpora, models\n",
    "import numpy as np"
   ]
  },
  {
   "cell_type": "markdown",
   "metadata": {},
   "source": [
    "Наша коллекция небольшая, и целиком помещается в оперативную память. Gensim может работать с такими данными и не требует их сохранения на диск в специальном формате. Для этого коллекция должна быть представлена в виде списка списков, каждый внутренний список соответствует отдельному документу и состоит из его слов. Пример коллекции из двух документов: \n",
    "\n",
    "[[\"hello\", \"world\"], [\"programming\", \"in\", \"python\"]]\n",
    "\n",
    "Преобразуем наши данные в такой формат, а затем создадим объекты corpus и dictionary, с которыми будет работать модель."
   ]
  },
  {
   "cell_type": "code",
   "execution_count": 94,
   "metadata": {
    "collapsed": true
   },
   "outputs": [],
   "source": [
    "texts = [recipe[\"ingredients\"] for recipe in recipes]\n",
    "dictionary = corpora.Dictionary(texts)   # составляем словарь\n",
    "corpus = [dictionary.doc2bow(text) for text in texts]  # составляем корпус документов"
   ]
  },
  {
   "cell_type": "code",
   "execution_count": 146,
   "metadata": {
    "collapsed": false
   },
   "outputs": [
    {
     "data": {
      "text/plain": [
       "[{'cuisine': 'greek',\n",
       "  'id': 10259,\n",
       "  'ingredients': ['romaine lettuce',\n",
       "   'black olives',\n",
       "   'grape tomatoes',\n",
       "   'garlic',\n",
       "   'pepper',\n",
       "   'purple onion',\n",
       "   'seasoning',\n",
       "   'garbanzo beans',\n",
       "   'feta cheese crumbles']},\n",
       " {'cuisine': 'southern_us',\n",
       "  'id': 25693,\n",
       "  'ingredients': ['plain flour',\n",
       "   'ground pepper',\n",
       "   'salt',\n",
       "   'tomatoes',\n",
       "   'ground black pepper',\n",
       "   'thyme',\n",
       "   'eggs',\n",
       "   'green tomatoes',\n",
       "   'yellow corn meal',\n",
       "   'milk',\n",
       "   'vegetable oil']}]"
      ]
     },
     "execution_count": 146,
     "metadata": {},
     "output_type": "execute_result"
    }
   ],
   "source": [
    "list(recipes[:2]) #return the first two keys, items respectively:"
   ]
  },
  {
   "cell_type": "code",
   "execution_count": 95,
   "metadata": {
    "collapsed": false
   },
   "outputs": [
    {
     "name": "stdout",
     "output_type": "stream",
     "text": [
      "['romaine lettuce', 'black olives', 'grape tomatoes', 'garlic', 'pepper', 'purple onion', 'seasoning', 'garbanzo beans', 'feta cheese crumbles']\n",
      "[(0, 1), (1, 1), (2, 1), (3, 1), (4, 1), (5, 1), (6, 1), (7, 1), (8, 1)]\n"
     ]
    }
   ],
   "source": [
    "print (texts[0])\n",
    "print (corpus[0])"
   ]
  },
  {
   "cell_type": "code",
   "execution_count": 96,
   "metadata": {
    "collapsed": false
   },
   "outputs": [
    {
     "name": "stdout",
     "output_type": "stream",
     "text": [
      "Dictionary(6714 unique tokens: ['fat free ground turkey breast', 'calf liver', 'reduced sodium smoked ham', 'red food coloring', 'wide egg noodles']...)\n"
     ]
    }
   ],
   "source": [
    "print(dictionary)\n"
   ]
  },
  {
   "cell_type": "markdown",
   "metadata": {},
   "source": [
    "У объекта dictionary есть полезная переменная dictionary.token2id, позволяющая находить соответствие между ингредиентами и их индексами."
   ]
  },
  {
   "cell_type": "markdown",
   "metadata": {},
   "source": [
    "### Обучение модели\n",
    "Вам может понадобиться [документация](https://radimrehurek.com/gensim/models/ldamodel.html) LDA в gensim."
   ]
  },
  {
   "cell_type": "markdown",
   "metadata": {},
   "source": [
    "__Задание 1.__ Обучите модель LDA с 40 темами, установив количество проходов по коллекции 5 и оставив остальные параметры по умолчанию. \n",
    "\n",
    "\n",
    "Затем вызовите метод модели *show_topics*, указав количество тем 40 и количество токенов 10, и сохраните результат (топы ингредиентов в темах) в отдельную переменную. Если при вызове метода *show_topics* указать параметр *formatted=True*, то топы ингредиентов будет удобно выводить на печать, если *formatted=False*, будет удобно работать со списком программно. Выведите топы на печать, рассмотрите темы, а затем ответьте на вопрос:\n",
    "\n",
    "Сколько раз ингредиенты \"salt\", \"sugar\", \"water\", \"mushrooms\", \"chicken\", \"eggs\" встретились среди топов-10 всех 40 тем? При ответе __не нужно__ учитывать составные ингредиенты, например, \"hot water\".\n",
    "\n",
    "Передайте 6 чисел в функцию save_answers1 и загрузите сгенерированный файл в форму.\n",
    "\n",
    "У gensim нет возможности фиксировать случайное приближение через параметры метода, но библиотека использует numpy для инициализации матриц. Поэтому, по утверждению автора библиотеки, фиксировать случайное приближение нужно командой, которая написана в следующей ячейке. __Перед строкой кода с построением модели обязательно вставляйте указанную строку фиксации random.seed.__"
   ]
  },
  {
   "cell_type": "code",
   "execution_count": 97,
   "metadata": {
    "collapsed": false
   },
   "outputs": [],
   "source": [
    "np.random.seed(76543)\n",
    "# здесь код для построения модели:\n",
    "lda = models.LdaModel(corpus=corpus, num_topics=40, passes=5)"
   ]
  },
  {
   "cell_type": "code",
   "execution_count": 98,
   "metadata": {
    "collapsed": false
   },
   "outputs": [],
   "source": [
    "lda_topics = lda.show_topics(40, 10, formatted=False)"
   ]
  },
  {
   "cell_type": "code",
   "execution_count": 99,
   "metadata": {
    "collapsed": false
   },
   "outputs": [
    {
     "data": {
      "text/plain": [
       "[(0,\n",
       "  '0.103*\"26\" + 0.054*\"93\" + 0.043*\"53\" + 0.042*\"7\" + 0.041*\"96\" + 0.036*\"362\" + 0.035*\"231\" + 0.034*\"29\" + 0.033*\"16\" + 0.031*\"349\"'),\n",
       " (1,\n",
       "  '0.070*\"1294\" + 0.063*\"1875\" + 0.053*\"494\" + 0.050*\"1170\" + 0.049*\"1069\" + 0.041*\"605\" + 0.031*\"156\" + 0.028*\"238\" + 0.028*\"1084\" + 0.027*\"867\"'),\n",
       " (2,\n",
       "  '0.096*\"352\" + 0.059*\"979\" + 0.056*\"534\" + 0.038*\"569\" + 0.037*\"1229\" + 0.035*\"770\" + 0.035*\"1137\" + 0.032*\"522\" + 0.028*\"166\" + 0.028*\"293\"'),\n",
       " (3,\n",
       "  '0.107*\"64\" + 0.085*\"16\" + 0.056*\"1\" + 0.047*\"13\" + 0.046*\"23\" + 0.044*\"210\" + 0.035*\"1074\" + 0.034*\"241\" + 0.031*\"317\" + 0.023*\"235\"'),\n",
       " (4,\n",
       "  '0.134*\"228\" + 0.071*\"578\" + 0.053*\"989\" + 0.049*\"1037\" + 0.046*\"23\" + 0.039*\"475\" + 0.034*\"1296\" + 0.033*\"625\" + 0.026*\"842\" + 0.024*\"87\"'),\n",
       " (5,\n",
       "  '0.077*\"840\" + 0.062*\"16\" + 0.061*\"472\" + 0.058*\"35\" + 0.056*\"32\" + 0.055*\"184\" + 0.052*\"7\" + 0.033*\"54\" + 0.032*\"11\" + 0.032*\"45\"'),\n",
       " (6,\n",
       "  '0.082*\"28\" + 0.066*\"68\" + 0.061*\"140\" + 0.032*\"667\" + 0.030*\"18\" + 0.030*\"106\" + 0.030*\"837\" + 0.028*\"231\" + 0.028*\"1004\" + 0.024*\"1638\"'),\n",
       " (7,\n",
       "  '0.048*\"146\" + 0.047*\"92\" + 0.045*\"249\" + 0.042*\"141\" + 0.042*\"85\" + 0.037*\"97\" + 0.034*\"997\" + 0.030*\"307\" + 0.027*\"111\" + 0.027*\"342\"'),\n",
       " (8,\n",
       "  '0.088*\"278\" + 0.077*\"16\" + 0.069*\"106\" + 0.067*\"102\" + 0.044*\"215\" + 0.043*\"116\" + 0.041*\"54\" + 0.036*\"29\" + 0.034*\"120\" + 0.033*\"14\"'),\n",
       " (9,\n",
       "  '0.076*\"77\" + 0.067*\"16\" + 0.066*\"120\" + 0.064*\"106\" + 0.058*\"54\" + 0.040*\"391\" + 0.036*\"110\" + 0.034*\"78\" + 0.032*\"42\" + 0.031*\"14\"'),\n",
       " (10,\n",
       "  '0.093*\"78\" + 0.064*\"309\" + 0.061*\"106\" + 0.059*\"57\" + 0.045*\"250\" + 0.044*\"54\" + 0.036*\"79\" + 0.035*\"36\" + 0.033*\"16\" + 0.033*\"14\"'),\n",
       " (11,\n",
       "  '0.056*\"59\" + 0.045*\"16\" + 0.044*\"112\" + 0.036*\"72\" + 0.036*\"45\" + 0.032*\"68\" + 0.029*\"519\" + 0.026*\"54\" + 0.026*\"7\" + 0.026*\"469\"'),\n",
       " (12,\n",
       "  '0.077*\"202\" + 0.073*\"714\" + 0.057*\"153\" + 0.053*\"567\" + 0.046*\"938\" + 0.041*\"394\" + 0.041*\"5\" + 0.041*\"803\" + 0.038*\"6\" + 0.033*\"1044\"'),\n",
       " (13,\n",
       "  '0.089*\"24\" + 0.074*\"82\" + 0.041*\"16\" + 0.039*\"479\" + 0.039*\"227\" + 0.034*\"40\" + 0.033*\"216\" + 0.026*\"229\" + 0.026*\"354\" + 0.025*\"7\"'),\n",
       " (14,\n",
       "  '0.138*\"488\" + 0.093*\"377\" + 0.065*\"129\" + 0.037*\"829\" + 0.035*\"681\" + 0.030*\"80\" + 0.026*\"633\" + 0.022*\"684\" + 0.021*\"1\" + 0.021*\"1681\"'),\n",
       " (15,\n",
       "  '0.076*\"551\" + 0.064*\"621\" + 0.060*\"432\" + 0.047*\"243\" + 0.043*\"431\" + 0.041*\"727\" + 0.039*\"396\" + 0.037*\"99\" + 0.037*\"154\" + 0.029*\"319\"'),\n",
       " (16,\n",
       "  '0.144*\"256\" + 0.092*\"330\" + 0.058*\"12\" + 0.047*\"103\" + 0.043*\"991\" + 0.042*\"334\" + 0.037*\"78\" + 0.029*\"792\" + 0.026*\"713\" + 0.024*\"691\"'),\n",
       " (17,\n",
       "  '0.132*\"188\" + 0.068*\"54\" + 0.064*\"555\" + 0.050*\"7\" + 0.041*\"16\" + 0.037*\"40\" + 0.036*\"357\" + 0.033*\"393\" + 0.033*\"1\" + 0.028*\"259\"'),\n",
       " (18,\n",
       "  '0.095*\"40\" + 0.064*\"16\" + 0.054*\"195\" + 0.039*\"29\" + 0.037*\"254\" + 0.034*\"7\" + 0.032*\"200\" + 0.031*\"214\" + 0.029*\"1\" + 0.028*\"46\"'),\n",
       " (19,\n",
       "  '0.112*\"312\" + 0.088*\"193\" + 0.079*\"53\" + 0.057*\"462\" + 0.045*\"302\" + 0.045*\"203\" + 0.039*\"364\" + 0.036*\"16\" + 0.034*\"50\" + 0.030*\"121\"'),\n",
       " (20,\n",
       "  '0.057*\"95\" + 0.056*\"89\" + 0.048*\"177\" + 0.033*\"26\" + 0.033*\"277\" + 0.030*\"381\" + 0.029*\"446\" + 0.028*\"29\" + 0.027*\"163\" + 0.027*\"242\"'),\n",
       " (21,\n",
       "  '0.084*\"33\" + 0.081*\"16\" + 0.055*\"22\" + 0.051*\"40\" + 0.038*\"274\" + 0.036*\"29\" + 0.035*\"32\" + 0.035*\"344\" + 0.031*\"11\" + 0.029*\"37\"'),\n",
       " (22,\n",
       "  '0.167*\"13\" + 0.121*\"19\" + 0.082*\"23\" + 0.076*\"16\" + 0.057*\"121\" + 0.035*\"53\" + 0.033*\"51\" + 0.029*\"50\" + 0.027*\"29\" + 0.027*\"755\"'),\n",
       " (23,\n",
       "  '0.135*\"144\" + 0.077*\"234\" + 0.068*\"276\" + 0.067*\"20\" + 0.056*\"916\" + 0.046*\"458\" + 0.040*\"155\" + 0.033*\"233\" + 0.024*\"94\" + 0.024*\"28\"'),\n",
       " (24,\n",
       "  '0.077*\"1080\" + 0.072*\"31\" + 0.072*\"774\" + 0.055*\"452\" + 0.045*\"478\" + 0.041*\"641\" + 0.041*\"508\" + 0.038*\"53\" + 0.037*\"66\" + 0.029*\"1081\"'),\n",
       " (25,\n",
       "  '0.067*\"525\" + 0.063*\"53\" + 0.052*\"29\" + 0.048*\"830\" + 0.044*\"186\" + 0.041*\"1218\" + 0.036*\"314\" + 0.031*\"10\" + 0.025*\"1572\" + 0.024*\"70\"'),\n",
       " (26,\n",
       "  '0.142*\"121\" + 0.111*\"16\" + 0.085*\"203\" + 0.066*\"51\" + 0.060*\"53\" + 0.050*\"311\" + 0.044*\"290\" + 0.042*\"312\" + 0.032*\"397\" + 0.032*\"18\"'),\n",
       " (27,\n",
       "  '0.105*\"267\" + 0.080*\"244\" + 0.074*\"316\" + 0.058*\"201\" + 0.054*\"577\" + 0.042*\"74\" + 0.038*\"11\" + 0.037*\"231\" + 0.028*\"40\" + 0.024*\"189\"'),\n",
       " (28,\n",
       "  '0.057*\"743\" + 0.056*\"656\" + 0.053*\"949\" + 0.045*\"790\" + 0.044*\"428\" + 0.038*\"928\" + 0.030*\"1039\" + 0.030*\"1546\" + 0.028*\"1008\" + 0.026*\"922\"'),\n",
       " (29,\n",
       "  '0.100*\"54\" + 0.069*\"7\" + 0.054*\"61\" + 0.052*\"14\" + 0.043*\"660\" + 0.035*\"16\" + 0.033*\"313\" + 0.032*\"353\" + 0.027*\"543\" + 0.025*\"672\"'),\n",
       " (30,\n",
       "  '0.133*\"143\" + 0.082*\"679\" + 0.063*\"23\" + 0.061*\"246\" + 0.046*\"16\" + 0.043*\"435\" + 0.042*\"205\" + 0.040*\"1\" + 0.034*\"190\" + 0.030*\"121\"'),\n",
       " (31,\n",
       "  '0.086*\"60\" + 0.044*\"477\" + 0.043*\"218\" + 0.041*\"179\" + 0.036*\"501\" + 0.036*\"137\" + 0.028*\"275\" + 0.027*\"467\" + 0.025*\"96\" + 0.025*\"18\"'),\n",
       " (32,\n",
       "  '0.104*\"444\" + 0.049*\"531\" + 0.049*\"1043\" + 0.048*\"16\" + 0.043*\"53\" + 0.039*\"130\" + 0.038*\"365\" + 0.038*\"29\" + 0.031*\"203\" + 0.027*\"1076\"'),\n",
       " (33,\n",
       "  '0.131*\"49\" + 0.081*\"48\" + 0.067*\"388\" + 0.059*\"819\" + 0.053*\"541\" + 0.032*\"336\" + 0.029*\"372\" + 0.029*\"310\" + 0.028*\"279\" + 0.024*\"387\"'),\n",
       " (34,\n",
       "  '0.089*\"41\" + 0.063*\"54\" + 0.059*\"16\" + 0.030*\"2\" + 0.025*\"106\" + 0.025*\"14\" + 0.024*\"3\" + 0.024*\"523\" + 0.023*\"78\" + 0.023*\"1\"'),\n",
       " (35,\n",
       "  '0.082*\"176\" + 0.074*\"650\" + 0.063*\"434\" + 0.061*\"1125\" + 0.037*\"53\" + 0.034*\"589\" + 0.030*\"1604\" + 0.030*\"180\" + 0.029*\"888\" + 0.029*\"1391\"'),\n",
       " (36,\n",
       "  '0.054*\"40\" + 0.053*\"16\" + 0.045*\"45\" + 0.038*\"126\" + 0.037*\"109\" + 0.033*\"7\" + 0.032*\"273\" + 0.029*\"18\" + 0.027*\"29\" + 0.026*\"37\"'),\n",
       " (37,\n",
       "  '0.067*\"495\" + 0.067*\"372\" + 0.062*\"124\" + 0.056*\"894\" + 0.053*\"373\" + 0.041*\"49\" + 0.039*\"1177\" + 0.035*\"512\" + 0.032*\"509\" + 0.031*\"2028\"'),\n",
       " (38,\n",
       "  '0.095*\"533\" + 0.084*\"3\" + 0.064*\"600\" + 0.038*\"586\" + 0.032*\"11\" + 0.030*\"999\" + 0.029*\"280\" + 0.029*\"1089\" + 0.028*\"622\" + 0.022*\"1255\"'),\n",
       " (39,\n",
       "  '0.082*\"217\" + 0.048*\"358\" + 0.041*\"7\" + 0.040*\"36\" + 0.039*\"70\" + 0.035*\"113\" + 0.027*\"29\" + 0.026*\"338\" + 0.025*\"559\" + 0.024*\"53\"')]"
      ]
     },
     "execution_count": 99,
     "metadata": {},
     "output_type": "execute_result"
    }
   ],
   "source": [
    "lda.show_topics(40, 10, formatted=True)"
   ]
  },
  {
   "cell_type": "code",
   "execution_count": 100,
   "metadata": {
    "collapsed": true
   },
   "outputs": [],
   "source": [
    "def save_answers1(c_salt, c_sugar, c_water, c_mushrooms, c_chicken, c_eggs):\n",
    "    with open(\"cooking_LDA_pa_task1.txt\", \"w\") as fout:\n",
    "        fout.write(\" \".join([str(el) for el in [c_salt, c_sugar, c_water, c_mushrooms, c_chicken, c_eggs]]))"
   ]
  },
  {
   "cell_type": "code",
   "execution_count": 101,
   "metadata": {
    "collapsed": false
   },
   "outputs": [],
   "source": [
    "all_words = []\n",
    "for topic in lda_topics:\n",
    "    for word_freq in topic[1]:\n",
    "        all_words.append(word_freq[0])"
   ]
  },
  {
   "cell_type": "code",
   "execution_count": 19,
   "metadata": {
    "collapsed": false
   },
   "outputs": [
    {
     "name": "stdout",
     "output_type": "stream",
     "text": [
      "['26', '93', '53', '7', '96', '362', '231', '29', '16', '349', '1294', '1875', '494', '1170', '1069', '605', '156', '238', '1084', '867', '352', '979', '534', '569', '1229', '770', '1137', '522', '166', '293', '64', '16', '1', '13', '23', '210', '1074', '241', '317', '235', '228', '578', '989', '1037', '23', '475', '1296', '625', '842', '87', '840', '16', '472', '35', '32', '184', '7', '54', '11', '45', '28', '68', '140', '667', '18', '106', '837', '231', '1004', '1638', '146', '92', '249', '141', '85', '97', '997', '307', '111', '342', '278', '16', '106', '102', '215', '116', '54', '29', '120', '14', '77', '16', '120', '106', '54', '391', '110', '78', '42', '14', '78', '309', '106', '57', '250', '54', '79', '36', '16', '14', '59', '16', '112', '72', '45', '68', '519', '54', '7', '469', '202', '714', '153', '567', '938', '394', '5', '803', '6', '1044', '24', '82', '16', '479', '227', '40', '216', '229', '354', '7', '488', '377', '129', '829', '681', '80', '633', '684', '1', '1681', '551', '621', '432', '243', '431', '727', '396', '99', '154', '319', '256', '330', '12', '103', '991', '334', '78', '792', '713', '691', '188', '54', '555', '7', '16', '40', '357', '393', '1', '259', '40', '16', '195', '29', '254', '7', '200', '214', '1', '46', '312', '193', '53', '462', '302', '203', '364', '16', '50', '121', '95', '89', '177', '26', '277', '381', '446', '29', '163', '242', '33', '16', '22', '40', '274', '29', '32', '344', '11', '37', '13', '19', '23', '16', '121', '53', '51', '50', '29', '755', '144', '234', '276', '20', '916', '458', '155', '233', '94', '28', '1080', '31', '774', '452', '478', '641', '508', '53', '66', '1081', '525', '53', '29', '830', '186', '1218', '314', '10', '1572', '70', '121', '16', '203', '51', '53', '311', '290', '312', '397', '18', '267', '244', '316', '201', '577', '74', '11', '231', '40', '189', '743', '656', '949', '790', '428', '928', '1039', '1546', '1008', '922', '54', '7', '61', '14', '660', '16', '313', '353', '543', '672', '143', '679', '23', '246', '16', '435', '205', '1', '190', '121', '60', '477', '218', '179', '501', '137', '275', '467', '96', '18', '444', '531', '1043', '16', '53', '130', '365', '29', '203', '1076', '49', '48', '388', '819', '541', '336', '372', '310', '279', '387', '41', '54', '16', '2', '106', '14', '3', '523', '78', '1', '176', '650', '434', '1125', '53', '589', '1604', '180', '888', '1391', '40', '16', '45', '126', '109', '7', '273', '18', '29', '37', '495', '372', '124', '894', '373', '49', '1177', '512', '509', '2028', '533', '3', '600', '586', '11', '999', '280', '1089', '622', '1255', '217', '358', '7', '36', '70', '113', '29', '338', '559', '53']\n"
     ]
    }
   ],
   "source": [
    "print(all_words)"
   ]
  },
  {
   "cell_type": "code",
   "execution_count": 102,
   "metadata": {
    "collapsed": true
   },
   "outputs": [],
   "source": [
    "from collections import Counter\n",
    "cnt = Counter(all_words)"
   ]
  },
  {
   "cell_type": "code",
   "execution_count": 20,
   "metadata": {
    "collapsed": false
   },
   "outputs": [
    {
     "name": "stdout",
     "output_type": "stream",
     "text": [
      "Counter({'16': 19, '29': 10, '7': 9, '53': 9, '54': 8, '1': 6, '40': 6, '106': 5, '14': 5, '11': 4, '78': 4, '23': 4, '18': 4, '121': 4, '231': 3, '203': 3, '45': 3, '312': 2, '36': 2, '50': 2, '26': 2, '49': 2, '120': 2, '372': 2, '32': 2, '70': 2, '68': 2, '28': 2, '13': 2, '96': 2, '3': 2, '51': 2, '37': 2, '130': 1, '1875': 1, '66': 1, '74': 1, '2': 1, '656': 1, '830': 1, '559': 1, '633': 1, '195': 1, '1177': 1, '792': 1, '41': 1, '452': 1, '10': 1, '274': 1, '979': 1, '446': 1, '95': 1, '190': 1, '1604': 1, '250': 1, '293': 1, '141': 1, '246': 1, '317': 1, '1137': 1, '494': 1, '650': 1, '989': 1, '85': 1, '188': 1, '1039': 1, '103': 1, '501': 1, '469': 1, '311': 1, '234': 1, '1296': 1, '176': 1, '35': 1, '867': 1, '233': 1, '1080': 1, '1008': 1, '144': 1, '60': 1, '338': 1, '364': 1, '193': 1, '577': 1, '277': 1, '1076': 1, '1004': 1, '309': 1, '33': 1, '458': 1, '1255': 1, '59': 1, '235': 1, '42': 1, '314': 1, '353': 1, '428': 1, '310': 1, '202': 1, '743': 1, '48': 1, '543': 1, '1089': 1, '273': 1, '186': 1, '146': 1, '279': 1, '605': 1, '600': 1, '1391': 1, '200': 1, '302': 1, '508': 1, '377': 1, '349': 1, '894': 1, '354': 1, '916': 1, '1084': 1, '80': 1, '691': 1, '140': 1, '472': 1, '153': 1, '1681': 1, '478': 1, '64': 1, '102': 1, '6': 1, '201': 1, '488': 1, '1572': 1, '280': 1, '249': 1, '82': 1, '997': 1, '714': 1, '551': 1, '241': 1, '475': 1, '352': 1, '819': 1, '99': 1, '143': 1, '278': 1, '24': 1, '57': 1, '22': 1, '509': 1, '555': 1, '12': 1, '275': 1, '316': 1, '72': 1, '290': 1, '184': 1, '93': 1, '154': 1, '259': 1, '388': 1, '586': 1, '625': 1, '1546': 1, '713': 1, '829': 1, '227': 1, '803': 1, '479': 1, '109': 1, '79': 1, '431': 1, '999': 1, '166': 1, '242': 1, '467': 1, '373': 1, '928': 1, '31': 1, '189': 1, '533': 1, '569': 1, '770': 1, '391': 1, '156': 1, '276': 1, '667': 1, '94': 1, '254': 1, '387': 1, '111': 1, '1170': 1, '89': 1, '837': 1, '394': 1, '77': 1, '97': 1, '949': 1, '679': 1, '681': 1, '660': 1, '267': 1, '774': 1, '61': 1, '362': 1, '2028': 1, '1069': 1, '477': 1, '1638': 1, '495': 1, '344': 1, '124': 1, '210': 1, '519': 1, '672': 1, '567': 1, '525': 1, '217': 1, '938': 1, '179': 1, '840': 1, '444': 1, '755': 1, '790': 1, '243': 1, '336': 1, '1037': 1, '462': 1, '180': 1, '727': 1, '129': 1, '46': 1, '218': 1, '357': 1, '991': 1, '1081': 1, '19': 1, '155': 1, '87': 1, '397': 1, '126': 1, '432': 1, '523': 1, '1294': 1, '1218': 1, '1229': 1, '1044': 1, '541': 1, '684': 1, '205': 1, '578': 1, '334': 1, '622': 1, '435': 1, '307': 1, '522': 1, '238': 1, '365': 1, '358': 1, '589': 1, '313': 1, '319': 1, '228': 1, '113': 1, '330': 1, '621': 1, '244': 1, '20': 1, '177': 1, '1043': 1, '215': 1, '92': 1, '214': 1, '381': 1, '641': 1, '512': 1, '922': 1, '216': 1, '434': 1, '256': 1, '1125': 1, '163': 1, '531': 1, '396': 1, '842': 1, '1074': 1, '5': 1, '342': 1, '110': 1, '137': 1, '112': 1, '888': 1, '534': 1, '393': 1, '229': 1, '116': 1})\n"
     ]
    }
   ],
   "source": [
    "print(cnt)"
   ]
  },
  {
   "cell_type": "code",
   "execution_count": 103,
   "metadata": {
    "collapsed": true
   },
   "outputs": [],
   "source": [
    "words=[\"salt\", \"sugar\", \"water\", \"mushrooms\", \"chicken\", \"eggs\"]"
   ]
  },
  {
   "cell_type": "code",
   "execution_count": 43,
   "metadata": {
    "collapsed": false
   },
   "outputs": [
    {
     "name": "stdout",
     "output_type": "stream",
     "text": [
      "{'fat free ground turkey breast': 5950, 'calf liver': 3995, 'reduced sodium smoked ham': 6369, 'red food coloring': 1832, 'wide egg noodles': 2460, 'black bean and corn salsa': 3277, 'Old El Paso™ refried beans': 5461, 'white wine': 313, 'duck breast halves': 1087, 'dill': 1151, 'stuffing': 686, 'Old El Paso™ mild red enchilada sauce': 1056, 'liquid sweetener': 6390, 'chicken base': 3284, 'beef jerky': 2934, 'zucchini blossoms': 5418, 'pickling cucumbers': 2845, 'wish bone red wine vinaigrett dress': 5281, 'chile powder': 222, 'crushed cheese crackers': 6713, 'candied fruit': 3172, 'eau de vie': 801, 'roasted unsalted cashews': 2689, 'chicken fingers': 1219, 'tortilla shells': 3279, 'thick-cut bacon': 1897, 'peaches in light syrup': 4875, 'honey roasted peanuts': 1981, 'asiago': 437, 'corned beef': 1510, 'cabernet': 4647, 'cola soft drink': 1603, 'Bartlett Pear': 5008, 'dashi kombu': 1158, 'hubbard squash': 5864, 'apricots': 1481, 'Ritz Crackers': 2854, 'dipping chocolate': 6127, 'cream style cottage cheese': 5436, 'sausage links': 1728, 'graham cracker crumbs': 620, 'empanada wrappers': 4075, 'table cream': 1149, 'soya flour': 5096, 'wasabe': 4470, 'Johnsonville® Mild Italian Ground Sausage': 5401, 'wheat cereal': 4222, 'pork roast': 2101, 'Makers Mark Whisky': 6690, 'lasagna noodles, cooked and drained': 2633, 'freshly ground pepper': 250, 'double cream': 39, 'broccoli stems': 2995, 'flour tortillas (not low fat)': 3518, 'havarti': 4589, 'lumpia wrappers': 4347, 'cotija': 1518, 'white cake mix': 3758, 'blood sausage': 2805, 'organic granulated sugar': 3714, 'tvp': 5498, 'McCormick Parsley Flakes': 1291, 'diced lamb': 2466, 'buns': 1967, 'vegetable juice cocktail': 4533, 'artichokes': 1175, 'Hidden Valley® Farmhouse Originals Italian with Herbs Dressing': 6565, 'alcohol': 2150, 'small green chile': 5767, 'hamburger': 2947, 'nonfat block cream cheese': 4909, 'turkey breast cutlets': 2189, 'queso fresco': 886, \"Piment d'Espelette\": 3351, 'kelp': 2967, 'tapioca': 2810, 'chorizo spanish': 570, 'soy nuts': 2908, 'beef bouillon granules': 1328, 'v 8 juice': 5830, 'pink food coloring': 5317, 'cherry peppers': 2679, 'white creme de cacao': 4604, 'haddock': 3397, 'toasted pecans': 371, 'ground almonds': 1772, 'baby potatoes': 538, 'curry sauce mix': 6310, 'sweet potatoes or yams': 2220, 'vermicelli noodles': 1097, 'tapioca flour': 1335, 'egg pasta': 3662, 'thin spaghetti': 3046, 'Pepperidge Farm Puff Pastry Sheets': 6186, 'snappers': 1514, 'bertolli vineyard premium collect marinara with burgundi wine sauc': 951, 'dried chives': 3801, 'milk': 19, 'asian basil': 1579, 'chestnut spread': 6473, 'chicken carcass': 3245, 'organic low sodium chicken broth': 6095, 'burgundy snails': 4550, 'pita chips': 4901, 'Kraft Mayonnaise': 6115, 'vanilla low-fat frozen yogurt': 6625, 'soybean paste': 2619, 'margarita salt': 954, 'organic vegetable stock': 6030, 'onion soup mix': 3332, 'ic pop': 6336, 'couscous': 400, 'peeled canned low sodium tomatoes': 6254, 'jerusalem artichokes': 3852, 'gingerroot': 870, 'lemon vodka': 5227, 'eggplant': 357, 'glucose syrup': 5634, 'drambuie': 4042, 'Knorr Chicken Stock Cubes': 5171, 'cilantro root': 2404, 'pace picante sauce': 4547, 'pareve margarine': 6146, 'asakusa nori': 3699, 'carrot greens': 2554, 'cooked chicken breasts': 2203, 'red grapefruit': 3638, 'frozen strawberries': 1505, 'safflower oil': 920, 'low-fat salad dressing': 5075, 'cornish hens': 2992, 'kiwifruit': 4961, 'marinara sauce': 170, 'low sodium salt': 4526, 'low fat mozzarella': 3509, 'dried leaves oregano': 3012, 'red leaf lettuce': 3099, 'apple puree': 4970, 'low-fat plain yogurt': 2595, 'lap cheong': 5151, 'herb seasoned stuffing mix': 4978, 'turkey meatballs': 5147, 'water crackers': 5609, 'whole wheat penne rigate': 5423, 'french fried onions': 2459, 'lemon soda': 1306, 'orecchiette': 1775, 'chopped potatoes': 5775, 'collard leaves': 3311, 'swordfish steaks': 2212, 'empanada': 5389, 'large eggs': 203, 'spring onions': 928, 'vegetarian refried beans': 2063, 'kewra water': 4287, 'cooked vermicelli': 1971, \"Best Food's Mayonnaise with Lime Juice\": 3985, 'prune juice': 3382, 'less sodium reduced fat ham': 4499, 'almond syrup': 6036, 'wax beans': 966, 'gooseberries': 1746, 'kewra': 3275, 'vanilla low-fat ic cream': 3481, 'peaches in syrup': 2560, 'yuca': 4773, 'butter extract': 5434, 'bean paste': 1022, 'purple grapes': 3799, 'venison roast': 5866, 'dried shallots': 6524, 'lemon cake mix': 6384, 'fresh coriander': 790, 'old-fashioned oats': 1534, 'prawns': 483, 'split black lentils': 2766, 'long pasta': 2204, 'beef demi-glace': 2596, 'pork sausage links': 4259, 'glutinous rice flour': 1093, 'split peas': 4270, 'fresh tarragon': 842, 'sweet italian sausage': 1641, 'ruby port': 3504, 'frozen peppers and onions': 2454, 'reduced fat italian dressing': 4746, 'sweet yellow corn': 3483, 'green lentil': 1809, 'beef stew': 1435, 'oyster sauce': 177, 'sweet and sour sauce': 194, 'pomelo': 3623, 'oliv pit ripe': 4056, 'crumb crust': 4276, 'fresh parsley': 213, 'rioja': 2318, 'cooked long-grain brown rice': 5689, 'starchy potatoes': 451, 'agar': 3721, 'mung bean noodles': 3734, 'cream cheese with chives and onion': 3263, 'shrimp chips': 5092, 'white flour': 2452, 'Mazola® Chicken Flavor Bouillon Powder': 4738, 'condensed milk': 1958, 'sweet gherkin': 5624, 'thin deli ham': 3151, 'Balsamico Bianco': 2344, 'yellow split peas': 3089, 'burdock': 2727, 'Mae Ploy Sweet Chili Sauce': 5132, 'loin pork chops': 5747, 'peanut sauce': 341, 'shredded swiss cheese': 1943, 'pan drippings': 2237, 'grapeseed oil': 961, 'hickory-flavored liquid smoke': 3257, '40% less sodium taco seasoning mix': 5207, 'chili beans': 1523, 'strawberry extract': 5703, 'chilli bean sauce': 4949, 'lemon': 314, 'filet': 974, 'nacho cheese tortilla chips': 4735, 'medjool date': 876, 'cherry preserves': 1841, 'fat free ice cream': 5506, 'low sodium vegetable stock': 5557, 'soft-shelled crabs': 6508, 'plain whole-milk yogurt': 646, 'dried apple rings': 5992, 'ranch-style seasoning': 6695, 'smoked turkey': 1550, 'beef marrow': 3992, 'allspice berries': 1173, 'low-fat white sauce': 5192, \"I Can't Believe It's Not Butter!® All Purpose Sticks\": 3544, 'maraschino': 5537, 'lamb loin': 5591, 'light tuna packed in olive oil': 4485, 'turkey legs': 1549, 'ginger ale': 1370, 'crushed red pepper': 307, 'whole milk yoghurt': 2744, 'cold milk': 2550, 'pinenuts': 556, 'prosciutto fat': 6510, 'pancetta slices': 6494, 'napa cabbage leaves': 536, 'fat-free cheddar cheese': 4504, 'bottled balsamic vinaigrette': 2280, 'whole cloves': 1830, 'chai tea concentrate': 5844, 'padron peppers': 5750, 'red pepper flakes': 660, 'shiso': 1156, 'juniper berries': 2240, 'arhar dal': 5472, 'boneless skinless chicken breast halves': 679, 'powdered buttermilk': 1819, 'nonfat frozen yogurt': 6324, 'cooked bacon': 1933, 'gluten-free oyster sauce': 6505, 'boiled ham': 1145, 'vanilla beans': 2029, 'hot pepper sauce': 233, 'opo squash': 3839, 'szechwan peppercorns': 1020, 'sushi nori': 4559, 'carnitas': 3632, 'delicata squash': 6183, 'baby beets': 1543, 'kappa': 5701, 'gluten free soy sauce': 1536, 'oil-cured black olives': 3506, 'braggs liquid aminos': 5692, 'dried lentils': 1983, 'candied citron peel': 3589, 'petits pois': 5377, 'Crystal Farms® Shredded Cheddar Cheese': 3358, 'Doubanjiang': 5251, 'red currants': 6175, 'cherries': 1630, 'diced bacon': 6531, 'hoja santa': 6584, 'lambrusco': 3555, 'no salt added chicken broth': 2273, 'whole cranberry sauce': 1715, 'crushed graham crackers': 4689, 'tomato ketchup': 893, 'shank half': 5178, 'crushed garlic': 230, 'unsulphured molasses': 5568, 'BACARDI® Mixers Margarita Mix': 2804, 'bread, cut french into loaf': 4718, 'baking sugar': 6311, 'fat skimmed chicken broth': 402, 'cilantro stems': 1993, '2% reduced-fat milk': 532, 'Lea & Perrins Worcestershire Sauce': 3894, 'chocolate drink': 3337, 'sweet potatoes': 124, 'sardines': 2617, 'Alfredo sauce': 1508, 'spanish rice': 1919, 'sausage meat': 3795, 'curly parsley': 5381, 'Foster Farms boneless skinless chicken breasts': 6391, 'branzino fillets': 1161, 'cabbage': 175, 'lobster': 2046, 'soaking liquid': 1954, 'mellow white miso': 6456, '1% low-fat milk': 336, 'Old El Paso™ chopped green chiles': 2135, 'white grape juice': 5886, 'cayenne': 404, 'cod roe': 5895, \"Colman's Mustard Powder\": 6676, 'panettone': 2364, 'pork tenderloin': 1004, 'nigari tofu': 4990, 'prepar pesto': 3150, 'onion powder': 216, 'ale': 3014, 'chopped celery': 501, 'green soybeans': 3953, 'sirloin steak': 2257, 'hominy': 466, 'gluten free blend': 1421, 'carbonated beverages': 1164, 'flank steak': 111, 'tawny port': 2647, 'low sodium broth': 5851, 'mature cheddar': 3747, 'spiced rum': 1623, 'cooked deli ham': 6624, 'persimmon': 3409, 'sourdough baguette': 1013, 'ginseng': 2334, 'creamed horseradish': 6215, 'tuna packed in water': 3583, 'honey glazed ham': 2577, 'rice bran oil': 2176, 'swordfish fillets': 3086, 'lemon olive oil': 286, 'condensed reduced fat reduced sodium cream of chicken soup': 5735, 'chocolate fudge ice cream': 5564, 'jello': 4358, 'fried garlic': 1104, 'young leeks': 6109, 'dried sage': 1722, 'pasilla chile pepper': 6033, 'loin pork roast': 2048, 'chili pepper flakes': 2011, 'fresno chiles': 4257, 'crab boil': 291, 'whole wheat bread': 2009, 'liquid honey': 2238, 'italian meatballs': 6598, 'nuoc mam': 3365, 'condensed cream of chicken soup': 568, 'crab': 2797, 'millet': 3209, 'basa fillets': 5073, 'peanut butter chips': 6415, 'center cut bacon': 2828, 'chicken parts': 3249, 'turkey burger': 2927, 'pastis': 3496, 'filé': 6131, 'vermouth': 3174, 'wide rice noodles': 1240, 'Oscar Mayer Bacon': 1321, 'non dairy yogurt': 5017, 'roast breast of chicken': 4868, 'flavored vodka': 4048, 'frozen broccoli florets': 3879, 'arugula': 1091, 'turkey gravy': 3102, 'yellow onion': 21, 'jamaican rum': 3222, 'TACO BELL® Thick & Chunky Mild Salsa': 6255, 'reduced sodium beef broth': 3615, 'dry mustard': 94, 'skate': 5135, 'littleneck clams': 2007, 'flat anchovy': 1908, 'toasted wheat germ': 3670, 'veal bones': 4451, 'cumin': 472, 'mexican style 4 cheese blend': 2061, 'kochu chang': 6063, 'crusty sandwich rolls': 1639, 'ciabatta buns': 4677, 'plain flour': 10, 'preserves': 3444, 'soft-wheat flour': 2439, 'saffron threads': 827, 'fenugreek seeds': 937, 'Madras curry powder': 1461, 'hot sausage': 4186, 'turtle': 5419, 'sherry wine vinegar': 3058, 'quick-cooking barley': 1494, 'low-fat cream cheese': 3694, 'ground sausage': 2638, 'bee pollen': 4303, 'rice mix': 6478, 'ham hock': 251, 'Yoplait® Greek 100 blackberry pie yogurt': 3447, 'hard cheese': 5271, 'dark leafy greens': 3206, 'Bisquick Original All-Purpose Baking Mix': 5562, 'top round roast': 4578, 'mung beans': 2597, 'fresno pepper': 6211, 'endive': 3575, 'Stonefire Italian Thin Pizza Crust': 5028, 'condensed cream of broccoli soup': 6076, 'bulb fennel': 5307, 'lemon thyme': 2847, 'breast': 6019, 'millet flour': 4166, 'chicken breasts': 144, 'Heinz Chili Sauce': 3876, 'carrot juice': 6612, 'fruit puree': 4156, 'ume plum vinegar': 4794, 'mousse': 5981, 'seasoned rice wine vinegar': 683, 'pineapple chunks': 2474, 'beefsteak tomatoes': 2208, 'pie crust mix': 2964, 'Mexican beer': 823, 'blood orange': 474, 'chicken thigh fillets': 2304, 'guajillo chile powder': 3581, 'chardonnay': 3400, 'tree ear mushrooms': 4870, 'whole wheat bread slices': 6027, 'vidalia': 967, 'English toffee bits': 5031, 'whole wheat breadcrumbs': 2378, 'orange pekoe tea': 2463, 'gluten-free baking powder': 3542, 'chestnut flour': 439, 'saffron': 396, 'pork picnic roast': 4985, 'baby broccoli': 3925, 'sausages': 86, 'country style bread': 2634, 'reduced fat reduced sodium cream of mushroom soup': 6291, \"Hellmann's® Real Mayonnaise\": 2740, 'kohlrabi': 4713, 'cappuccino': 5944, 'halibut steak': 3030, 'cream cheese, soften': 1099, 'instant yeast': 787, 'pasilla chiles': 1699, 'pappadams': 4009, 'roquefort cheese': 3501, 'Klondike Rose red skin potato': 4023, 'chocolate extract': 6671, 'pink grapefruit': 2681, 'sandwiches': 3649, 'gluten-free chicken stock': 2473, 'preserved lemon': 398, 'flax seeds': 5856, 'pig': 2274, 'dri oregano leaves, crush': 3064, 'banana leaves': 3834, 'sole': 2658, 'petite peas': 1439, 'cinnamon graham crackers': 499, 'fresh orange juice': 1875, 'pie filling': 4408, 'almond paste': 2695, 'red chile sauce': 3619, 'red bean paste': 3874, 'mustard powder': 500, 'frozen mashed potatoes': 6151, 'arrowroot starch': 3604, 'bouquet': 2659, 'rice paddy herb': 3946, 'condensed reduced fat reduced sodium tomato soup': 6401, 'ruby red grapefruit': 3534, 'redfish': 3660, 'stew': 3815, 'Pam Cooking Spray': 5999, 'licor 43': 5984, 'Thai chili garlic sauce': 3486, 'sausage casings': 395, 'Robert Mondavi Fume Blanc': 4139, 'red grape': 3328, 'boneless chicken cutlet': 4929, \"BREAKSTONE'S Sour Cream\": 4521, 'lime zest': 561, 'soybean sprouts': 2721, 'kidney': 3831, 'fish paste': 4184, 'whey': 2285, 'madeira wine': 5790, 'low fat shred cheddar chees sharp varieti': 6543, 'Ranch Style Beans': 5284, 'filo': 4502, 'hot smoked paprika': 4368, 'corn niblets': 3766, 'smoked sausage': 1382, 'anise seed': 1583, \"Eggland's Best® eggs\": 5882, 'sandwich rolls': 2451, 'puff pastry': 834, 'seasoned ground turkey': 5678, 'won ton wrappers': 1948, 'orange flower water': 1788, 'tortelloni': 6657, 'watermelon seeds': 6038, 'chicken broth': 143, 'long grain brown rice': 2677, 'fish broth': 3273, 'barbecue sauce': 1167, 'orange blossom honey': 647, 'cooking apples': 3630, 'lamb shoulder': 1873, 'ahi': 1714, 'thai chile': 701, 'tofu sour cream': 6668, 'fudge cake mix': 6190, 'ricotta cheese': 755, 'fresh spinach leaves, rins and pat dry': 3882, 'pickled jalapeno peppers': 885, 'ladyfingers': 1577, 'Pillsbury™ classic pizza crust': 6278, 'grilled chicken': 2400, 'amba': 5986, 'merlot': 3743, 'challa': 4561, 'blacan': 5737, 'crushed pineapples in juice': 2876, 'semolina flour': 2588, 'yellow cake mix': 282, 'steamed white rice': 1007, 'fresh thyme leaves': 960, 'Lipton Lemon Iced Tea Mix': 6514, 'nopales': 2912, 'beaten eggs': 1526, 'coconut milk': 358, 'sweet corn kernels': 3673, 'ground paprika': 1773, 'pita wedges': 3679, 'tentacles': 4177, 'white onion': 469, 'taro leaf': 4824, 'white cheddar cheese': 1564, 'jumbo shells': 5429, 'jalape': 3901, 'chinese hot mustard': 1409, 'pickling liquid': 3939, 'tilapia fillets': 1640, 'culantro': 4960, 'Crisco Pure Canola Oil': 5397, 'chopped cooked meat': 5481, 'Mexican lager beer': 5527, 'raw milk': 2866, 'frozen onion rings': 6243, 'balsamic vinegar': 391, 'light red kidney beans': 1985, 'egg noodles, cooked and drained': 2614, 'yellow heirloom tomatoes': 6152, 'spicy sausage': 3178, 'sodium reduced chicken broth': 5344, 'beef deli roast slice thinli': 3538, 'cashew nuts': 900, 'fresh fava bean': 607, 'graham cracker crusts': 3141, 'frozen potatoes': 5511, 'low fat graham cracker crumbs': 4278, 'bean curd': 4766, 'hillshire farms low fat sausage': 4345, 'chicory': 5827, 'panko breadcrumbs': 386, 'piloncillo': 540, 'Haas avocados': 2852, 'chicken broth low fat': 5970, 'teleme': 2506, 'lotus leaves': 6627, 'cola': 3788, 'boneless veal shoulder': 4865, 'america': 3976, 'black garlic': 6434, 'candied peel': 4343, 'reduced sodium chicken stock': 4119, 'tarragon': 2072, 'cantaloupe': 1876, 'moonshine': 6061, 'top sirloin': 1936, 'Greek black olives': 5680, 'dried split peas': 3247, 'frozen mango': 3411, 'mint chocolate chip ice cream': 6270, 'cortland apples': 6547, 'seeds': 1546, 'psyllium husks': 5084, 'quick-cooking hominy grits': 5240, 'stewing beef': 1739, 'raspberry preserves': 2231, 'large curd cottage cheese': 5170, 'sato imo': 6617, 'dry lasagna': 3073, 'onion slices': 4461, 'water chestnuts, drained and chopped': 811, 'tortellini, cook and drain': 6432, 'low-fat canned coconut milk': 6105, 'ground sumac': 4700, 'ditalini': 2824, 'cabernet sauvignon': 2261, 'boneless center cut pork chops': 1003, 'prepared pasta sauce': 2780, 'BACARDI® Superior': 2803, 'empanada dough': 5503, 'low-fat feta': 5447, 'Rice Krispies Cereal': 5405, 'bottled low sodium salsa': 6280, 'lean minced beef': 2993, 'fingerling potatoes': 429, 'strawberry yogurt': 3765, 'andouille sausage': 208, 'cherry juice': 2447, 'shredded low-fat cheddar cheese': 4906, 'fish fillets': 1277, 'crescent dinner rolls': 5608, 'phyllo pastry': 3025, 'sweet tea': 4361, 'basil olive oil': 3135, 'soft buns': 5414, 'skinless snapper fillets': 6630, 'sweet onion': 435, 'chicken salad': 3530, 'seasoned bread crumbs': 1010, 'pork liver': 2933, 'chilcostle chile': 3975, 'huckleberries': 6621, 'e-fu noodl': 2246, 'jelly': 2512, 'kidney beans': 845, 'ground caraway': 4182, 'rib eye steaks': 872, 'Equal Sweetener': 1695, 'marrow': 4573, 'creole mustard': 778, 'pork fillet': 4098, 'whipped topping': 1576, 'rolled oats': 1913, 'mesquite flavored seasoning mix': 5761, 'jerk paste': 4762, 'canned tomatoes': 1921, 'sweet cream butter': 5661, 'black cardamom pods': 2976, 'hot chocolate mix': 4712, 'sweet chili sauce': 1052, 'shortbread cookies': 1592, 'meat cuts': 5587, 'aged balsamic vinegar': 2160, 'double-acting baking powder': 1086, 'Meyer lemon juice': 4200, 'large sausage casing': 3256, 'fresh chile': 1674, 'Italian turkey sausage links': 4544, 'large free range egg': 2553, 'herbed goat cheese': 3197, 'unsalted dry roast peanuts': 1064, 'naan': 127, 'pineapple slices': 3458, 'corn flour': 1121, 'mild salsa': 4913, 'Burgundy wine': 4194, 'salted butter': 789, 'ice water': 1170, 'crescent rolls': 4450, 'cooking wine': 1021, 'red jalapeno peppers': 4835, 'reduced sugar ketchup': 6518, 'granny smith apples': 603, 'white wine vinegar': 475, 'vanilla bean seeds': 6511, 'prepared lasagne': 3536, 'brown sauce': 6449, 'pumpernickel': 4810, 'light soy sauce': 176, 'cracker meal': 5107, 'komatsuna': 2360, 'swanson beef broth': 2692, 'homemade vegetable stock': 3692, 'coffee low-fat frozen yogurt': 3380, 'white asparagus': 3190, 'haddock fillets': 2787, 'kelp noodles': 3873, 'fatfree lowsodium chicken broth': 1341, 'crayfish': 4814, 'fresh thyme': 318, 'chipotle peppers': 976, \"i can't believ it' not butter! made with olive oil spread\": 3881, 'muffin mix': 5633, 'beef tenderloin': 1489, 'habanero': 3271, 'ginkgo nut': 6316, 'cointreau': 2861, 'nuoc nam': 4769, 'caster': 1155, 'chia seeds': 3395, 'lemon extract': 2049, 'button mushrooms': 691, 'Royal Baking Powder': 5148, 'dry fettuccine': 5421, 'hoisin sauce': 151, 'Jell-O Gelatin': 3095, 'sheep’s milk cheese': 1232, 'candied chestnuts': 6156, 'mcintosh apples': 5380, 'coffee ice cream': 441, 'brown rice vinegar': 2652, 'fresh chorizo': 2241, 'tea leaves': 4360, 'masa harina': 1084, 'toasted pumpkinseeds': 3888, 'Ortega Tostada Shells': 4201, 'mexicorn': 2623, 'egg roll wrappers': 198, '2% milk shredded mozzarella cheese': 6689, 'Hogue Cabernet Sauvignon': 6463, 'corn flakes': 4309, 'japanese radish': 6375, 'Spanish olives': 4283, 'tomatoes': 11, 'Stonefire Italian Artisan Pizza Crust': 4549, 'Indian spice': 3776, 'Gold Medal All Purpose Flour': 5404, 'frozen basil': 4153, 'lean ground pork': 810, 'mild green chiles': 3233, 'mackerel fillets': 2196, 'soft-shell clams': 2839, 'bacon drippings': 289, 'Meyer lemon peel': 4512, 'chocolate ice cream mix': 4457, 'flounder fillets': 2340, 'whole nutmegs': 389, 'flax egg': 6396, 'other vegetables': 4781, 'San Marzano Crushed Tomatoes': 4622, 'focaccia': 2222, 'kamut flour': 5476, 'reduced sodium kidney beans': 5698, 'daikon': 574, 'rutabaga': 1493, 'tangerine': 1835, 'fresh udon': 3283, 'San Marzano Diced Tomatoes': 4384, '95% lean ground beef': 3719, 'Good Seasons Italian Dressing Mix': 5909, 'Italian parsley leaves': 107, 'knorr parslei minicub': 2583, 'vanilla extract': 50, 'boneless pork shoulder roast': 2501, 'full fat coconut milk': 3785, 'avocado dressing': 5202, 'asparagus bean': 5528, 'onion gravy': 4615, 'powdered sugar icing': 5813, 'dri leav thyme': 846, 'store bought low sodium chicken broth': 2073, 'varnish clams': 1402, 'large shrimp': 448, 'brisket': 3460, 'jumbo macaroni shells': 4235, 'ground pecans': 4007, 'dulong': 5965, 'molasses': 199, 'reduced sodium canned chicken broth': 4506, 'italian chicken sausage': 4863, 'reduced fat cheddar cheese': 2851, 'frozen shelled edamame': 3596, 'coffee beans': 975, 'walnut pieces': 3609, 'sparkling wine': 3321, 'pepper jack': 1777, 'grate lime peel': 1058, 'ginger purée': 3759, 'whole allspice': 2051, 'water packed artichoke hearts': 5382, 'chocolate sprinkles': 2944, 'smoked salmon': 2370, 'jambalaya rice mix': 232, 'vegetarian chicken': 5561, 'tiger prawn': 1787, 'soy chorizo': 4548, 'beef base': 4132, 'vegan Worcestershire sauce': 5065, 'okra pods': 414, 'pepper flakes': 1282, 'toasted pine nuts': 2181, 'english muffins, split and toasted': 480, 'leaf lettuce': 3213, 'serrano peppers': 1572, '1% low-fat cottage cheese': 1516, 'turkey salami': 3890, 'Lipton Sparkling Diet Green Tea with Strawberry Kiwi': 5249, 'active dry yeast': 864, 'cream sweeten whip': 549, 'grated orange peel': 1082, 'chinese barbecue sauce': 4306, 'savoy cabbage': 752, 'pepitas': 465, 'pomegranate': 4837, 'boneless sirloin steak': 4164, 'dried pasta': 2036, 'wheat beer': 4340, 'nonfat evaporated milk': 2226, 'gravy': 1566, 'soy marinade': 1408, 'dumpling dough': 4354, 'fuji apples': 3349, 'picholine': 3052, 'korean chile paste': 4341, 'Hidden Valley® Greek Yogurt Original Ranch® Dip Mix': 6710, 'cooking liquid': 2398, 'cracked black pepper': 352, 'peas': 1377, 'green pesto': 4754, 'jack cheese': 1030, 'olive oil cooking spray': 1050, 'shelled pistachios': 1920, 'white bread slices': 5205, 'Pillsbury™ Refrigerated Crescent Dinner Rolls': 1055, 'curry paste': 612, 'keema': 4511, 'unsalted roasted pistachios': 3131, 'orgeat syrup': 6595, 'lop chong': 6711, 'steamed rice': 1310, 'whole wheat pastry flour': 2193, 'fresh sea bass': 4977, 'caramel syrup': 6607, 'tatsoi': 6289, 'cooked barley': 2327, 'flan': 5059, 'short pasta': 1740, 'long grain white rice': 1276, 'paratha': 3024, 'potato nuggets': 5898, 'peaches': 1294, 'McCormick® Pure Vanilla Extract': 2963, 'Jell-O Gelatin Dessert': 1557, 'orzo': 1262, 'bouillon cube': 2516, 'pork back ribs': 4583, 'sorghum molasses': 4121, 'crushed tomatoes': 354, 'bhindi': 1930, 'marinade': 1490, 'pink grapefruit juice': 2680, 'fresh turmeric': 1598, 'taleggio': 3433, 'meat glaze': 5930, 'sharp white cheddar cheese': 2761, 'homemade chicken stock': 1585, 'homemade meatballs': 6548, 'hot Italian sausages': 1416, 'chinese wolfberries': 4157, 'nacho chips': 4214, 'smoked turkey drumstick': 3313, 'parmigiano-reggiano cheese': 1535, 'frozen garden peas': 6071, 'green tea leaves': 5821, 'rustic bread': 5808, 'butter beans': 2004, 'sirloin tip roast': 453, 'knorr garlic minicub': 2152, 'durum wheat flour': 5727, 'toast points': 5121, 'nigella seeds': 2084, 'rome apples': 3497, 'corn oil': 295, 'medium shrimp uncook': 1955, 'broad beans': 5248, 'celery ribs': 623, 'mackerel': 4645, 'sweet bean paste': 5250, 'low sodium beef stock': 3594, 'meringue powder': 6187, 'cantal': 2706, 'diced red onions': 2527, 'hot sauce': 209, 'coarse sea salt': 1111, 'scotch bonnet chile': 1569, 'baked tortilla chips': 1837, 'cajun seasoning mix': 5130, 'coriander seeds': 431, 'oil of orange': 3793, 'no-salt-added black beans': 2272, 'pepperocini': 2665, 'gochugaru': 3272, 'ground lamb': 528, 'truffles': 3017, 'boy choy': 5474, 'tamales': 2696, 'Saigon cinnamon': 2922, 'butter-margarine blend': 3048, 'vegan mayonnaise': 2129, 'burger rolls': 6072, 'rhubarb': 917, 'boneless skinless chicken breasts': 796, 'vital wheat gluten': 5363, 'umeboshi vinegar': 1866, 'sazon seasoning': 3550, 'kosher salt': 79, 'demerara sugar': 579, 'turkey meat': 2622, 'simple syrup': 1331, 'wasabi': 850, 'Belgian endive': 2122, 'black rice': 4019, 'shredded American cheese': 6557, 'purple potatoes': 5961, 'finely ground coffee': 5125, 'fat': 401, 'cherry syrup': 5037, 'jujube': 5261, 'sub buns': 2346, 'linguisa': 6593, 'gravy master': 5664, 'mahimahi': 2080, 'dried mango': 4063, 'açai powder': 4302, 'shredded carrots': 481, 'european style butter': 4564, 'drumstick': 729, 'salmon roe': 2371, 'hot chili oil': 2750, 'Ragu Golden Veggie Fettuccine Pasta': 5164, 'besan (flour)': 1931, 'cream': 874, 'barolo': 6039, 'mini m&ms': 3338, 'boneless skinless chicken': 1006, 'dark molasses': 1568, 'baby radishes': 3393, 'Godiva Chocolate Liqueur': 3988, 'roasting chickens': 2558, 'sugarcane': 3387, 'chicken wings': 726, 'cherrystone clams': 4664, 'shredded low-fat cheddar': 6074, 'duck fat': 1237, 'Scotch whisky': 3735, 'seltzer water': 1828, 'brown rice syrup': 2686, 'unsalted peanut butter': 2953, 'Kahlua Liqueur': 3689, 'coars ground black pepper': 5365, 'sweet chorizo': 3548, 'Estancia Pinot Noir': 3733, 'diced green chilies': 1522, 'chunky': 3773, 'chicken in water': 5190, 'crumbles': 3212, 'Progresso™ Chicken Broth': 4271, 'apple jelly': 4010, 'chili sauce': 739, 'membrillo': 378, 'celery heart': 2955, 'soft rolls': 5322, 'Spice Islands® Minced Garlic': 5885, 'shredded Italian cheese': 3610, 'lipton pure leaf unsweeten iced tea': 6343, 'no-salt-added diced tomatoes': 2534, 'shredded low-fat jarlsberg cheese': 5722, 'grill seasoning': 3505, 'sole fillet': 1892, 'sliced green olives': 3449, 'hot fudge topping': 6632, 'navy beans': 599, 'bittersweet chocolate chips': 3147, 'kiwi fruits': 3319, 'kabocha squash': 4213, 'english breakfast tea': 6526, 'plain low-fat yogurt': 1761, 'almond milk': 2776, 'harissa sauce': 5104, 'sub rolls': 6031, 'cinnamon': 894, 'whole wheat potato buns': 5732, 'rice wine': 1223, 'cod': 504, 'semolina': 635, 'dried chickpeas': 637, 'mint extract': 4995, 'Greek dressing': 4492, 'cranberry beans': 2825, 'light agave nectar': 5245, 'pepper sauce': 1432, 'japanese peanuts': 5702, 'flavored oil': 4315, 'short-grain rice': 632, 'vine tomatoes': 1918, 'skinless and boneless chicken breast fillet': 5768, 'Pernod Liqueur': 4979, 'gluten-free spaghetti': 6247, 'refrigerated seamless crescent dough': 5927, 'refried black beans': 3959, 'nonfat chicken broth': 4646, 'mini bananas': 6207, 'bow-tie pasta': 1445, 'broccolini': 142, 'ground round': 2039, 'nonfat buttermilk': 2567, 'tuna': 946, 'white cannellini beans': 4263, 'malt vinegar': 1357, 'fresh marjoram': 1319, 'sea scallops': 1060, 'cinnamon rolls': 2500, 'chinese pepper': 6479, 'Crispy Rice Cereal': 4438, 'TACO BELL® HOME ORIGINALS® Taco Seasoning Mix': 6553, 'Anaheim chile': 2157, 'tortilla wraps': 4254, 'doritos': 2233, 'bittersweet baking chocolate': 5823, 'low fat cream': 4000, 'taco meat': 2377, 'chopped fresh sage': 1210, 'licorice root': 5777, 'lo bok': 6305, 'sliced chorizo': 3331, 'atlantic cod fillets': 5183, 'pork tenderloin medallions': 3986, 'pheasant': 2508, 'unsalted cashews': 588, 'linguini': 2205, 'cream of chicken soup': 703, 'uncooked rigatoni': 1275, 'sprinkles': 1315, 'mixed seafood': 2898, 'palm oil': 2441, 'yellow mustard': 1067, 'extra-lean ground beef': 666, 'king oyster mushroom': 5113, 'Lipton® Recipe Secrets® Onion Soup Mix': 4867, 'duck egg': 5800, 'white truffle oil': 2242, 'pork rib chops': 2738, 'aleppo pepper': 1842, 'pork butt': 1358, 'flour tortillas': 201, 'dried bonito': 5538, 'dried salted codfish': 2893, 'chicken noodle soup': 1143, 'malted milk powder': 4414, 'relish': 1656, 'pork shoulder roast': 721, 'icing': 1709, 'Herdez Salsa Casera': 4032, 'custard powder': 2248, 'pea pods': 3707, 'Nido Milk Powder': 6428, 'ammonium bicarbonate': 4920, 'spring roll skins': 2793, 'stem ginger': 5738, 'smoked turkey sausage': 3304, 'southwest seasoning': 4517, 'chapatti flour': 4721, 'potatoes': 212, 'fillet of beef': 5002, 'knorr chipotl minicub': 3066, 'ground tumeric': 1831, 'holy basil': 3698, 'garlic flakes': 1989, 'buffalo mozarella': 6283, 'dry bread crumbs': 503, \"tony chachere's seasoning\": 5850, 'biscuit mix': 2172, 'peppermint': 4650, 'soya cheese': 5154, 'anchovy paste': 2211, 'tostadas': 2911, 'peanuts': 178, 'black fungus': 2570, 'deviled ham': 5667, 'hard-boiled egg': 685, 'boneless lamb': 1998, 'reduced fat firm tofu': 3374, 'malt': 5836, 'basil pesto sauce': 1200, 'cherry gelatin': 2878, 'country ham': 780, 'coulis': 3375, 'kalamansi juice': 4367, 'Kraft Big Slice Pepper Jack Cheese Slices': 5938, 'asadero': 1431, 'lowfat pepper jack cheese': 3473, 'chicken consomme': 4939, 'Bengali 5 Spice': 5270, 'dark rum': 571, 'brownie layer': 4458, 'sheepshead': 4218, 'basmati': 2031, 'pickled radish': 2653, 'Knorr® Vegetable recipe mix': 4728, 'ground pepper': 12, 'toasted nuts': 2522, 'chicken feet': 2140, 'lotus seeds': 3682, 'brown sugar': 373, 'shuck corn': 3153, 'regular tofu': 5803, 'laksa paste': 5935, 'dried thyme': 350, 'pie shell': 1846, 'less sodium chicken broth': 5497, 'low-fat greek yogurt': 3306, 'chrysanthemum leaves': 4599, 'KRAFT Mexican Style Finely Shredded Four Cheese': 3455, 'whipping cream': 302, 'green chile sauce': 5946, 'shoga': 3474, 'burro banana': 2918, 'xuxu': 1805, 'cake pound prepar': 6003, 'worcestershire sauce low sodium': 2640, 'pierogi': 2368, 'accompaniment': 4581, 'ripe olives': 2347, 'plum sauce': 1110, 'cubed potatoes': 4292, 'green olives': 1607, 'ground meat': 1254, 'fresh mozzarella': 2020, 'chinese turnip': 5631, 'roasted peanuts': 149, 'frozen pound cake': 4654, 'organic butter': 5520, 'lima beans': 2607, 'seafood seasoning': 1251, 'grape tomatoes': 5, 'squid tube': 5054, 'loosely packed fresh basil leaves': 1808, 'salted mixed nuts': 5489, 'wild mushrooms': 1662, 'low-fat shredded cheddar cheese': 2736, 'fava beans': 841, 'avocado leaves': 3877, 'red wine': 821, 'lower sodium soy sauce': 491, 'turkey ham': 5697, 'refrigerated piecrusts': 704, 'ground oregano': 2388, 'gluten-free hoisin sauce': 1300, 'non fat chicken stock': 5306, 'frozen whipped topping': 617, 'low fat low sodium chicken broth': 4941, 'pectin': 4439, 'karo': 2593, 'radicchio': 1136, 'chopped ham': 2988, 'KRAFT Mexican Style Shredded Four Cheese with a TOUCH OF PHILADELPHIA': 6015, 'knorr homestyl stock   beef': 4987, 'Splenda Brown Sugar Blend': 2158, 'waffle': 3560, 'ramen noodle soup': 6641, 'sucralose sweetener': 5408, 'condiments': 717, 'ancho chili ground pepper': 4591, 'limoncello': 2164, 'v8': 5853, 'anise powder': 6403, 'shungiku': 2642, 'ground asafetida': 6184, 'knorr tomato bouillon with chicken flavor': 5888, 'skinless chicken pieces': 2716, 'whole milk ricotta cheese': 443, 'pesto': 315, 'cavatappi': 2755, 'hot pepper rings': 5988, 'smoked bratwurst': 4643, 'lemon curd': 131, 'kabuli channa': 5672, 'taco seasoning': 795, 'chopped fresh thyme': 672, 'tri-tip steak': 6474, 'dark beer': 2217, 'steel-cut oats': 762, 'confit duck leg': 1877, 'Camellia Red Kidney Beans': 5963, 'Holland House White Wine Vinegar': 6647, 'Neapolitan ice cream': 2194, 'sablefish': 1667, 'coconut syrup': 6571, 'salted anchovies': 6179, 'falafel': 4630, 'Kerrygold Pure Irish Butter': 2959, 'self-rising cake flour': 1678, 'parsley sprigs': 1391, 'low sodium store bought chicken stock': 4325, 'sour mix': 5046, 'cashew milk': 5015, 'natural sugar': 5346, 'green bellpepper': 6638, 'dried mint flakes': 526, 'file powder': 2332, 'corn kernel whole': 3491, '(10 oz.) frozen chopped spinach, thawed and squeezed dry': 1988, 'red beets': 1214, 'vine leaves': 4782, 'filling': 5766, 'lamb racks': 5505, 'wafer': 2707, 'gelato': 1840, 'medium dry sherry': 3015, 'soy-based liquid seasoning': 6651, 'yellow peas': 4903, 'swordfish': 5259, 'fat-free mayonnaise': 1227, 'garlic bread': 4060, 'dry gin': 3996, 'fresh orange': 4467, 'apple slice': 6237, 'fresh asparagus': 408, 'seasoned panko bread crumbs': 6520, 'vegetable slaw': 4003, 'poultry seasoning': 1368, 'cooking spray': 120, 'rotel tomatoes': 1753, 'schmaltz': 4577, 'roast beef': 3489, 'rump roast': 2260, 'beef cheek': 5224, 'chestnuts': 438, 'color food orang': 4709, 'lacinato kale': 3915, 'chocolate mousse': 3121, 'raw cane sugar': 3732, 'crabmeat': 972, 'white chocolate': 2641, 'horseradish sauce': 3031, 'red mullet': 4912, 'miso sesame grilling sauce': 4236, 'sweet soy': 3457, 'black bass': 5754, 'sliced beets': 5642, 'extra lean ground beef': 1794, 'marrons': 2890, 'dulce de leche': 2019, 'other': 6265, 'treacle': 3027, 'potato chips': 2419, 'lobster tails': 3861, 'saltine crumbs': 2092, 'dry coconut': 1519, 'caramel flavored syrup': 5794, 'swiss steak': 2814, 'Thai eggplants': 5539, 'brazil nuts': 4532, 'nonfat mayonnaise': 4772, 'bechamel': 4237, 'bicarbonate of soda': 2229, 'smoked turkey breast': 3535, 'chinese pea pods': 5636, 'Spice Islands Garlic Salt': 6545, 'bird pepper': 6112, 'hierba santa': 4861, 'cointreau liqueur': 6332, 'baby artichokes': 5385, 'wish bone guacamol ranch dress': 985, 'tomato basil sauce': 3085, 'fat skimmed reduced sodium chicken broth': 3224, 'guajillo': 824, 'olive oil mayonnaise': 5180, 'beef carpaccio': 6468, 'jamaican pumpkin': 3577, 'louisiana hot sauce': 1186, 'cubed ham': 4079, 'Johnsonville Smoked Sausage': 3652, 'natto': 4507, 'groundnut': 3487, 'low sodium black beans': 4582, 'fat-free refried beans': 947, 'Gochujang base': 360, 'salad dressing mix': 5229, 'ketchup': 916, 'frozen banana': 1727, 'condensed french onion soup': 3298, 'fermented bean curd': 3731, 'Heinz Ketchup': 5585, 'spicy brown mustard': 159, 'soda': 1682, 'Skippy Creamy Peanut Butter': 2771, 'boneless pork loin': 356, 'whole wheat angel hair pasta': 6427, 'noodles': 514, 'veal escalopes': 6603, 'non-dairy margarine': 2572, 'sorghum': 3090, 'lime leaves': 3112, 'frozen carrots': 2576, 'orange slices': 2842, 'raw peeled prawns': 5900, 'skinned boned duck breast halves': 4602, 'steak': 454, 'roux': 3867, 'vegetable bouillon cube': 4758, 'instant chicken bouillon': 4398, 'vanilla almondmilk': 4761, 'nonstick spray': 669, 'peeled shrimp': 1356, 'bagels': 1499, 'small yellow onion': 5706, 'cornbread stuffing mix': 2066, 'canola': 1991, 'reduced sodium teriyaki sauce': 4858, 'dried mixed herbs': 2298, 'sesame seed paste': 5576, 'turkey breast tenderloins': 4087, 'vegetables': 792, 'whole wheat pita bread': 2610, 'Progresso Artichoke Hearts': 6176, 'chicken heart': 5962, 'veggie crumbles': 3611, 'edamame': 1298, 'chicken leg quarters': 535, 'savory': 2471, 'chinese cabbage': 812, 'knorr pasta side   cheesi cheddar': 6691, 'shallots': 36, 'compote': 2860, 'baobab fruit powder': 5686, 'Southern Comfort Liqueur': 4420, 'chinese radish': 6544, 'low sodium crushed tomatoes': 6090, 'CURRY GUY Smoked Spicy Salt': 3620, 'peppermint extract': 3710, 'paneer cheese': 996, 'red preserved bean curd': 2940, 'wagon wheels': 2875, 'rotelle': 2457, 'dried orange peel': 5602, 'low-fat flour tortillas': 5336, 'dried neem leaves': 6522, 'fresh ginger': 97, 'celery seed': 1879, 'ras el hanout': 529, 'beans': 1028, 'vegetable soup': 6048, 'flat leaf spinach': 2492, 'spelt flour': 2600, 'italian seasoning mix': 956, 'gingersnap crumbs': 3872, 'applesauce': 1857, 'red chile powder': 896, 'condensed chicken broth': 1791, 'kim chee': 4113, 'breakfast sausage links': 5410, 'oat flour': 4574, 'ginger root': 1718, 'margarita mix': 853, 'Baileys Irish Cream Liqueur': 2943, 'mexican chorizo': 990, 'light cream': 1942, 'Martha White Cornbread Mix': 4416, 'roasted ground cumin': 2921, 'catfish': 1197, 'green bell pepper': 200, 'italian seasoning': 134, 'maui onion': 5991, 'grated horseradish': 2519, 'country loaf': 5133, 'romaine lettuce leaves': 882, 'egg substitute': 1425, 'bottom round roast': 4413, 'chunk light tuna in water': 2863, 'hot italian turkey sausage': 6309, 'beef tongue': 4412, 'lime juice': 113, 'papad': 3842, 'plain breadcrumbs': 1191, 'Zatarain’s Jambalaya Mix': 2453, 'dried sardines': 5066, 'almond filling': 4980, 'cocktail cherries': 2446, \"Campbell's Condensed Cream of Chicken Soup\": 1732, 'chocolate shavings': 3173, 'cream ic peach': 3738, 'roasted hazelnuts': 2125, 'poured fondant': 4418, 'coleslaw dressing': 6197, 'chutney': 1360, 'chinese ginger': 4819, 'golden caster sugar': 2552, 'vinaigrette': 2524, 'belacan': 3170, 'fingerling': 6579, 'green tomatoes': 17, 'yeast': 1710, 'whole wheat baguette': 4571, 'fresh rosemary': 353, 'gai lan': 1672, 'snapper head': 5023, 'radish sprouts': 3265, 'lime': 70, 'pastry dough': 1934, 'turkey broth': 1648, 'manioc flour': 4531, 'shiraz': 5285, 'milk chocolate kisses': 6118, 'cabbage head': 3825, 'prosecco': 1646, 'rose water': 1716, 'blue curaçao': 4002, 'mini cucumbers': 1117, 'butter crackers': 1469, 'cream of shrimp soup': 3688, 'canned salmon': 4676, 'spam': 1040, 'Kikkoman Soy Sauce': 4667, 'amchur': 427, 'banana peppers': 1687, 'grating cheese': 1150, 'pandan extract': 1888, 'hot chili': 138, 'chinese sausage': 2023, 'pignolis': 4565, 'yucca root': 5577, 'Herdez Salsa': 6497, 'canola oil': 85, 'asian barbecue sauce': 3137, 'poultry': 4546, 'tobiko': 4796, 'pandanus leaf': 1939, 'red apples': 4846, 'shredded Monterey Jack cheese': 696, 'barley miso': 5452, 'marsala wine': 1852, 'textured soy protein': 3942, 'hot pepperoni': 6594, 'chinese buns': 5477, 'low-fat cheese': 4508, 'brandy': 2028, 'barley': 449, 'almonds': 723, 'soft margarine': 6644, 'blood orange juice': 2262, 'boneless beef sirloin steak': 3246, 'Knorr® Pasta Sides™ - Butter & Herb': 6530, 'dried navy beans': 1388, 'reduced fat ranch dressing': 3726, 'sandwich bread': 4146, 'smoked chorizo': 5785, 'nonfat milk': 604, 'pearl tapioca': 3681, 'chicken bouillon': 712, 'penne pasta': 392, 'greek seasoning': 1343, 'whole peel tomatoes, undrain and chop': 3111, 'red radishes': 1026, 'low-fat balsamic vinaigrette': 5618, 'hungarian hot paprika': 6159, 'radish slices': 4741, 'cooking cream': 4950, 'Old Bay Blackened Seasoning': 6320, 'parsley root': 5290, 'canned beans': 5621, 'boneless chops': 5453, 'pickle juice': 4397, 'grilled chicken breasts': 25, 'table wine': 6367, 'hash brown': 1396, 'vegetarian protein crumbles': 3399, 'red delicious apples': 2496, 'marjoram': 1774, 'red beans': 558, 'canadian bacon': 2357, 'shredded cabbage': 196, 'smoked & dried fish': 5004, 'coconut water': 3754, 'cannoli shells': 4427, 'chinkiang vinegar': 1655, 'skim milk': 638, 'cooked shrimp': 971, 'pimento stuffed olives': 3827, 'clams, well scrub': 2100, 'lemonade': 3677, 'compressed yeast': 5105, 'bulgur': 1872, 'shredded romano cheese': 5140, 'tomatillo salsa': 1180, 'provolone cheese': 80, 'Flora Cuisine': 611, 'filipino eggplant': 4436, 'longaniza': 3569, 'montreal steak seasoning': 5297, 'vegetable oil cooking spray': 478, 'tandoori seasoning': 3421, 'stout': 2648, 'beef gravy': 4967, 'guanciale': 3499, 'pumpkin seeds': 1698, 'hot chili sauce': 2166, 'yuzu juice': 5465, 'roma tomatoes': 157, 'sago pearls': 6238, 'vegetable-filled ravioli': 5485, 'chocolate candy': 5889, 'rich chicken stock': 3706, 'black walnut': 2874, 'medium eggs': 1176, 'oriental radish': 5280, 'yucca': 5232, 'canton noodles': 4658, 'low sodium taco seasoning': 3330, 'soda water': 1786, 'low sodium teriyaki sauce': 3889, 'anise oil': 6167, 'chunky tomatoes': 6675, 'water chestnuts': 931, 'serrano chile': 277, 'turnip greens': 779, 'seaweed': 740, 'bénédictine': 5721, 'frozen vegetables': 2133, 'pork spareribs': 1923, 'semisweet vegan chocolate chips': 5880, 'chinese winter melon': 6467, 'brill': 6446, 'lamb chops': 1556, 'no salt added canned tomatoes': 6637, 'cream of mushroom soup': 1547, 'dip mix': 6517, 'melted butter': 326, 'Stonefire Tandoori Garlic Naan': 6640, 'apricot preserves': 1220, 'liquor': 4415, 'cactus leaf': 2142, 'Mizkan Rice Vinegar': 4541, 'pita bread rounds': 689, 'crab sticks': 6454, 'lettuce': 1242, 'goya sazon': 6503, 'sushi rice': 1680, 'chocolate liqueur': 6398, 'low fat mild Italian turkey sausage': 4476, 'oyster liquor': 6381, 'fillet medallions': 5669, 'chaat masala': 1683, 'taco toppings': 1754, 'shortening': 830, 'cucuzza': 6240, 'cilantro sprigs': 1638, 'mie': 4635, 'salt free seasoning': 5753, 'unsalted pistachios': 4036, 'chocolate sticks': 5350, 'chocolate cake mix': 3301, 'split yellow lentils': 6150, 'smoked sweet Spanish paprika': 2317, 'light butter': 2819, 'plain seltzer': 5276, 'slider buns': 5933, 'reduced sodium vegetable stock': 5957, 'white kidney beans': 3091, 'dried Thai chili': 3868, 'liver sausage': 6276, 'catalina dressing': 3438, 'wasabi paste': 767, 'thin rice stick noodles': 3454, 'pork roll': 2700, 'hard shelled clams': 4918, 'jambalaya mix': 5177, 'conger eel': 6397, 'caramel ice cream': 3822, 'reduced fat provolone cheese': 3782, 'redfish fillet': 2394, 'spinach': 129, 'morel': 1513, 'bone broth': 4168, 'canned snails': 5161, 'raspberry jam': 1798, 'sambuca': 2367, 'mojo marinade': 4611, 'turkey giblet stock': 6686, 'dried shiitake mushrooms': 630, 'turbot': 1812, 'olive oil spray': 1821, 'vanilla bean paste': 3471, 'spaghetti squash': 3240, 'raisin bread': 1348, 'pecorino cheese': 907, 'cavatelli': 3641, 'butternut squash': 781, 'Kroger Black Beans': 5342, \"hellmann' or best food light mayonnais\": 3043, 'chicken gravy': 3308, 'tangerine juice': 2620, 'collard greens': 248, 'old bay seasoning': 292, 'flavored wine': 6004, 'cheddar cheese soup': 3225, 'crumbled goat cheese': 3258, 'bourbon liqueur': 6319, 'longan': 5605, 'bread rolls': 5182, 'grenadine': 2729, 'beau monde seasoning': 2708, 'achiote paste': 1629, 'cheese sauce': 3214, 'blackcurrant syrup': 4015, 'new mexico red chile powder': 6371, 'red bartlett pears': 3097, 'superfine white sugar': 5090, 'chicken thighs': 241, 'roasted chestnuts': 1393, '2% low fat cheddar chees': 5861, 'pico de gallo': 814, 'arhar': 6535, 'Mo Qua': 2913, 'italian style rolls': 1148, 'redcurrant jelly': 3248, 'chinese chili paste': 4935, 'grated jack cheese': 595, 'sake': 300, 'seasoned black beans': 4672, 'medium firm tofu': 2837, 'peanut butter': 888, 'cream cheese with chives': 3943, 'natural pistachios': 4051, 'pickle spears': 5088, 'asti spumante': 6023, 'stem ginger in syrup': 5941, 'tuaca': 5246, 'black radish': 6257, 'red wine vinaigrette': 4154, 'bacon rind': 1610, 'Soy Vay® Toasted Sesame Dressing & Marinade': 5521, 'green grape': 3479, 'key lime': 4472, 'anise extract': 2055, 'strip loin': 5894, 'chocolatecovered espresso beans': 5566, 'beef shank': 1105, 'Knorr® Pasta Sides™ - Chicken flavor': 6104, 'lemon zest': 171, 'shrimp paste': 1544, 'umeboshi paste': 4560, 'harissa paste': 2630, 'carne seca': 4585, 'frozen lemonade concentrate, thawed and undiluted': 6680, 'croissants': 2813, 'oregano leaves': 2448, 'barbecue seasoning': 4346, 'cheese curds': 6218, 'jerk sauce': 3837, 'nectarines': 1457, 'muscadet': 6281, 'prego traditional italian sauce': 2435, \"Frank's® RedHot® Original Cayenne Pepper Sauce\": 5354, 'warm buns': 5985, 'dark chocolate cocoa powder': 6645, 'paste tomato': 6419, 'grated carrot': 2817, 'nonfat dried milk': 6260, 'soy': 4406, 'gold potatoes': 2114, 'clotted cream': 2542, 'black mission figs': 2210, 'and cook drain pasta ziti': 4834, 'tomato sauce low sodium': 6361, 'chopped fresh herbs': 1886, 'mentaiko': 6528, 'shrimp small uncook': 6169, 'pistou': 6000, 'white distilled vinegar': 3315, 'cubed pumpkin': 4279, 'unsalted margarine': 2901, 'mozzarella cheese': 259, 'stick butter': 2815, 'japanese breadcrumbs': 5744, 'chuck roast': 651, 'black gram': 3794, 'fat free whipped topping': 4448, 'pork bouillon cube': 4730, 'thyme sprigs': 1296, 'candy bar': 2743, 'white mushrooms': 1444, 'American cheese': 3324, 'extra firm silken tofu': 5022, 'tartar sauce': 2871, 'escargot': 4012, 'potato starch flour': 6626, 'fajita seasoning mix': 3002, 'KRAFT Zesty Lime Vinaigrette Dressing': 6364, 'rock cornish game hens': 3512, 'whole peppercorn': 3783, 'matzo cake meal': 6383, 'frozen limeade': 2043, 'hyssop': 6009, 'meat filling': 4805, 'cornmeal': 1074, 'brown chicken stock': 4192, 'buttermilk ranch dressing': 3835, 'verjus': 4636, 'baked ham': 2580, 'gluten': 2198, 'sundried tomato paste': 1231, 'boneless pork shoulder': 1694, 'Vegeta Seasoning': 4410, 'coarse sugar': 4788, 'whole wheat bread toasted': 1554, 'unsalted butter': 312, 'white baking bar': 6060, 'energy drink': 4696, 'kahlúa': 460, '(   oz.) tomato paste': 3074, 'kirschenliqueur': 3806, 'veal knuckle': 5396, 'ditalini pasta': 2005, 'sliced fresh fruit': 6200, 'apricot brandy': 4049, 'cottage cheese': 1605, 'ragu cheesi classic alfredo sauc': 3371, 'whole almonds': 1770, 'kampyo': 4884, 'ranch salad dressing mix': 2108, 'dill seed': 2387, 'Japanese soy sauce': 769, 'fat free cream cheese': 1226, 'Jose Cuervo': 4998, 'salted peanuts': 2749, 'bawang goreng': 2484, 'tamarind': 1270, 'yoghurt natural low fat': 5782, 'european cucumber': 5111, 'rubbed sage': 1141, 'hog casings': 2319, 'instant tapioca': 5338, 'light molasses': 2832, 'mushroom powder': 838, 'wonton skins': 2669, 'crumbled blue cheese': 413, 'sticky rice': 847, 'strip loin steak': 2410, 'green figs': 5544, 'chocolate glaze': 5036, 'iodized salt': 5337, 'Sriracha': 381, 'carrot sticks': 4976, 'swanson chicken broth': 4339, 'chocolate-hazelnut spread': 4337, 'red lentils': 123, 'sazon goya': 5593, 'maple syrup': 367, 'chilean sea bass fillets': 5448, 'burgers': 1475, 'granulated sugar': 444, 'granita': 4642, 'low-fat sharp cheddar cheese': 6163, 'chinese duck sauce': 3050, 'light coconut milk': 1570, '7 Up': 3963, 'salt free herb seasoning': 6195, 'anchovy fillets': 673, 'garlic olive oil': 5774, 'pig feet': 1961, 'cauliflower florets': 1053, 'okra': 749, 'Johnsonville Andouille Fully Cooked Sausage': 4024, 'standing rib roast': 5720, 'meat drippings': 6502, 'extra large shrimp': 2857, 'smoked trout fillets': 4609, 'chile piquin': 6206, 'kaffir lime': 3588, 'frozen sweet peas': 4106, 'pot stickers': 6026, 'sea salt': 61, 'white corn tortillas': 1101, 'pinot noir': 4172, 'coriander powder': 687, 'reduced fat chunky peanut butter': 5315, 'swede': 5730, 'liverwurst': 6430, 'pumpkin': 1926, 'cubed mango': 5826, 'seasoned croutons': 5201, 'back ribs': 4463, 'bean soup': 3573, 'essence': 2470, 'chocolate covered coffee beans': 546, 'barbecue rub': 4628, 'gari': 631, 'chocolate morsels': 548, 'whole wheat spaghetti': 1810, 'tongue': 6700, 'corn': 909, 'pineapple preserves': 865, 'milk chocolate': 2390, 'goat cheese': 868, 'top sirloin steak': 2099, 'less sodium soy sauce': 4131, 'ricotta': 1031, 'organic coconut milk': 5616, 'broiler': 3466, 'freeze-dried strawberries': 4094, 'guava paste': 6022, 'ground hazelnuts': 4598, 'cornstarch noodles': 5504, 'beet greens': 4682, 'sliced tomatoes': 3352, 'florets': 1297, 'cherry coke': 3529, 'breadstick': 2821, 'color food green': 3039, 'grapes': 2732, 'canned corn': 1243, 'pepper leaves': 4825, 'light alfredo sauce': 2086, 'knorr italian side   creami garlic shell': 3878, 'nutritional yeast flakes': 3644, 'toasted coconut': 3885, 'medium zucchini': 4665, 'nonpareils': 4466, 'knorr homestyl stock   chicken': 5241, 'lean bacon': 3906, 'parma ham': 4250, 'pineapple juice': 572, 'dillweed': 2868, 'herb vinegar': 2264, 'squash seeds': 6418, 'peppermint schnapps': 5473, 'pitted date': 1677, 'honey mustard': 3435, 'cuminseed': 4008, 'chocolate milk': 6014, 'crawfish': 293, 'KNUDSEN 2% Milkfat Low Fat Cottage Cheese': 2907, 'beef rump': 1376, 'tuna fillets': 1046, 'confit': 1236, 'french rolls': 1418, 'cardamom pods': 433, 'coke': 2351, 'juice concentrate': 4330, 'side pork': 2938, 'cooked quinoa': 1194, 'grape juice': 4537, 'candy': 1398, 'macaroni': 2379, 'gluten free vanilla extract': 2531, 'george dickel': 6561, 'water spinach': 4323, 'chiffonade': 5417, 'pangasius': 5266, 'Oscar Mayer Deli Fresh Smoked Ham': 257, 'red quinoa': 6239, \"Quorn Chik''n Tenders\": 5005, 'catsup': 3926, 'napa cabbage': 299, 'softened butter': 416, 'diced tomatoes with garlic and onion': 2038, 'bone-in chicken breast halves': 1383, 'tap water': 4143, 'sweet bean sauce': 4752, 'country crock honey spread': 4572, 'hot green chile': 5565, 'coconut milk yogurt': 6084, 'hazelnut butter': 2389, 'carrots': 195, 'Braeburn Apple': 5920, 'whole turkey': 6542, 'boneless skinless chicken thigh fillets': 3439, 'brats': 2497, 'brown rice spaghetti': 6248, 'swanson chicken stock': 6591, 'frozen pastry puff sheets': 581, 'stewing steak': 5014, 'yellow peppers': 164, 'Fuji Apple': 3082, 'mashed potatoes': 1649, 'shredded pepper jack cheese': 2472, 'arepa flour': 4536, 'gomashio': 5968, 'gaeta olives': 1813, 'chicken egg': 6585, 'miso': 1401, 'ziti': 1369, 'low sodium tomato': 6046, 'gorgonzola dolce': 4764, 'celery tops': 5942, 'pasta shell small': 3071, 'dried barberries': 4108, 'pinhead oatmeal': 3787, 'ground roasted sichuan peppers': 2455, 'candied cherries': 3655, 'nappa cabbage': 5286, 'salt water': 3651, 'turkey breakfast sausage': 2515, 'slab bacon': 1960, 'whole wheat hamburger buns': 3357, 'fat free milk': 122, 'brie cheese': 1115, 'refrigerated fettuccine': 4653, 'bread crumbs': 317, 'Madeira': 420, 'bottled lime juice': 5820, 'low-fat cheddar': 3232, 'egg noodles': 1103, 'mustard': 1073, 'fresh shiitake mushrooms': 2538, 'white hominy': 614, 'whole wheat fettuccine': 1415, 'habanero hot sauce': 2615, 'ground chipotle chile pepper': 1765, 'dough': 1112, 'Italian seasoned diced tomatoes': 6242, 'peeled prawns': 5364, 'fresh parsley leaves': 2406, 'grits': 855, 'reduced fat whipped topping': 4992, 'quick-cooking tapioca': 4393, 'almond meal': 3101, '33% less sodium cooked ham': 5016, 'orange extract': 4329, 'Knorr Chicken Stock Pots': 4045, 'cornichons': 1783, 'evaporated low-fat 2% milk': 5646, 'strawberry jam': 2541, 'red potato': 516, 'white grapefruit': 3182, 'bulb': 4149, 'red chili peppers': 128, 'cassava': 5026, 'unsalted roasted peanuts': 1241, 'white rice flour': 2230, 'Nakano Seasoned Rice Vinegar': 6266, 'frozen spring roll wrappers': 5690, 'beef roast': 1337, 'sambal olek': 3898, 'cardamom seeds': 2811, 'snails': 1540, 'chourico': 4679, 'frozen artichoke hearts': 2884, 'hot bean paste': 871, 'whole grain roll': 5263, 'bean curd stick': 5724, 'Knudsen Sour Cream': 6347, 'thai black glutinous rice': 4678, 'sooji': 5413, 'armagnac': 2302, 'peanut powder': 5558, 'truffle salt': 5196, 'chees mozzarella stick': 3857, 'waffle fries': 5220, 'chile colorado': 5400, 'aquavit': 6616, 'non dairy sour cream': 5554, 'colby jack cheese': 1720, 'quick oats': 3807, 'cold meatloaf': 6413, 'oat bran': 5176, 'yellow tomato': 4607, 'sorrel': 3521, 'steamer': 1407, 'chana dal': 2291, 'knorr reduc sodium chicken flavor bouillon cube': 6602, 'chuck': 410, 'nonfat vanilla frozen yogurt': 4655, 'soup': 2006, 'distilled vinegar': 3600, 'fresh mozzarella balls': 3241, 'Barilla Linguine': 5901, 'creole seafood seasoning': 6047, 'mian': 6437, 'fresh corn': 2034, 'crushed red pepper flakes': 91, 'shelled shrimp': 3864, 'fontina': 699, 'Challenge Butter': 6705, 'buckwheat soba noodles': 1916, 'pink lady apple': 4334, 'lily buds': 4433, 'do chua': 6433, 'comino': 2337, 'snow pea pods': 5705, 'matzo meal': 3494, 'cipollini': 5979, 'fat free less sodium beef broth': 772, 'goat s milk cheese': 6496, 'taco shells': 1719, 'low moisture mozzarella': 4262, 'Heinz Worcestershire Sauce': 5824, 'instant banana cream pudding': 5356, 'Jimmy Dean All Natural Regular Pork Sausage': 5480, 'picholine olives': 3456, 'genoise': 3122, 'pepperoni': 262, 'Chinese rice vinegar': 3545, 'pecan pie': 901, 'roasted almonds': 3847, 'fresh dates': 4363, 'wholemeal flour': 4158, 'gorgonzola': 2356, 'unsalted chicken stock': 1795, 'turkey hot dogs': 1758, 'pasilla pepper': 1204, 'sweet sherry': 1800, 'usukuchi soy sauce': 2401, 'burgundy': 4856, 'angel food cake mix': 1947, 'dried black mushrooms': 174, 'cream of tomato soup': 5409, 'ranch dressing': 486, 'Taiwanese bok choy': 359, 'caramel topping': 5051, 'chinese mustard': 3697, 'scallions': 96, 'raita': 3164, 'whole peeled tomatoes': 695, 'tubetti': 5115, 'margarine': 508, 'corn muffin': 4004, 'mora chiles': 5194, 'kahlua': 2182, 'hot tea': 5062, 'steak fillets': 3044, 'fat free greek yogurt': 2424, 'whitefish': 2138, 'small tomatoes': 4338, 'Spanish smoked paprika': 5648, 'high-fructose corn syrup': 4017, 'skinless flounder fillets': 5110, 'kalamata': 622, 'crusty bread': 537, 'albacore': 4657, 'porter': 6174, 'hoagie rolls': 260, 'cream sherry': 3443, 'acorn squash': 1538, 'creamy peanut butter': 156, 'red enchilada sauce': 1054, 'Progresso Diced Tomatoes': 6613, 'mixed dried fruit': 2224, 'lamb stew meat': 1723, 'vinegar': 458, 'Spike Seasoning': 2758, 'fajita size flour tortillas': 3237, 'ketjap': 6696, 'hollandaise sauce': 2809, 'haloumi': 4251, 'roasted red peppers': 394, 'black chicken': 2416, 'cane sugar': 800, 'chile pepper': 187, 'dried rice noodles': 1361, 'poblano': 3041, 'cubed pancetta': 6134, 'Mexican vanilla extract': 2161, 'blue cheese': 2920, 'Dungeness crabs': 3056, 'red miso': 694, 'shredded parmesan cheese': 1465, 'rack of lamb': 3040, 'nonfat cream cheese': 5666, 'jamon serrano': 6037, 'Johnsonville Andouille Dinner Sausage': 237, 'pecan halves': 856, 'pure acai puree': 1726, 'ceci bean': 4804, 'ground dried shrimp': 6537, 'basil leaves': 586, 'Knorr® Fiesta Sides Spanish Rice': 4210, 'bear': 4629, 'tamarind juice': 2728, 'Italian seasoned breadcrumbs': 1123, 'annatto oil': 1305, 'pot pie': 4388, 'Cholula Hot Sauce': 4919, 'white zinfandel': 6258, 'thai green curry paste': 587, 'Ibarra Chocolate': 5715, 'gingersnap cookie crumbs': 5030, 'gluten free cornmeal': 5874, 'dry milk powder': 4897, 'food paste color': 1397, 'gluten flour': 3860, 'white arborio rice': 3129, 'brown mustard seeds': 584, 'Manischewitz Matzo Meal': 6660, 'organic soy sauce': 4792, 'lavender buds': 1735, 'green curry paste': 913, 'starch': 2413, 'candlenuts': 5013, 'instant butterscotch pudding mix': 619, 'dark brown sugar': 509, 'garlic herb feta': 5295, 'roasted tomatoes': 1203, \"devil's food cake mix\": 5392, 'ackee': 2892, 'bean threads': 1012, 'sliced carrots': 2561, 'dijon mustard': 377, 'wish-bone light asian sesame ginger vinaigrette dressing': 5243, 'mild curry paste': 2107, 'chervil': 2705, 'low-fat vanilla ice cream': 2684, '33% less sodium smoked fully cooked ham': 5644, 'rye': 1601, 'turkey breast': 2345, 'soft taco size flour tortillas': 4171, 'chocolate leaves': 4269, 'nonfat plain greek yogurt': 3192, 'liquid egg substitute': 1668, 'mixed greens': 1160, 'fresh bay leaves': 835, 'five spice': 2833, 'agave nectar': 1824, 'filet mignon steaks': 4905, 'cress': 3392, 'Toulouse sausage': 4763, 'pork rub': 4211, 'earl grey tea bags': 4180, 'asparagus tips': 1174, 'sushi vinegar': 3045, 'sweet potatoes & yams': 2386, 'Old El Paso Enchilada Sauce': 4331, 'cooked meatballs': 5102, 'bean curd skins': 3280, 'brine cured green olives': 2308, 'chocolate cookie crumbs': 5070, 'pepperoncini': 4118, \"Campbell's Condensed Cheddar Cheese Soup\": 2691, 'duck': 524, 'red pepper': 163, 'dark chocolate chip': 4809, 'teas': 1827, 'dry pasta': 1642, 'fruit': 580, 'vegan cheese': 3215, 'golden mushroom soup': 6012, 'frozen mixed thawed vegetables,': 1806, 'portuguese rolls': 4726, 'dried fish flakes': 4148, 'high gluten bread flour': 4203, 'corn chips': 1205, 'pinot grigio': 1665, 'sushi grade tuna': 3023, 'stew meat': 2323, 'chimichurri': 5324, 'pasta wagon wheel': 3627, 'whole okra': 2343, 'broccoli romanesco': 5876, 'black lentil': 2896, 'grouper': 904, 'low sodium cajun seasoning': 5805, 'slaw': 1658, 'Chianti': 3423, 'smoked hog jowl': 5723, 'mole sauce': 4404, 'raw pistachios': 4107, 'bitters': 1826, 'canned tuna': 3826, 'potato bread': 4277, 'italian-style meatballs': 4376, 'cherry tomatoes': 600, 'Jasmine brown rice': 5348, 'pollock': 4595, 'hazelnut meal': 3148, 'Irish whiskey': 2540, 'quick-cooking oats': 3792, 'sashimi grade tuna': 6161, 'fresh chives': 1171, 'dried arbol chile': 3937, 'butter flavor shortening': 5695, 'darjeeling tea leaves': 4469, 'glace cherries': 1797, 'organic vegetable broth': 2429, 'chopped onion': 278, 'ngo gai': 6029, 'pita loaves': 3323, 'unsweetened chocolate': 1578, 'vanilla instant pudding': 3175, 'pitted olives': 1295, 'progresso reduced sodium chicken broth': 5332, 'ricotta salata': 905, 'sherry wine': 3585, 'instant coffee': 2590, 'solid white tuna': 4731, 'melissa': 6010, 'tamale filling': 3303, 'pastry tart shell': 5011, 'mild Italian sausage': 2449, 'chopped walnuts': 325, 'Hawaiian salt': 3412, 'crackers': 1527, 'pappardelle pasta': 2016, 'sweet italian sausag links, cut into': 2458, 'kiwi': 659, 'chinese pancakes': 5191, 'vanilla custard': 4988, 'diced tomatoes and green chilies': 3367, 'puff pastry sheets': 4359, 'beef tendons': 4830, 'bock beer': 5600, 'chopped green chilies': 804, 'coconut oil': 676, 'Jameson Whiskey': 6465, 'blackberry brandy': 6051, 'guajillo chiles': 1823, 'dried allspice berries': 5156, 'pineapple': 1670, 'red vermouth': 2322, 'fresh parmesan cheese': 118, 'orange blossom extract': 2545, 'english breakfast tea leaves': 6024, 'smoked rashers': 4996, 'whole wheat english muffins': 1476, 'boneless chicken breast halves': 1689, 'McCormick Ground Ginger': 3310, 'straight bourbon whiskey': 6400, 'green cardamom pods': 879, 'cactus pad': 934, 'shrimp and crab boil seasoning': 777, 'frogs legs': 4759, 'raisins': 495, 'amberjack fillet': 5093, 'sliced kalamata olives': 2314, 'asian fish sauce': 137, 'sauce tomato': 4944, 'claws': 3402, 'seville oranges': 5412, 'dumplings': 2296, 'farfalline': 5752, 'asian rice noodles': 4040, 'yu choy': 3768, 'Ro-Tel Diced Tomatoes & Green Chilies': 5740, 'framboise liqueur': 6491, 'pullman loaf': 3526, 'baby portobello mushrooms': 1762, 'sandwich wraps': 6663, 'long green beans': 4258, 'frozen cod fillets': 3875, 'whole wheat pizza dough': 4425, 'pocket bread': 5983, 'popcorn': 2464, 'french style sandwich rolls': 6429, 'chocolate bars': 498, 'maitake mushrooms': 6330, 'baby carrots': 557, 'chicken bouillon granules': 1501, 'chicken': 731, 'parmesan cheese': 714, 'mirlitons': 2267, 'nonfat yogurt plain': 3381, 'snail shells': 2786, 'granulated tapioca': 5162, 'medium salsa': 5106, 'tart cherries': 2694, 'sweet pickle': 2969, 'smoked chicken sausages': 4854, 'sherry': 192, 'minced beef': 351, 'Quorn crumbles': 5455, 'garlic mayonnaise': 2655, 'brine-cured olives': 4356, 'anasazi beans': 3880, 'lamb rib chops': 3696, 'converted rice': 2790, 'long green chilies': 4366, 'single malt Scotch': 5149, 'lowfat plain greekstyl yogurt': 4568, 'egg roll skins': 5056, 'brown lentils': 1381, 'banana liqueur': 2626, 'Louisiana Cajun Seasoning': 5810, 'lentilles du puy': 3957, 'sweet rice': 3077, 'ground ginger': 48, 'red currant jelly': 1471, 'peanut brittle': 5976, 'ti leaves': 2579, 'sauce mix': 4266, 'truffle puree': 5862, 'whole wheat spaghetti noodles': 4826, 'xanthan gum': 1706, 'Doritos Tortilla Chips': 6610, 'stir fry vegetable blend': 1462, 'cooking fat': 2621, 'crouton italian season': 6341, 'instant potato flakes': 4344, 'vegan bouillon cubes': 5857, 'English muffins': 1520, 'smoked pork': 4777, 'barley flour': 3072, 'buttermilk self-rising white cornmeal mix': 4670, 'allspice': 322, 'beef soup bones': 4391, 'mixed peel': 3892, 'mascarpone': 440, 'elbow macaroni': 1562, 'white poppy seeds': 5915, 'dried chile': 1014, 'rum extract': 506, 'cumberland sausage': 6673, 'honey dijon mustard': 6082, 'tomato paste': 347, 'shoyu': 1925, 'soy yogurt': 5330, 'risotto': 1970, 'sweet pepper': 88, 'curaçao': 3320, 'black cod fillets': 3488, 'Elmlea Single Light': 4247, 'khoa': 2290, 'spelt': 2984, 'diced potatoes': 3607, 'small potatoes': 5042, 'medium potatoes': 6145, 'tamarind extract': 2173, 'black bean garlic sauce': 3862, 'beet juice': 6277, 'black cod': 2171, 'tuna, drain and flake': 6588, 'dark sesame oil': 492, 'sesame chili oil': 2870, 'saltpeter': 4945, 'braeburn apple': 3053, 'Flora pro.activ': 4813, 'guacamole': 719, 'white corn syrup': 3238, 'Cinnamon Toast Crunch Cereal': 6611, 'mochiko': 3668, 'chocolate sandwich cookies': 5214, 'skirt steak': 62, 'cilantro leaves': 559, 'passion fruit juice': 3132, 'papalo': 4089, 'beef steak': 1246, 'whole wheat linguine': 4612, 'soup pasta': 6113, 'OREO® Cookies': 2183, 'pork stew meat': 2324, 'boneless beef roast': 1688, 'blue crabs': 4823, 'cake batter': 5219, 'hungarian sweet paprika': 2127, 'red capsicum': 2094, 'vanilla wafers': 1749, 'dried pinto beans': 1764, 'cinnamon sticks': 434, 'diced chicken': 2266, 'hoagi or roll': 5516, 'sweet rice flour': 2037, 'lasagna noodles': 487, 'dal': 3355, \"I Can't Believe It's Not Butter!® Spread\": 2219, 'torpedo rolls': 5673, 'dark soy sauce': 180, 'gumbo file': 3276, 'low-fat vegetable primavera spaghetti sauce': 5298, 'frozen lima beans': 2509, 'non stick spray': 3613, 'peeled diced tomatoes': 6426, 'crumbled gorgonzola': 1329, 'soy sauce': 26, 'quail': 1153, 'instant rice': 2207, 'earl grey tea leaves': 3737, 'sprouts': 2093, 'balsamic vinaigrette salad dressing': 5301, 'white sesame seeds': 849, 'shrimp powder': 4965, 'gemelli': 3836, 'veal breast': 4864, 'crisps': 2751, 'imitation seafood': 6643, 'all purpose unbleached flour': 1394, 'KRAFT Zesty Italian Dressing': 2862, 'Old El Paso Flour Tortillas': 735, 'min': 3372, 'meat fats': 4888, 'dashi': 741, 'grapefruit': 2001, 'lemon peel': 2528, 'russet': 2978, 'shredded bamboo': 5869, 'tuong': 6288, 'summer savory': 3684, 'new york strip steaks': 3453, 'frozen chopped broccoli': 4390, 'piquillo peppers': 5143, 'turkey bacon': 3281, 'boneless country pork ribs': 3507, 'Turkish bay leaves': 636, 'taco seasoning reduced sodium': 3236, 'tex mex seasoning': 3078, 'green bell pepper, slice': 671, 'pepperoni slices': 3234, 'peppercorns': 702, 'pumpkin purée': 368, 'Melba toast': 2646, 'brussels sprouts': 1324, 'whole wheat cereal': 5231, 'raclette': 5731, 'yukon gold': 2521, 'roast': 2582, 'scrod': 3188, 'snow pea shoots': 4640, 'bacon slices': 114, 'Daisy Sour Cream': 4396, 'maple flavored extract': 3470, 'snip fresh dill': 6583, 'italian eggplant': 1364, 'blackening seasoning': 3123, 'date sugar': 2602, 'lesser galangal': 5269, 'red kidney beans': 1024, 'chopped parsley': 1048, 'dumpling skins': 3935, 'jerk marinade': 2381, 'cheese sticks': 4101, 'San Marzano tomatoes': 5590, 'yardlong beans': 1724, 'Neufchâtel': 5064, 'unsalted beef stock': 4199, 'grain alcohol': 6420, 'mahlab': 6168, 'bone-in chicken': 3430, 'cold-smoked salmon': 6087, 'low-sodium fat-free chicken broth': 3067, 'hot salsa': 5100, 'curing salt': 3006, 'green apples': 4126, 'light rum': 1978, 'unbleached flour': 3199, 'cheese spread': 2062, 'nutritional yeast': 1497, 'brown gravy mix': 5209, 'large egg whites': 531, 'Land O Lakes® Butter': 4187, 'maca powder': 4890, 'unsalted almonds': 3648, 'golden delicious apples': 1281, 'crusty loaf': 3614, 'root beer': 4795, 'McCormick Poppy Seed': 3597, 'Vadouvan curry': 5603, 'knorr leek recip mix': 5665, 'asafoetida powder': 1404, 'rice noodles': 155, 'gravy mix mushroom': 4196, 'muscadine grapes': 6117, 'light corn syrup': 1399, 'whole wheat bread flour': 4072, 'capellini': 2106, 'bulgur wheat': 1963, 'goose': 5426, 'veal loin': 4862, 'red velvet cake mix': 6262, 'seasoning rub': 6389, 'imitation vanilla flavoring': 4681, 'tofu': 633, 'leg of lamb': 1023, 'Knudsen Light Sour Cream': 3659, 'grated parmesan cheese': 188, 'pointed peppers': 5870, 'portabello mushroom': 1172, 'toasted peanuts': 1862, 'drum': 6575, 'mustard seeds': 1184, 'refrigerated crescent rolls': 1057, 'hoop cheese': 5632, 'dri leav rosemari': 3203, 'Homemade Yogurt': 4520, 'fettuccine, cook and drain': 2040, 'lasagne': 1225, 'bread, cut into italian loaf': 3770, 'medium tomatoes': 4422, 'bulk italian sausag': 2719, 'bacon': 210, 'dri fruit tropic': 5867, 'Galliano': 5858, 'Knox unflavored gelatin': 5358, 'country crock calcium plus vitamin d': 5153, 'finely chopped onion': 306, 'vanilla flavoring': 2676, 'apple brandy': 6164, 'extra': 5748, 'french fries': 4035, 'pork and beans': 4829, 'vanilla frozen yogurt': 5215, 'gluten-free breadcrumbs': 3990, 'yellow chives': 3565, 'chile paste with garlic': 3185, 'italian salad dressing mix': 1157, 'flowering chinese chives': 6681, 'roast pork seasoning mix': 2701, 'golden syrup': 1676, 'ground espresso': 5932, 'beef boneless meat stew': 6298, 'beef bones': 3593, 'fresh mexican cheese': 1344, 'cholesterol free egg substitute': 6707, 'extra lean minced beef': 4407, 'mullet': 3062, 'green onion bottoms': 5055, 'rib': 252, 'root vegetables': 3993, 'Goya Hot Sauce': 6228, '1% low-fat buttermilk': 2077, 'black treacle': 4454, 'framboise eau-de-vie': 5972, 'pink salt': 4618, 'whole wheat pita rounds': 5626, 'suckling pig': 6053, 'low fat cream of celery soup': 5788, 'Conimex Wok Olie': 3910, 'muscovado sugar': 2218, 'tumeric': 126, 'Chinese sesame paste': 4445, 'whole milk': 462, 'low fat monterey jack cheese': 4426, 'jasmine rice': 363, 'rice pilaf': 3477, 'recipe crumbles': 3718, 'manouri': 6677, 'toasted sesame seeds': 997, 'proscuitto': 6540, 'sweet potato starch': 4874, 'dhal': 1902, 'spicy salami': 6669, 'sliced apples': 3005, 'puff pastry cups': 6604, 'splenda no calorie sweetener': 2310, 'aka miso': 4205, 'coconut rum': 2624, 'toor dal': 3625, 'smoked mozzarella': 5313, 'cole slaw mix': 5383, 'eggroll wrappers': 5378, 'chinese celery cabbage': 3848, 'eggnog': 6439, 'puy lentils': 2467, 'glucose': 6523, 'chili powder': 32, 'coconut juice': 2397, 'powdered gelatin': 2709, 'frozen brussels sprouts': 5289, 'shark': 6555, 'french fri frozen': 5067, 'Kraft Sharp Cheddar Cheese': 4904, 'nonfat mozzarella cheese': 6250, 'pork chops': 1273, 'reduced-fat cheese': 1627, 'pork sirloin chops': 5769, 'mizuna': 5314, 'arrowroot': 3678, 'remoulade': 3475, 'sourdough bread': 1884, 'pineapple rings': 3851, 'pattypan squash': 5351, 'red swiss chard': 4490, 'large egg yolks': 364, 'canned beef broth': 1142, 'vegan sour cream': 6301, 'chicken breast fillets': 2816, 'parsley flakes': 2673, 'red anjou pears': 4039, 'Daiya': 6701, 'corn grits': 1486, 'canned chipotles': 3340, 'lamb leg': 1492, 'assam': 6154, 'cinnamon ice cream': 5842, 'saltines': 1165, 'roasted salted cashews': 994, 'asafetida powder': 4800, 'Honeysuckle White® Hot Italian Turkey Sausage Links': 6670, 'sliced pears': 3810, 'liquid aminos': 1379, 'boneless skin on chicken thighs': 5532, 'chicken nugget': 5854, 'cardamon': 3316, 'dried fruit': 3069, 'St Germain Liqueur': 2445, 'cho-cho': 3576, \"pig's trotters\": 3566, 'strained yogurt': 5717, 'buttermilk cornbread': 4444, 'Italian cheese': 3763, 'Yuzukosho': 4586, 'burger buns': 379, 'minced onion': 502, 'vindaloo paste': 5840, 'chunky mild salsa': 4202, 'water': 29, 'gherkins': 3855, 'mini marshmallows': 1429, 'smoked cheddar cheese': 3162, 'chili oil': 585, 'spanish paprika': 1898, 'dried soba': 4832, 'hot chili powder': 2167, 'white chocolate chips': 2946, 'american cheese slices': 4480, 'flat iron steaks': 1755, 'chinese plum sauce': 5032, 'tamarind pod': 2779, 'oyster mushrooms': 1643, 'KRAFT Shredded Mozzarella Cheese': 5948, 'mixed frozen seafood': 6092, 'mango juice': 6064, 'granular sucrolose sweetener': 6646, 'masur dal': 3217, 'fresh lemon juice': 102, 'shoulder lamb chops': 6358, 'aloe juice': 6665, 'ganache': 5653, 'aspic': 4756, 'tart shells': 5098, 'hot italian pork sausage': 4928, 'wheat crackers': 2418, 'reduced fat cream of mushroom soup': 5674, 'orange glaze': 6706, 'low sodium beef broth': 320, 'trout caviar': 5320, 'buffalo mozzarella': 5239, 'seitan': 2391, 'low-fat milk': 945, 'black-eyed peas': 247, 'pork shoulder butt': 2321, 'plain dry bread crumb': 1843, 'extra firm tofu': 162, 'aioli': 1201, 'chuck tender': 5120, 'red vinegar': 4355, 'anisette': 4619, 'celery leaves': 3274, 'scallion greens': 670, 'reduced fat milk': 877, 'whole milk greek yogurt': 2430, 'asian': 5812, 'cut up cooked chicken': 5399, 'low-fat bottled italian dressing': 4284, 'sage': 1553, 'bartlett pears': 2056, \"Old El Paso™ Thick 'n Chunky salsa\": 3920, 'arame': 1187, 'capon': 4951, 'farmer cheese': 1865, 'queso asadero': 2742, 'fresh tofu': 2754, 'blanched hazelnuts': 4662, 'fennel': 1070, 'banana squash': 828, 'no-calorie sweetener': 5034, 'mixed nuts': 2697, 'stilton': 2021, 'multigrain cereal': 5716, 'Chinese rose wine': 3034, 'stone-ground cornmeal': 1617, 'dried bonito flakes': 1159, 'deveined shrimp': 2432, 'Knorr® Beef Bouillon': 2174, 'chopped fresh chives': 119, 'light chicken stock': 6687, 'semi pearled farro': 5278, 'low sodium vegetable broth': 2163, 'picante sauce': 270, 'porridge oats': 4453, 'black cherries': 6315, 'red bell pepper, sliced': 1515, 'low sodium garbanzo beans': 4055, 'sesame salt': 1222, 'arrowroot flour': 5709, 'annatto': 3157, 'mochi': 4631, 'black olives': 6, 'shredded zucchini': 2035, 'capers': 169, 'small capers, rins and drain': 2651, 'low-fat ricotta cheese': 2937, 'ground thyme': 1359, 'grated coconut': 1938, 'crumbled cornbread': 4189, 'orchid': 4405, 'reduced fat coconut milk': 1917, 'apple pie spice': 2667, 'razor clams': 3753, 'shucked oysters': 3362, 'sports drink': 5526, 'sliced mushrooms': 190, 'cardamom': 922, 'reduced sodium tamari': 1011, 'chiltepín': 5773, 'evapor low-fat milk': 4902, 'nonfat dry milk': 4261, 'chickpea flour': 380, 'aged cheddar cheese': 6212, 'gyoza wrappers': 2513, 'cajeta': 4478, 'rum raisin ice cream': 6386, 'butterscotch sauce': 5799, 'peach purée': 3196, 'veal rib chops': 4515, 'orange segments': 2990, 'eel': 5097, 'satsuma juice': 3716, 'cheese': 202, 'whipping heavy cream': 4659, 'fat free lemon curd': 4660, 'ground pork': 197, 'Bordelaise sauce': 5524, 'huitlacoche': 3094, 'boneless pork tenderloin': 3552, 'tilapia': 1632, 'hot red pepper flakes': 104, 'garlic shoots': 3431, 'frozen meatballs': 4065, 'feet': 4729, 'oysters': 575, 'meringue nests': 4175, 'plantains': 1100, 'Johnsonville Andouille': 3294, 'piment despelette': 3761, 'mint leaves': 1089, 'lobster stock': 4115, 'pesto sauce': 1092, 'grated pecorino': 3498, 'azuki bean': 6100, 'borlotti': 6536, 'pie dough': 1742, 'chocolate chips': 3643, 'cold cut': 3666, 'mushroom soup': 5458, 'cashew butter': 3417, 'all beef hot dogs': 1890, 'calamari': 4255, 'cheese tortellini': 601, 'chorizo': 817, 'summer squash': 1106, 'brown shrimp': 3219, 'peaches in heavy syrup': 2951, 'tamarind pulp': 1185, 'sour orange juice': 2746, 'Guinness Lager': 809, 'beer': 737, 'poi': 2745, 'rum': 445, 'fresh dill': 746, 'blueberries': 2802, 'turmeric root': 5039, 'whole wheat french bread': 3762, 'Better Than Bouillon Chicken Base': 5891, 'crostini': 3764, 'dairy free coconut ice cream': 5441, 'irish bacon': 4513, 'long green pepper': 5960, 'poppy seed filling': 4597, 'fenugreek leaves': 430, 'mandarin orange segments': 1567, 'lemon pepper seasoning': 3226, 'turkey': 1635, 'lamb sausage': 3683, 'whole grain baguette': 6692, 'garlic bulb': 2748, 'hoja santa leaves': 5978, 'light margarine': 1355, 'McCormick Ground Cumin': 6205, 'whole wheat crackers': 6057, 'honey whiskey': 5755, 'Johnsonville Mild Italian Sausage Links': 3618, 'grated Gruyère cheese': 690, 'tortilla chips': 245, 'cajun-creole seasoning mix': 5925, 'Dutch-processed cocoa powder': 3060, 'orange flavored brandy': 3420, 'bread and butter pickle slices': 5512, 'paprika': 184, 'honeydew melon': 1874, 'bacon fat': 2147, 'fatfre cream of chicken soup': 2734, 'sweet pickle juice': 5893, 'frozen bread dough': 2375, 'Bertolli® Alfredo Sauce': 2961, 'au jus gravy': 5536, 'sauvignon blanc': 4365, 'asparagus spears': 554, 'smoked fully cooked ham': 3427, 'nonhydrogenated margarine': 3540, 'Irish Red ale': 6235, 'shiro miso': 4204, 'spearmint': 3622, 'eye steaks': 6445, 'muffin': 5118, 'Crystal Farms Shredded Gouda Cheese': 1313, 'achiote powder': 3354, 'light kidney beans': 5203, 'capicola': 1147, 'lean ground turkey': 1574, 'cod fillets': 1914, 'ginger paste': 897, 'achiote': 3312, 'fresh white truffles': 6013, 'curly leaf spinach': 2482, 'goji berries': 576, 'mandarin juice': 4509, 'white vermouth': 4437, 'reduced sodium garbanzos': 4471, 'great northern beans': 240, 'amaranth': 3302, 'italian sausage': 608, 'smoked streaky bacon': 539, 'chocolate chip cookie dough ice cream': 3902, 'green cardamom': 1019, 'whole grain bread': 5212, 'Asian sweet chili sauce': 4097, 'korma paste': 3105, 'tomato jam': 4320, 'breast of lamb': 3139, 'preshred low fat mozzarella chees': 4057, 'olive tapenade': 6069, 'bouillon powder': 5006, 'black peppercorns': 432, 'sour milk': 3756, 'Spring! Water': 3661, 'nonfat cottage cheese': 2247, 'mandarin oranges': 281, 'flavored vinegar': 5908, 'cactus paddles': 5586, 'lean ground meat': 3680, 'graviera': 4608, 'fromage blanc': 1593, 'hamachi fillets': 5300, 'Jose Cuervo Gold Tequila': 5367, 'seafood glaze': 4638, 'mint syrup': 6144, 'champagne grapes': 3658, 'reduced fat mozzarella': 4377, 'reduced sodium fat free chicken broth': 5931, 'cream of celery soup': 2956, 'Johnsonville Hot & Spicy Breakfast Links': 3977, 'single crust pie': 1945, 'ground sage': 3029, 'knorr tomato bouillon with chicken flavor cube': 2996, 'whole wheat submarine loaves': 3008, 'grenadine syrup': 4041, 'crushed pretzels': 3096, 'salami': 261, 'Kraft Sun Dried Tomato Vinaigrette': 2979, 'chunky tomato salsa': 2213, 'frozen mixed berries': 1928, 'ancho': 4028, 'green mango': 626, 'lean steak': 806, 'crabapples': 4493, 'italian salad dressing': 1741, 'kefir': 4685, 'cones': 4719, 'artificial sweetener': 5704, 'pastry cream': 1589, 'hachiya': 6409, 'crispy bacon': 4915, 'black onion seeds': 4441, 'safflower': 3465, 'diced bell pepper': 875, 'rice paper': 889, 'tortillas': 722, 'boiling onions': 1320, 'low sodium pinto beans': 3965, 'chipotle paste': 5142, 'candied lemon peel': 2668, 'wondra flour': 2488, 'vanilla glaze': 4043, 'nonfat yogurt': 2137, 'coarse ground mustard': 3917, 'sea salt flakes': 1483, 'yeast extract': 5845, 'green beans': 99, 'raspberry liqueur': 3166, 'limeade': 5787, 'low-fat firm silken tofu': 6302, 'citric acid powder': 6596, 'dried raspberry': 6213, 'queso fresca': 5288, 'steamed brown rice': 2581, 'old fashioned stone ground grits': 3359, 'kumquats': 2399, 'brownies': 4624, 'horseradish mustard': 4692, 'cubed bread': 2012, 'ground coffee': 3777, 'Smithfield Ham': 1287, 'white sandwich bread': 1183, 'Pompeian Canola Oil and Extra Virgin Olive Oil': 3297, 'grassfed beef': 6008, 'mussels, well scrubbed': 4633, 'Saffron Road Vegetable Broth': 4652, 'low sodium chicken': 5069, 'egg whites': 578, 'peach sorbet': 6558, 'turbot fillets': 5074, 'cassis liqueur': 5427, 'dende oil': 4715, 'lump crab meat': 1249, 'virgin olive oil': 3523, 'dried scallops': 4220, 'chicken gizzards': 3911, 'low sodium worcestershire sauce': 2886, 'balm': 4496, 'rounds': 3954, 'blueberri preserv': 977, 'gobo root': 4357, 'Italian basil': 4134, 'fat-free parmesan cheese': 5398, 'flat cut': 2156, 'coconut flour': 1127, 'branston pickle': 5623, 'piri-piri sauce': 5515, 'mo hanh': 4167, 'salted cashews': 5238, 'wish-bone light country italian dressing': 5571, 'Old El Paso Green Chiles': 6173, 'tarragon vinegar': 3088, 'triscuits': 5127, 'nam prik': 4743, 'refrigerated four cheese ravioli': 5547, 'less sodium beef broth': 3107, 'pineapple chunks in natural juice': 5956, 'blanched almond flour': 1333, 'ramen noodles seasoning': 5951, 'uncooked vermicelli': 3426, 'pink beans': 2972, 'oregano': 463, 'boneless chop pork': 490, 'haricot beans': 3127, 'condensed cream of potato soup': 4061, 'verjuice': 6249, 'whole grain spelt flour': 4527, 'shanks': 4641, 'pork loin': 152, 'crushed cornflakes': 4281, 'roasted cashews': 2483, 'serrano': 759, 'braising beef': 3757, 'perch fillets': 3032, \"Hellmann''s Light Mayonnaise\": 1345, 'honey mustard dressing': 5210, 'grana': 3824, 'dark chocolate': 2149, 'chocolate syrup': 2502, 'blackberries': 860, 'pickled beets': 3528, 'gyoza skins': 3712, 'kecap manis': 591, 'korean chile': 3554, 'clementine sections': 5117, 'lamb stock': 3389, 'campanelle': 4001, 'baby turnips': 6380, 'artichok heart marin': 2206, 'low sodium vegetable juice': 3478, 'thyme': 15, 'winter squash': 2177, 'Mizkan Oigatsuo Tsuyu Soup Base': 4224, 'frozen raspberries': 1802, 'fresh lime': 948, 'low-fat coconut milk': 1405, 'vegetable juice': 1247, 'king prawns': 4648, 'cooked pumpkin': 2041, 'shredded low-fat mozzarella cheese': 5617, 'cutlet': 2942, 'seafood base': 3966, 'low sodium canned chicken broth': 5308, 'syrup': 2935, 'grape leaves': 3376, 'baked beans': 2808, 'amaretti': 1504, 'mirin': 298, 'barramundi fillets': 3557, 'whole wheat pasta shells': 4295, 'chipotle chile': 100, 'wish-bone': 4930, 'gumbo': 3013, 'manicotti': 4443, 'crisco': 4831, 'hard salami': 4243, 'bucatini': 2613, 'pizza doughs': 2170, 'pompano fillets': 4579, 'extra virgin coconut oil': 3406, 'gluten-free tamari': 1193, 'frozen hash browns': 4968, 'prepar salsa': 1900, 'bread and butter pickles': 4656, 'mixed bell peppers': 4783, 'beef shoulder': 3527, 'pressed tofu': 4698, 'frozen broccoli': 1614, 'splenda granular': 2526, 'black pudding': 3751, 'calabrese sausage': 3036, 'cassava meal': 4456, 'bâtarde': 5253, 'tomato cream sauce': 5887, 'lemon rind': 1696, 'crushed pistachio': 5831, 'dr pepper': 5711, 'dried tarragon leaves': 1745, 'pizza sauce': 2313, 'rosewater': 3675, 'radishes': 467, 'roasted bell peppers': 5619, 'pancit canton': 5793, 'snaps': 5953, 'chocolate flavored liqueur': 6697, 'bass fillets': 3267, 'dried minced onion': 1384, 'crème fraîche': 1085, 'Pure Wesson Canola Oil': 6067, 'shrimp tails': 2105, 'buckwheat noodles': 1283, 'hot curry powder': 1586, 'pork belly': 1323, 'eggs': 13, 'soursop': 3929, 'fat free frozen top whip': 2366, 'burrata': 4073, 'aged Manchego cheese': 3832, 'arak': 6327, 'jam': 925, 'fresh red chili': 1078, 'Fisher Pecan Halves': 5795, 'ragu old world style sweet tomato basil pasta sauc': 5169, 'rich turkey stock': 3856, 'boneless duck breast': 5939, 'citrus': 5384, 'guinea hens': 3344, 'red rice': 4828, 'ouzo': 4621, 'creole spice mix': 2305, 'fresh basil leaves': 551, 'Maggi': 1507, 'coconut sugar': 1102, 'adobo': 4403, 'pork sausages': 2223, 'duck sauce': 5449, 'sorghum syrup': 2827, 'gluten free corn tortillas': 1594, 'chives': 179, 'jamaican jerk marinade': 5379, 'unsweetened dried coconut': 5525, 'shichimi togarashi': 2175, 'straw mushrooms': 965, 'reduced fat mayonnaise': 3531, 'pancit bihon': 4963, 'stewing hen': 3537, 'potato flakes': 4014, 'black bean sauce': 517, 'maltose': 2939, 'chipotle salsa': 1350, 'frozen spinach': 1224, 'fresh chevre': 1845, 'seafood': 2791, '33% less sodium ham': 5204, 'italian loaf': 1909, 'diced tomatoes': 229, 'vanilla frosting': 6272, 'candied pineapple': 4535, 'ground beef': 316, 'salt': 16, 'benne seed': 5791, 'bone in skin on chicken thigh': 3602, 'rajma': 2770, 'bone marrow': 5728, 'madagascar bourbon vanilla extract': 6576, 'artichoke bottoms': 2723, 'chicken bones': 674, 'curly kale': 2089, 'roasted white sesame seeds': 2764, 'beni shoga': 4455, 'pita bread': 1997, 'vegetable broth': 521, 'rosemary sprigs': 1139, 'white bread': 418, 'fiddlehead ferns': 2720, 'penne rigate': 530, 'organic buttermilk': 6229, 'yellow mustard seeds': 2493, 'dried pineapple': 3384, 'ground Italian sausage': 3104, 'dried beans': 5144, 'brewed espresso': 3059, 'shishito chile': 5579, 'irish cream liqueur': 3979, 'smoked sea salt': 5010, 'olives': 173, 'A Taste of Thai Rice Noodles': 3690, 'branca menta': 6121, 'brown cardamom': 1016, 'nam pla': 3055, 'venison steaks': 5835, 'Bertolli® Arrabbiata Sauce': 4300, 'chopped tomatoes': 76, 'tart': 1484, 'chuka soba noodles': 6307, 'loin': 3346, 'Texas toast bread': 5360, 'asian noodles': 2994, 'manchego cheese': 374, 'coleslaw': 654, 'açai': 2777, 'butterscotch chips': 4749, 'leaves': 802, 'iceberg lettuce': 73, 'white peaches': 1769, 'sandwich buns': 3353, 'yellow crookneck squash': 550, 'lemongrass': 338, '(14 oz.) sweetened condensed milk': 5514, 'kasu': 5483, 'balsamic reduction': 5406, 'regular or convert rice': 6182, 'mahimahi fillet': 6444, 'white tuna': 3360, 'strong white bread flour': 786, 'ear of corn': 2287, 'Kewpie Mayonnaise': 3262, 'pickapeppa sauce': 321, 'low sodium low fat vegetable broth': 6275, 'cross rib roast': 4239, 'veal loin chops': 5124, 'prepared mustard': 2853, 'meat bones': 1124, 'store bought low sodium chicken stock': 919, 'paccheri': 5559, 'Boursin': 5057, 'cabbage lettuce': 4983, 'chitterlings': 2578, 'chocolate baking bar': 3702, 'small curd cottage cheese': 2798, 'deep-fried tofu': 4767, 'granary bread': 5676, 'condensed fiesta nacho cheese soup': 2132, 'pickled jalapenos': 697, 'dried rigatoni': 6157, 'instant chicken bouillon granules': 4793, 'gnocchetti sardi': 6471, 'dri thyme leaves, crush': 3936, 'genoa salami': 1146, 'graham cracker pie crust': 3907, 'fresh lemon': 995, 'beaujolais': 3897, 'ragu pizza quick sauc': 5598, 'fronds': 2822, 'sparkling lemonade': 5802, 'Praline Liqueur': 3948, 'sesame paste': 1034, 'kippered herring fillets': 5268, 'frozen orange juice concentrate': 1631, 'buffalo': 5021, 'Wish-Bone Italian Dressing': 2146, 'nonfat milk powder': 6519, 'Hidden Valley® Original Ranch® Dips Mix': 3028, 'pure vanilla': 2899, 'dipping sauces': 813, 'beef liver': 2702, 'reduced sodium black beans': 4661, 'spot prawns': 6406, 'ground cashew': 4966, 'low-fat mozzarella cheese': 3844, 'ranch dip': 4744, 'karo syrup': 5216, 'skin on bone in chicken legs': 4871, 'crust': 857, 'crosswise': 6629, 'butter flavor vegetable shortening': 4122, 'bread yeast': 1711, 'condensed cream of mushroom soup': 565, 'octopuses': 941, 'marmite': 1500, 'warm water': 397, 'lamb neck fillets': 1049, 'center cut pork chops': 3161, 'shredded mozzarella cheese': 393, 'double smoked bacon': 5195, 'camembert': 4178, 'nonfat italian dressing': 6101, 'dhaniya powder': 3598, 'Flora Original': 5173, 'plain low fat greek yogurt': 3115, 'rock sugar': 1017, 'chateaubriand': 6525, 'ground poppy seed': 5670, 'preserv raspberri seedless': 5758, 'dried cloud ears': 5913, 'mustard oil': 899, 'fully cooked luncheon meat': 2970, 'lower sodium beef broth': 3983, 'pastry shell': 1793, 'chinese rice wine': 518, 'unsweetened cocoa powder': 641, 'japanese eggplants': 1653, 'lemon wedge': 1744, 'egg beaters': 2865, 'szechuan sauce': 3845, 'portobello caps': 2564, 'peanut oil': 207, 'vegetarian oyster sauce': 5454, 'hellmannâ€™ or best food canola cholesterol free mayonnais': 5816, 'beef shoulder roast': 3866, 'almond oil': 4260, 'miso paste': 742, 'shiitake mushroom caps': 1426, 'sweetened coconut': 4351, 'medium cheddar cheese': 4900, 'golden brown sugar': 337, 'KRAFT Mexican Style 2% Milk Finely Shredded Four Cheese': 6552, 'beets': 1620, 'fino sherry': 1506, 'lamb breast': 3404, 'boneless sirloin': 4683, 'chocolate chip cookie mix': 5997, 'smoked ham': 2599, 'minced garlic': 489, 'coconut flakes': 3396, 'guanabana': 6451, 'herring fillets': 4590, 'cornbread mix': 2741, 'banana puree': 6481, 'raspberries': 132, 'zesty italian dressing': 135, 'Jameson Irish Whiskey': 4690, 'shredded monterey jack cheese': 3042, 'grapefruit juice': 287, 'tricolor quinoa': 5343, 'cornflakes': 3841, 'jamaican curry powder': 4859, 'chicken strips': 4528, 'rennet': 4801, 'ginger piece': 3887, 'hand': 3570, 'caper berries': 4626, 'masa': 1266, 'korean vermicelli': 5596, \"Potatoes O'Brien\": 3216, 'chicken fillets': 4811, 'pancetta': 1413, 'gray salt': 6110, 'vegan coffee creamer': 5357, 'shiitake': 296, 'greek seasoning mix': 6580, 'ragu old world style pasta sauc': 1807, 'low sodium 96% fat free ham': 4917, 'diced celery': 929, 'mustard sauce': 4350, 'chinese black vinegar': 2412, 'ginseng tea': 2997, 'king crab': 6550, 'genmai miso': 5977, 'bread flour': 1218, 'plain soy yogurt': 3645, 'brown gravy': 5160, 'turkey kielbasa': 3636, 'andouille chicken sausage': 3637, 'figs': 1317, 'pernod': 2148, '2% low-fat cottage cheese': 4021, 'low fat coleslaw dressing': 6457, 'unsalted pecans': 6609, 'Mexican oregano': 1604, 'riso': 6089, 'barley flakes': 2271, 'jerk seasoning mix': 6339, 'jambon de bayonne': 4849, 'clove garlic, fine chop': 3022, 'rocket leaves': 2047, 'India Pale Ale': 3951, 'reduced sodium chicken bouillon granules': 6652, 'lipton recip secret golden onion soup mix': 4228, 'pecan meal': 2571, 'low-fat chicken broth': 6414, 'pearl onions': 1354, 'clams': 680, 'yogurt cheese': 5560, 'strawberries': 979, 'duck drumsticks': 3445, 'fig jam': 2392, 'sorghum flour': 4812, 'double-dark soi sauc': 4110, 'luke warm water': 861, 'peach slices': 3118, 'chees fresco queso': 662, 'tartlet shells': 5578, 'kumquats in syrup': 5155, 'Corn Flakes Cereal': 655, 'Velveeta Queso Blanco': 4701, 'crumbs': 1346, 'canola mayonnaise': 4301, 'baby arugula': 854, 'brioche bread': 1781, 'masago': 5086, 'medium egg noodles': 1460, 'reduced sodium reduced fat cream of mushroom soup': 6606, 'low-fat soft goat cheese': 6395, 'low fat chunky mushroom pasta sauce': 5292, 'strawberry ice cream': 5572, 'sweet basil': 2841, 'Earth Balance Natural Buttery Spread': 5402, 'quahog clams': 5975, 'tea bags': 1140, 'minced ginger': 1083, 'irish oats': 6344, 'black beans': 519, 'hamburger buns': 412, 'pineapple salsa': 4318, 'sourdough': 376, 'grilled chicken strips': 5639, 'tuna drained and flaked': 4524, 'wood ear mushrooms': 793, 'champagne': 1730, 'raspberry sherbet': 6559, 'butter-flavored spray': 5529, 'ancho powder': 734, 'pure vanilla extract': 1856, 'california avocado': 1990, 'banana bread': 3904, 'Reblochon': 6232, 'cider vinegar': 1043, 'fine sea salt': 103, 'anchovies': 2155, 'extra light olive oil': 4876, 'Spice Islands Bay Leaves': 4740, 'fryer chickens': 2071, 'tapenade': 4538, 'gluten free cooking spray': 1595, 'fresh oregano leaves': 1816, 'dried black beans': 2843, 'fennel seeds': 621, 'boneless salmon fillets': 6052, 'pork shoulder': 982, 'jambalaya': 6366, 'firm tofu': 223, 'spring roll wrappers': 1217, 'low-fat tartar sauce': 5964, 'unflavored gelatin': 547, 'whole snapper': 1685, 'banger': 3955, 'queso crema': 5996, 'Vietnamese coriander': 1580, 'white quinoa': 5310, 'apple juice': 1561, 'chili garlic paste': 1079, 'breadcrumb mix': 6220, 'dried strawberries': 5710, 'sweet white wine': 6379, 'rice stick noodles': 2711, 'extra sharp cheddar cheese': 301, 'whole chicken': 2256, 'non-fat sour cream': 1229, 'bertolli four chees rosa sauc': 4711, 'fettucine': 713, 'canned chicken breast': 1362, 'boneless magret duck breast halves': 5733, 'sanding sugar': 2882, 'plain yogurt': 819, 'lemon twists': 5374, 'passata': 34, 'porterhouse steaks': 1743, 'salad greens': 2408, 'pandan essence': 6388, 'seedless red grapes': 2628, 'free range egg': 926, 'hot cherry pepper': 5316, 'somen': 2402, 'low-fat crème fraîche': 5763, 'bottled italian dressing': 5341, 'manicotti shells': 711, 'green pepper': 271, 'veggies': 1528, 'vegan yogurt': 4663, 'calabash': 6034, 'fish steaks': 2931, 'knorr reduc sodium chicken flavor bouillon': 5828, 'chicken wingettes': 4732, 'veal shoulder': 4567, 'crème de framboise': 4923, 'orange juice': 1080, 'evaporated cane juice': 2986, 'Lipton® Iced Tea Brew Family Size Tea Bags': 6709, 'macaroni and cheese dinner': 3035, 'Kitchen Bouquet': 6431, 'chuck steaks': 2234, 'red curry paste': 166, 'English mustard': 2980, 'vanilla vodka': 4603, 'creamer potatoes': 6299, 'ground turkey': 90, 'veal for stew': 2349, 'Elmlea single': 4742, 'fresh tomato salsa': 1454, 'five-spice powder': 2523, 'mesquite seasoning': 6423, 'and carrot green pea': 5459, 'marmalade': 3784, 'polenta corn meal': 3208, 'chinese red vinegar': 1922, 'bananas': 1349, 'edamame beans': 6124, 'garlic juice': 1636, 'lamb rib roast': 5694, 'apples': 782, 'skinless chicken breast fillets': 4748, 'unsalted shelled pistachio': 4989, 'Quinoa Flour': 2601, 'Jimmy Dean Pork Sausage': 4843, 'kokum': 4576, 'hazelnut flour': 5530, 'light brown muscavado sugar': 998, 'Azteca Flour Tortillas': 5796, 'dried mushrooms': 1935, 'nuoc cham': 4140, 'ice cream salt': 6253, 'asian wheat noodles': 5152, 'creole seasoning': 236, 'tupelo honey': 6271, 'hearts of romaine': 4053, \"za'atar\": 5736, 'Kung Pao sauce': 5684, 'low-fat cheddar cheese': 6035, 'carp': 6623, 'mango salsa': 3958, 'frozen corn kernels': 1468, 'italian pork sausage': 4241, 'elbow pasta': 4316, 'stevia': 1380, 'onions': 40, 'pancake mix': 2070, 'crumbled cheese': 3336, 'vinaigrette dressing': 1213, 'dried fettuccine': 2546, 'lemon dressing': 3674, 'orange marmalade': 1980, 'enokitake': 2644, 'fern': 4964, 'powdered egg whites': 6581, 'celtic salt': 4562, 'winter savory': 5993, 'ogura-an': 6461, 'organic cane sugar': 3516, 'sparkling rosé wine': 4872, 'pickled vegetables': 1032, 'fresca': 1657, 'McCormick Taco Seasoning': 6360, 'bottle gourd': 2440, 'tahini paste': 1606, 'marrow bones': 2465, 'chow mein noodles': 2713, 'madeleine': 6551, 'roast beef deli meat': 4054, 'chopped fresh mint': 153, 'watercress leaves': 2645, 'dried kelp': 3816, 'fresh lime juice': 140, 'chopped almonds': 851, 'curly endive': 1731, 'peach juice': 5625, 'homemade chicken broth': 3858, 'pure olive oil': 2609, 'chipotles in adobo': 562, 'raki': 6578, 'firmly packed brown sugar': 1038, 'natural peanut butter': 1077, 'morsels': 3961, 'arbol chile': 3286, 'king crab legs': 5119, 'fat free yogurt': 639, 'Karo Corn Syrup': 5770, 'Betty Crocker™ oatmeal cookie mix': 3448, 'organic coconut oil': 5762, 'duck liver': 4984, 'linguine, cook and drain': 2962, 'sweet vermouth': 4822, 'protein powder': 2778, 'sambal chile paste': 4141, 'enchilada sauce': 272, 'firmly packed light brown sugar': 2033, 'refrigerated pizza dough': 1817, 'boston butt': 1887, 'rusk': 4554, 'wild rice': 4722, 'large snails': 2785, 'fillet steaks': 5166, 'dried rosemary': 807, 'casings': 4464, 'potsticker wrappers': 5638, 'breakfast sausages': 204, 'rump steak': 3462, 'moroccan seasoning': 4789, 'broccoli rabe': 698, 'black bean sauce with garlic': 2374, 'bran flakes': 5637, 'lotus roots': 1717, 'bbq sauce': 1624, 'idaho potatoes': 2462, 'italian style seasoning': 3918, 'broiler-fryers': 5024, 'sauerkraut juice': 5035, 'Franks Hot Sauce': 831, 'gram flour': 1684, 'Hidden Valley® Original Ranch Salad® Dressing & Seasoning Mix': 3899, 'chorizo sausage': 56, 'dried cascabel chile': 2338, 'fresh onion': 1894, 'Chinese egg noodles': 1941, 'wild salmon': 4852, 'double concentrate tomato paste': 3260, 'key lime juice': 2025, 'beef drippings': 3068, 'red mustard': 4298, 'uncle bens': 3493, 'lumpia skins': 2091, 'sparkling sangria tradicional': 3653, 'instant white rice': 563, 'frozen peach slices': 5159, 'Nutella': 3134, 'baby spinach': 938, 'nuts': 1847, 'tomato purée': 880, 'mein': 4442, 'reduced sodium cream of mushroom soup': 5058, 'liquid': 918, 'medium whole wheat tortillas': 3998, 'green garlic': 2284, 'creamed spinach': 5778, 'porcini powder': 6325, 'short rib': 1303, 'sauerkraut': 1686, 'butter cooking spray': 2026, 'dandelion greens': 4245, 'kirby cucumbers': 2162, 'iceberg': 4231, 'house seasoning': 5729, 'low-fat buttermilk': 1257, 'peppered bacon': 5331, 'buckwheat honey': 5085, 'hen of the woods': 5974, 'decorating sugars': 3982, 'boiled eggs': 1215, 'Tabasco Pepper Sauce': 1274, 'steel-cut oatmeal': 5742, 'dried plum': 3950, 'baby kale': 3562, 'sauce': 276, 'low-fat goat cheese': 5109, 'low-sodium low-fat chicken broth': 4910, 'KRAFT Reduced Fat Shredded Mozzarella Cheese': 2906, 'lemon lime beverage': 2096, 'bibb lettuce': 1779, 'ramen soup mix': 4723, 'frozen popcorn chicken': 4817, 'regular sugar': 5606, 'reduced sugar orange marmalade': 6204, 'refrigerated dinner rolls': 5911, 'leftover meat': 5131, 'citrus peel': 4851, 'flaked coconut': 1451, 'cassia cinnamon': 4092, 'whole wheat bread cubes': 5211, 'cracker crumbs': 748, 'boneless beef chuck roast': 2239, 'kefalotyri': 744, 'white radish': 1096, 'chocolate covered english toffee': 4733, 'coriander': 428, 'chocolate candy bars': 1669, 'habanero chile': 3179, 'caviar': 2293, 'low-fat coffee ice cream': 5491, 'cookies': 2563, 'chili': 1044, 'gluten free lasagna noodle': 5883, 'chocolate spread': 3960, 'spring water': 3669, 'prune puree': 4542, 'crepes': 2279, 'cilantro pesto': 3087, 'beef rib short': 738, 'vodka': 2662, 'extract': 4144, 'pork shoulder boston butt': 2844, 'dried lavender': 3391, 'tri-tip roast': 4877, 'cornflour': 38, 'fermented black beans': 2024, 'broccoli slaw': 3305, 'rice syrup': 1285, 'large tomato': 2592, 'bertolli vodka sauc made with fresh cream': 5622, 'daal': 1906, 'king salmon': 5650, 'mild olive oil': 1334, 'triple sec': 1811, 'citrus slices': 3803, 'fenugreek': 328, 'paneer': 1681, 'whole grain buns': 6306, 'sambal ulek': 1304, 'Bisquick Baking Mix': 3919, 'red cabbage': 1255, 'tomato juice': 2201, 'cucumber salad': 3464, 'chile verde': 3146, 'queso anejo': 4907, 'Guinness Beer': 1338, 'macadamia nuts': 3377, 'brown rice flour': 3672, 'Pam No-Stick Cooking Spray': 4842, 'skinless haddock': 4687, 'grained': 4891, 'dri basil leaves, crush': 6141, 'salsa': 577, 'calimyrna figs': 649, 'fowl': 3218, 'matsutake mushrooms': 6083, 'Tyson Crispy Chicken Strips': 4483, 'fat-trimmed beef flank steak': 1645, 'angled loofah': 4477, 'leek tops': 4069, 'fresh tomatoes': 183, 'cuban peppers': 2698, 'regular soy sauce': 1375, 'wakame': 665, 'granola': 1929, 'pizza crust': 332, 'wheat flour': 1256, 'solid pack pumpkin': 959, 'pork heart': 6486, 'squirt': 2952, 'vermicelli': 1118, 'frozen cherries': 6126, 'lamb cubes': 5994, 'harusame': 5817, 'wood mushrooms': 4952, 'coconut butter': 6567, 'chopped bell pepper': 3021, 'low sodium beef bouillon granules': 6075, 'caponata': 2941, 'red chard': 4522, '2% lowfat greek yogurt': 6007, 'rendered duck fat': 3345, 'comice pears': 3429, 'sparkling sugar': 3299, 'asafetida': 1411, 'sweet corn': 2480, 'fresh ham': 1697, 'hops': 5837, 'fresh pineapple': 75, 'dried parsley': 1400, 'taco seasoning mix': 564, 'curly-leaf parsley': 2685, 'chestnut purée': 5657, 'boneless turkey breast': 3786, 'roasted almond oil': 6556, 'chillies': 348, 'peach nectar': 2730, 'Jonshonville® Cajun Style Chicken Sausage': 6123, 'sliced turkey': 2762, 'galangal': 912, 'pumpkinseed kernels': 3616, 'sunflower kernels': 6246, 'celery salt': 775, 'canned chicken broth': 1848, 'salmon caviar': 4706, 'sirloin': 297, 'petrale sole': 4558, 'japanese style bread crumbs': 5610, 'caramel ice cream topping': 5206, 'chopped pecans': 1037, 'true cinnamon': 6359, 'granular no-calorie sucralose sweetener': 5595, 'fresh cod': 3011, 'whole wheat pizza crust': 2294, 'avocado': 112, 'garlic oil': 3723, 'greek style seasoning': 5508, 'italian seasoned dry bread crumbs': 3606, 'tenderloin': 1524, 'popped popcorn': 3812, 'pasilla': 4557, 'custard dessert mix': 5580, 'hamachi': 5479, 'pepper cheese': 6245, 'rapeseed oil': 2228, 'rib roast': 1420, 'cooked turkey': 1650, 'fresh flounder fillets': 3934, 'deli rolls': 3981, 'reduced fat monterey jack cheese': 2932, 'creme de cacao': 6130, 'avocado oil': 2605, 'teardrop tomatoes': 2635, 'vegetable oil spray': 1844, 'panko': 2124, 'virginia ham': 4219, 'lady fingers': 4062, 'low sodium parmesan cheese': 5296, 'clam juice': 1863, 'cane vinegar': 2341, 'Rotel Diced Tomatoes & Green Chilies': 5450, 'old-fashioned oatmeal': 5919, 'ancho chile pepper': 1265, 'mozzarella balls': 1198, 'garden peas': 1609, 'bread machine yeast': 4896, 'chive blossoms': 4893, 'hazelnuts': 761, 'bean dip': 5168, 'penn pasta, cook and drain': 5000, 'leg of veal': 3778, 'part-skim ricotta cheese': 709, 'turnips': 221, 'chinese rock sugar': 5189, 'whole grain dijon mustard': 2409, 'farina': 4584, 'fermented bean paste': 6221, 'trout fillet': 101, 'espresso': 407, 'moose': 4494, 'glutinous rice': 2022, 'goose liver': 4606, 'whole wheat rigatoni': 4948, 'cauliflower': 473, 'bouillon': 3532, 'black grapes': 6376, 'fine salt': 1539, 'peasant bread': 1366, 'rigatoni': 1412, 'lipton tea bags': 6170, 'romana': 1558, 'parmigiano': 4050, 'basil': 305, 'parmigiano reggiano cheese': 700, 'dried pear': 3289, 'baby gem lettuce': 5044, 'apple cider': 253, 'scones': 4378, 'hazelnut liqueur': 5822, 'pita pockets': 2637, 'light beer': 4505, 'chicharron': 5490, 'seafood stock': 1560, 'turkey breast steaks': 4999, 'chopped cilantro': 58, 'frozen pizza dough': 4639, 'umeboshi plum vinegar': 3327, 'any': 4570, 'fried wonton strips': 5714, 'garden cress': 2187, 'carnation condensed milk': 6569, 'Flora Buttery': 4246, 'fresh basil': 77, 'Mountain Dew Soda': 5847, 'boneless chicken': 2195, 'urad dal': 327, 'black moss': 4765, 'dijon': 4381, 'apple cider vinegar': 837, 'bacon pieces': 3633, 'royal olives': 4385, 'miniature chocolate chips': 3130, 'carne asada': 5494, 'fruit juice': 5611, 'ground red pepper': 215, 'abura age': 4530, 'clove': 650, 'sofrito': 2395, 'silver dragees': 1801, 'coarse-grain salt': 2128, 'vegan parmesan cheese': 1712, 'food colouring': 415, 'white cheese': 2365, 'orange roughy fillet': 5464, 'vegetable demi-glace': 5019, 'semi-sweet chocolate morsels': 758, 'french toast': 3419, 'serrano ham': 375, 'chioggia': 6363, 'nonfat ricotta cheese': 1618, 'mostarda': 5252, 'pork leg': 4889, 'whipped cream': 1660, 'knockwurst': 2499, 'clementines': 4991, 'vegetable stock powder': 2928, 'honeydew': 4816, 'Thai chili paste': 3364, 'alaskan king salmon': 4898, 'Angostura bitters': 3268, 'Bertolli® Classico Olive Oil': 952, 'chopped leaves': 2690, 'baking soda': 311, 'muscovy': 5792, 'Sargento® Traditional Cut Shredded 4 Cheese Mexican': 4886, 'andouille sausage links': 1138, 'green gram': 3886, 'ground chile': 2074, 'fresh mushrooms': 1025, 'honey-flavored greek style yogurt': 6533, 'flower petals': 5772, 'garlic chili sauce': 139, 'Dole Seven Lettuces': 6264, 'hungarian paprika': 1869, 'shredded mild cheddar cheese': 2532, 'silken tofu': 692, 'vietnamese rice paper': 4938, 'tahini': 385, 'whole wheat dough': 5272, 'sweet chocolate': 3452, 'au jus mix': 4117, 'snapper fillets': 4402, 'fresh green bean': 1479, 'chocolate instant pudding': 618, 'thai noodles': 2909, 'orzo pasta': 844, '(    oz.) tomato sauce': 957, 'semi firm tofu': 3116, 'chopped green bell pepper': 477, 'purple onion': 3, 'papaya': 2263, 'wing sauce': 5647, 'spareribs': 343, 'pickled okra': 1855, 'acini di pepe': 5936, 'pitas': 869, 'Tokyo negi': 2361, 'caramels': 3789, 'turkey stock': 2326, 'onion salt': 2537, 'cured meats': 4440, 'sucanat': 5359, 'orange rind': 2533, 'frozen stir fry vegetable blend': 5072, 'self-rising cornmeal': 1864, 'sweetbreads': 5843, 'rotini': 1912, 'distilled malt vinegar': 3739, 'poha': 3385, 'melon liqueur': 6011, 'cacao nibs': 3416, 'idli': 1907, 'celery powder': 6455, 'cream of tartar': 756, 'Frangelico': 2254, 'arrow root': 5677, 'crabmeat frozen': 6002, 'dry red wine': 771, '40% less sodium taco seasoning': 3969, 'vegan margarine': 981, 'ground bison': 2282, 'whole grain rotini': 6560, 'long buns': 5685, 'Mrs. Dash': 5517, 'sea bass fillets': 2794, 'digestive biscuit': 4691, 'KRAFT Shredded Cheddar Cheese': 5174, 'Truvía® Baking Blend': 6177, 'tubettini': 6329, 'condensed tomato soup': 2359, 'dried basil': 227, 'tikka masala curry paste': 4932, 'lentils': 1095, 'smoked haddock fillet': 5163, 'flaked oats': 5838, 'dry rub': 3587, 'full fat sour cream': 4489, 'pork stock': 3270, 'lox': 5990, 'chinese five-spice powder': 242, 'mortadella': 3292, 'shrimp stock': 3480, 'whole wheat pita bread rounds': 5432, 'ground sirloin': 1414, 'amber rum': 5656, 'piecrust': 2598, 'coarse kosher salt': 1264, 'smoked kielbasa': 1889, 'oyster-flavor sauc': 3584, 'nopalitos': 4627, 'yogurt dressing': 5255, 'yellow corn': 2900, 'mayonaise': 28, 'shells': 1626, 'Heath Candy Bars': 6133, 'veal cutlets': 663, 'seville orange juice': 5445, 'butterscotch filling': 6268, 'torn romain lettuc leav': 987, 'red grapefruit juice': 4727, 'canned jalapeno peppers': 4088, 'chayotes': 3291, 'cake flour': 757, 'nori flakes': 2130, 'Red Gold® diced tomatoes': 3293, 'popcorn kernels': 6005, 'soft corn tortillas': 3119, 'bone-in pork chops': 2765, 'cajun style stewed tomatoes': 3003, 'beef sausage': 4084, 'whole wheat buns': 3235, 'cherry vinegar': 6586, 'pomegranate seeds': 2115, 'dried chipotle pepper': 5839, 'whole wheat pasta': 436, 'bok choy': 1065, 'jeera': 921, 'vanilla ice cream': 2059, 'wondra': 4332, 'JOHNSONVILLE Hot & Spicy Sausage Slices': 5484, 'pork cheeks': 4486, 'jalapeno chilies': 59, 'ground chicken': 1182, 'whole grain rice': 5707, 'pork sirloin roast': 4025, 'whole wheat bread dough': 6587, 'chard': 2113, 'seedless watermelon': 3114, 'Old El Paso™ taco seasoning mix': 2688, 'sliced shallots': 1850, 'hot spanish paprika': 5726, 'whipped butter': 3285, 'crab meat': 750, 'canola oil cooking spray': 5123, 'Jack Daniels Whiskey': 6199, 'medium shrimp': 60, 'ground mustard': 2380, 'Oscar Mayer Cotto Salami': 6704, 'pilsner': 6106, 'Alaskan king crab legs': 3700, 'pork sausage casing': 5907, 'emerils original essence': 2781, 'peeled deveined shrimp': 1784, 'ginger beer': 3227, 'reduced sodium soy sauce': 652, 'tripe': 1759, 'burgundy wine': 5849, 'cajun spice mix': 3884, 'lamb': 818, 'garland chrysanthemum': 3242, 'sun-dried tomatoes': 1199, 'sturgeon': 6259, 'sago': 5969, 'white cabbage': 1600, 'lemon pepper': 1353, 'tomato salsa': 2312, 'greek-style vinaigrette': 2295, 'filo dough': 4185, 'msg': 1673, 'nut oil': 5718, 'green onions': 231, 'balm leaves': 5833, 'frozen fruit': 5038, 'au jus gravy mix': 6198, 'regular cucumber': 5780, 'sage leaves': 238, 'chocolate sauce': 1152, 'poppy seeds': 1703, 'rice sticks': 3441, 'brewed coffee': 1480, 'coconut': 1036, 'sichuanese chili paste': 4580, 'nonfat greek yogurt': 1973, 'kamaboko': 2362, 'chinese red rice vinegar': 3167, 'fiber one': 1747, 'curry leaves': 1286, 'ginger liqueur': 3228, 'baby corn': 1778, 'organic sugar': 963, 'Pace Chunky Salsa': 2693, 'reduced fat swiss cheese': 1228, 'marshmallows': 497, 'flax seed meal': 1126, 'sweetened red beans': 5431, 'savoy spinach': 6538, 'Sangiovese': 6185, 'spaghetti, cook and drain': 3605, 'crushed peppermint candy': 5613, 'shredded low-fat sharp cheddar': 2864, 'hijiki': 6458, 'Heinz Tomato Ketchup': 4827, 'lamb for stew': 5446, 'skate wing': 2703, 'Classico Pasta Sauce': 6656, 'italian rolls': 6357, 'dry vermouth': 993, 'buckwheat groats': 5456, 'KRAFT Shredded Colby & Monterey Jack Cheese': 6365, 'channa dal': 4188, 'pitted Medjool dates': 4614, 'riesling': 3865, 'orange soda': 2859, 'gremolata': 2660, 'cream filled chocolate sandwich cookies': 5575, 'semisweet chocolate': 442, 'Kikkoman Less Sodium Soy Sauce': 6356, 'yams': 2307, 'boneless chuck roast': 2352, 'apple butter': 2831, 'pudding': 2192, 'shiromiso': 2718, 'bacon salt': 5275, 'meat marinade': 5597, 'solid white tuna in oil': 4878, 'toasted cashews': 1302, 'tandoori masala mix': 6477, 'feta cheese': 527, 'pearl couscous': 4613, 'tzatziki': 1999, 'evaporated milk': 485, 'cooked chicken': 189, 'broth': 1901, 'Mexican seasoning mix': 1424, 'cremini': 5952, 'Japanese Mayonnaise': 6160, 'large garlic cloves': 256, 'rice vinegar': 362, 'reduced fat alfredo sauce': 2414, 'new mexico chile pods': 3484, 'cannelloni shells': 2085, 'rub': 2355, 'pickles': 1133, 'dried chestnuts': 4997, 'halibut': 2895, 'accent': 3705, 'cacao powder': 2869, 'beluga lentil': 6495, 'chicken breast halves': 279, 'konnyaku': 4885, 'squash': 2358, 'tuscan sausage': 4411, 'risotto rice': 3223, 'dumpling wrappers': 2569, 'whole wheat berries': 5989, 'sliced ham': 1385, 'reduced fat reduced sodium tomato and herb pasta sauce': 5440, 'cream of coconut': 3650, 'harissa': 399, 'coconut meat': 4374, 'potato rolls': 5077, 'Louisiana Hot Sauce': 2123, 'albacore tuna in water': 2547, 'vanilla cake mix': 6353, 'lychees': 3010, 'coffee granules': 1760, 'pasta spiral': 4310, 'back bacon': 5179, 'cornflake cereal': 1628, 'all purpose seasoning': 1956, 'mace': 513, 'gluten-free rolled oats': 3989, 'Kraft Extra Sharp Cheddar Cheese': 6122, 'crema mexican': 2656, 'almond butter': 1725, 'shredded lowfat monterey jack cheese': 6620, 'clover honey': 4434, 'blackberry jam': 4882, 'fat free beef broth': 4899, 'chop fine pecan': 2981, 'watermelon radishes': 5682, 'bacon bits': 2119, 'Jarlsberg': 3165, 'veal kidneys': 3612, 'tomate verde': 6521, 'beef': 958, 'french onion soup': 2835, 'bone in': 4195, 'roasted pepitas': 6539, 'white italian tuna in olive oil': 4304, 'yolk': 2057, 'chenpi': 3571, 'traditional italian sauce': 4791, 'sourdough starter': 6295, 'morcilla': 5370, 'kirsch': 2618, 'tamarind purée': 4399, 'red bliss potato': 3730, 'espresso powder': 1964, 'vegetable bouillon': 4037, 'ground chuck': 1552, 'canned black beans': 269, 'garnish': 1390, 'konbu': 1189, 'mushrooms': 83, 'dark turkey meat': 4423, 'ranch dip mix': 5368, 'mostaccioli': 3490, 'pork meat': 3254, 'chunky salsa': 566, 'oil packed anchovy fillets': 2565, 'ground cumin': 45, 'reposado': 4013, 'free-range chickens': 3849, 'white button mushrooms': 3468, 'salad leaves': 1612, 'soup bones': 5157, 'nonfat vanilla yogurt': 5658, 'corn starch': 89, 'rosemary needles': 6368, 'chicken breast strips': 4130, 'sack': 1882, 'farofa': 3568, 'chat masala': 3791, 'refined sugar': 4193, 'creole style seasoning': 594, 'Budweiser': 4799, 'broccoli florets': 1529, 'lily flowers': 2253, 'low-fat sesame-ginger dressing': 4866, 'urad dal split': 3869, 'won ton skins': 6466, 'Italian herbs': 2775, 'skinless chicken fillets': 4933, 'ciabatta loaf': 6708, 'reduced fat shredded cheese': 3580, 'Amarena cherries': 6331, 'toasted sunflower seeds': 4695, 'wild asparagus': 6635, 'ficelle': 3790, 'polish sausage': 2103, 'pork shanks': 4778, 'quick yeast': 6149, 'pork cubes': 3900, 'veal scallops': 4669, 'veal shanks': 2518, 'gravenstein apple': 5934, 'calvados': 1949, 'roast red peppers, drain': 1458, 'pumpkin seed mole': 6590, 'Morton Salt': 4844, 'rotini pasta, cook and drain': 6698, 'cardoons': 5668, 'small new potatoes': 3467, 'reduced fat creamy peanut butter': 1752, 'canned coconut milk': 3578, 'mini chocolate chips': 1428, 'prosciutto': 969, 'eye of round roast': 4206, 'soy glaze': 2589, 'pimenton de la vera': 4221, 'sauterne': 3883, 'black cumin seeds': 3551, 'soy bean paste': 3326, 'gluten-free bread': 6041, 'malt powder': 6296, 'sugar cookie dough': 4926, 'coconut aminos': 678, 'pak choi': 4484, 'full fat cream cheese': 4784, 'bonito flakes': 2052, 'creme anglaise': 2225, 'celery root': 3339, 'tostitos': 5652, 'chilled prosecco': 5282, 'Ragu Classic Alfredo Sauce': 5165, 'lavash': 5325, 'buttermilk biscuits': 2316, 'Crystal Hot Sauce': 1883, 'ravva': 1403, 'chocolate frosting': 6021, 'chocolate truffle': 5760, 'duck breasts': 2121, 'jimmies': 6269, 'liquorice': 1018, 'wheat free soy sauce': 2475, 'sweet and sour mix': 5513, 'strawberry preserves': 3325, 'sweet soy sauce': 2897, 'boneless chicken skinless thigh': 31, 'gyoza': 4223, 'chinese black bean': 1015, 'Philadelphia Cream Cheese': 751, 'garlic pepper blend': 6529, 'long grain and wild rice mix': 1548, 'parsley': 235, 'sorbet': 5101, 'frozen okra': 3070, \"Campbell's Condensed Tomato Soup\": 1322, 'extra sharp white cheddar cheese': 2268, 'dry white wine': 309, 'essence seasoning': 5462, 'cold water': 319, 'center cut pork loin chops': 4482, 'mixed spice': 582, 'low-fat sweetened condensed milk': 5865, 'roasted chili paste': 3956, 'fresh mint': 859, 'green peas': 681, 'light pancake syrup': 832, 'doenzang': 2968, 'pekin duck breast halves': 2661, 'garlic herb spreadable cheese': 5877, 'graham crackers': 2747, 'condensed reduced fat reduced sodium cream of mushroom soup': 3229, 'boneless duck breast halves': 6655, 'toasted unsweetened coconut': 4047, 'praline': 6421, 'meat loaf mix': 2354, 'shrimp': 206, 'fresh chili': 2834, 'White Lily Flour': 6417, 'corn husks': 1996, 'Tamari Tamari': 5071, 'dried beef': 5208, 'pomegranate molasses': 3136, 'Edam': 3813, 'toasted slivered almonds': 2806, 'Bertolli Tomato & Basil Sauce': 6482, '1% low-fat chocolate milk': 3859, 'brown ale': 3459, 'Spice Islands Ground Cumin Seed': 6546, 'red sockeye': 4775, 'celery stick': 3049, 'browning': 3016, 'gelatin': 2769, 'winesap': 6614, 'bihon': 4226, 'Knorr Beef Stock Cubes': 6619, 'shrimp heads': 3720, 'tomato soup': 3133, 'dates': 1584, 'hakusai': 6589, 'large flour tortillas': 2800, 'yellowfin': 5087, 'merguez sausage': 2733, 'pickle relish': 2027, 'half & half': 989, 'brown hash potato': 2436, 'clam sauce': 5433, 'pink lentil': 4973, 'onion soup': 1555, 'cold coffee': 6568, 'smoked gouda': 944, 'umeboshi': 1867, 'boneless beef short ribs': 825, 'cooked white rice': 794, 'splenda': 3231, 'fresh curry leaves': 1615, 'sweet rice wine': 2671, 'baking powder': 51, 'country style italian bread': 5463, 'shoulder meat': 2783, 'patis': 3663, 'drummettes': 3634, 'white peppercorns': 1599, 'grated lemon peel': 1075, 'peach vodka': 3808, 'fine grind white cornmeal': 5875, 'low-fat vanilla yogurt': 5947, 'mission figs': 6001, 'baby okra': 5746, 'red russian kale': 4409, 'vegan chicken flavored bouillon': 5630, 'mutton': 2903, 'green plantains': 3736, 'green leaf lettuce': 1450, 'chile de arbol': 2491, 'mixed vegetables': 2586, 'shoepeg corn': 3727, 'boneless skinless turkey breasts': 5375, '25% less sodium chicken broth': 4372, 'whole grain English muffins': 3472, 'SYD Hot Rub': 5226, 'bean thread vermicelli': 1986, 'mandarin orange juice': 6438, 'shoulder roast': 6044, 'fudge brownie mix': 4714, 'baby greens': 3446, 'pork': 69, 'cubed beef': 4286, 'unsweetened coconut milk': 339, 'garbonzo bean': 5048, 'canned chopped tomatoes': 1571, 'chicken-apple sausage': 3559, 'Chambord Liqueur': 5987, 'back bacon rashers': 1192, 'meat extract': 6006, 'oleo': 4785, 'veget soup mix': 1767, 'baton': 1854, 'sweet paprika': 1137, 'pitted black olives': 1910, 'mitsuba': 5628, 'old ginger': 3347, 'california chile': 2829, 'garlic pepper seasoning': 1453, 'smoked whitefish': 5937, 'honey liqueur': 4430, 'cola-flavored carbonated beverage': 4697, 'saba': 3210, 'Goya Ground Cumin': 6226, 'pisco brandy': 6209, 'skinless cod fillets': 5966, 'whole wheat pita pockets': 6116, 'whole grain mustard': 1509, 'carnaroli rice': 2739, \"hellmann' or best food real mayonnais\": 2139, 'fried rice': 2288, 'low-fat yogurt': 2568, 'ground cayenne pepper': 1301, 'candied bacon': 4373, 'peppadews': 3508, 'fresh masa': 5334, 'pimenton': 1822, 'calabaza': 5487, 'forest mushroom': 5852, 'alfalfa sprouts': 5475, 'Progresso Balsamic Vinegar': 6472, 'crushed peppercorn': 6532, 'persian cucumber': 890, 'vin santo': 3084, 'Cara Cara orange': 5264, 'wheat bran': 1258, 'val': 6153, 'gravy granules': 5509, 'chicken meat': 1441, 'strozzapreti': 2973, 'organic milk': 5649, 'uncooked ziti': 3533, 'queso manchego': 4173, 'pecorino romano cheese': 606, 'fresh blueberries': 2437, 'rustic rub': 6119, 'reduced sodium refried beans': 3079, 'sugar substitute': 4594, 'pork loin rib chops': 6297, 'bottom round': 3189, 'korean buckwheat noodles': 5233, 'tomatoes on the vine': 3200, 'tandoori spices': 1373, 'lamb kidneys': 5807, 'sunflower seed butter': 2712, 'bitter gourd': 5029, 'basil dried leaves': 3057, 'milk & cream': 5502, 'Gebhardt Chili Powder': 6135, 'Barilla Oven-Ready Lasagne': 3373, 'salad seasoning mix': 2010, 'pears': 833, 'sour cherries': 3250, 'milkfish': 4034, 'pâté': 5543, 'Conimex Woksaus Specials Vietnamese Gember Knoflook': 3909, 'toasted almonds': 1472, 'boneless moulard duck breast halves': 5328, 'lemon-lime soda': 2044, 'top loin steaks': 5699, 'whole wheat uncooked lasagna noodles': 4688, 'chili con carne': 6642, 'phyllo': 747, 'roasted garlic oil': 6216, 'mung bean vermicelli': 6653, 'chopped nuts': 914, 'reduced sodium chicken broth': 1029, 'Yoplait® Greek 2% caramel yogurt': 5237, 'chips': 1464, 'Sargento® Traditional Cut Shredded Mozzarella Cheese': 1168, 'cocoa powder': 1202, 'CURRY GUY Smoked Garam Masala': 5905, 'goose fat': 3128, 'anjou pears': 1721, 'Diamond Crystal® Kosher Salt': 5460, 'chili paste': 657, 'Minute White Rice': 5659, 'dried mission figs': 4468, 'eating apple': 4674, 'country gravy': 6392, 'ajinomoto': 3914, 'oil packed anchovies': 2724, 'barilla': 2200, 'macarons': 4282, 'red bell pepper': 147, 'pasta shapes': 5635, 'corn kernels': 903, 'low sodium fat free vegetable broth': 5050, 'gluten-free tamari sauce': 6507, 'coke zero': 2998, 'light tuna': 1386, 'yellow lentils': 1903, 'fusilli': 2774, 'pummelo': 5734, 'cream style corn': 2479, 'buffalo sauce': 2081, 'light sour cream': 843, 'demi baguette': 5713, 'cooking salt': 4225, 'veal demi-glace': 4170, 'almond liqueur': 3819, 'fresh pasta': 4029, 'vanilla soy milk': 5345, 'iced tea': 4431, 'atta': 2190, 'Fuyu persimmons': 422, 'milk chocolate pieces': 5980, 'beef broth': 1336, 'wish bone ranch dress': 2768, 'reduced fat sharp cheddar cheese': 1838, 'Tabasco Green Pepper Sauce': 2425, 'turkey sausage links': 4240, 'chicken pieces': 1463, 'ground cloves': 388, 'pies': 4044, 'epazote': 464, 'meringue': 2649, 'Pure Wesson Vegetable Oil': 6136, 'shredded coconut': 1094, 'apple juice concentrate': 2657, 'onion tops': 1072, 'sweet cherries': 760, 'bone-in short ribs': 5403, 'Pillsbury Thin Pizza Crust': 5879, 'low sodium chicken broth': 706, 'french sandwich rolls': 3592, 'Philadelphia Cooking Creme': 3322, 'saffron powder': 5510, 'lemon verbena': 4942, 'hoagie buns': 1132, 'thai basil': 148, 'ocean perch': 2930, 'corn bread': 1776, 'chapati flour': 3495, 'small pasta': 2759, \"soft goat's cheese\": 1477, 'greek yogurt': 133, 'string beans': 1309, 'fine egg noodles': 5549, 'speck': 6485, 'perciatelli': 2209, 'fatback': 2320, 'maple sugar': 2335, 'muscat': 3181, 'prepared pie crusts': 5928, 'mung bean sprouts': 1033, 'salmon steaks': 924, 'gold tequila': 4836, 'soppressata': 1245, 'branzino': 2376, 'capocollo': 4956, 'hard cider': 5943, 'Biryani Masala': 2632, 'asian dressing': 6284, 'Success White Rice': 6549, 'low-fat marinara sauce': 5091, 'unsweetened almond milk': 3451, 'dried prawns': 2490, 'pumpernickel bread': 4705, 'char': 4375, 'freshly grated parmesan': 1288, 'cooki vanilla wafer': 6597, 'halloumi cheese': 6147, 'heirloom squash': 6480, 'game': 6699, 'citron': 3033, 'diced mushrooms': 6308, 'bread slices': 239, 'puff paste': 6684, 'tapioca starch': 1042, 'white beans': 1545, 'chinese noodles': 1207, 'shredded colby': 5469, 'seasoning salt': 482, 'instant tea powder': 6453, 'refried beans': 596, 'lard': 605, 'anchovy filets': 5040, 'hots': 6080, 'adobo seasoning': 3425, 'frozen pie crust': 4288, 'stellette': 5764, 'sparkling mineral water': 4857, 'glaze': 1440, 'miswa': 6487, 'vegetable seasoning': 5457, 'rice flour': 484, 'shredded cheese': 798, 'young coconut meat': 3755, 'biscuits': 1248, 'cognac': 1588, 'dried tomatoes': 4839, 'chocolate curls': 3709, 'dukkah': 3686, 'yellow bean sauce': 2485, 'chinese celery': 2244, 'spice cake mix': 4881, 'whole wheat lasagna noodles': 1467, 'strawberry syrup': 3522, 'kinchay': 6125, 'hazelnut oil': 763, 'togarashi': 2088, 'ice cubes': 263, 'shell steak': 4006, 'rye bread': 4845, 'nori furikake': 6601, 'hot dogs': 2276, 'navel oranges': 1371, 'teff': 5083, 'white rum': 265, 'chèvre': 3317, 'loose leaf black tea': 5416, 'fennel bulb': 285, 'broiler-fryer chicken': 136, 'glace de viande': 4077, 'whole baby okra': 5998, 'vanilla': 365, 'frozen peaches': 3220, 'thyme sprig': 4497, 'ramen noodles': 1438, 'maida flour': 688, 'dried peach': 3407, 'mint sauce': 3846, 'dark chicken stock': 2650, 'Adobo All Purpose Seasoning': 3549, 'frankfurters': 6648, 'organic chicken broth': 4317, 'dressing': 1047, 'Kraft Grated Parmesan Cheese': 1378, 'crumbled ricotta salata cheese': 3713, 'jumbo shrimp': 848, 'spinach leaves': 610, 'unsweetened baking chocolate': 6028, 'eye of round steak': 4133, 'dried shrimp': 2442, 'lingcod': 5594, 'sazon': 4625, 'fresh veget': 716, 'spring rolls': 4908, 'unagi': 5627, 'dry jack': 6333, 'low-fat caesar dressing': 6440, 'chickpeas': 382, 'grappa': 1485, 'tagliarini': 5012, 'cod cheeks': 4145, 'meat sauce': 3964, 'peeled tomatoes': 728, 'fry mix': 1066, 'red serrano peppers': 2575, 'stir fry beef meat': 3120, 'tempura batter': 4446, 'sweet & sour stir fry sauce': 4067, 'shredded sharp cheddar cheese': 933, 'anise basil': 3947, 'stolichnaya': 2663, 'violets': 6225, 'angus': 6102, 'shao hsing wine': 2243, 'pork lard': 1771, 'stone ground mustard': 4465, 'Accent Seasoning': 3574, 'burrito seasoning mix': 5903, 'prepared pizza crust': 1166, 'gluten-free pasta': 3009, 'California bay leaves': 1088, 'Breakstone’s Sour Cream': 5175, 'curry leaf': 5041, 'prime rib': 2165, 'sodium reduced beef broth': 5352, 'tallow': 3685, 'soft-boiled egg': 1693, 'indian flat bread': 4588, 'jamaican jerk season': 866, 'slider rolls': 6334, 'gluten-free oat': 5081, 'flatbread': 2315, 'phyllo dough': 1987, 'cured pork': 6399, 'low-fat mayonnaise': 158, 'pork country-style ribs': 2919, 'franks': 3629, 'fresh brussels sprouts': 4059, 'boneless chicken breast': 898, 'sliced green onions': 141, 'cassava root flour': 4383, 'blue cheese dressing': 2082, 'dried guajillo chiles': 3363, 'chicken breast tenders': 2180, 'fregola': 1663, 'cook egg hard': 4820, 'arctic char': 6662, 'proscuitto di parma': 4503, 'hot dog bun': 1891, 'asian pear': 658, 'stone flower': 4921, 'pecans': 409, 'meal': 5134, 'oat groats': 4716, 'base': 1482, 'chowchow': 6462, 'ciabatta roll': 5258, 'dark lager': 5811, 'disco empanada frozen': 5829, 'beef sirloin': 1849, 'broiler chicken': 6193, 'mozzarella string cheese': 6504, 'poppyseeds': 2292, 'bacon, crisp-cooked and crumbled': 950, 'rabbit': 2510, 'ornamental kale': 5620, 'nonfat powdered milk': 4421, 'low-fat vanilla wafers': 6541, 'caraway': 5896, 'lemon juice': 41, 'ladys house seasoning': 5099, 'habas': 5355, 'beef ribs': 2566, 'sugar pearls': 6244, 'seasoning': 4, 'toasted walnuts': 1537, 'whole garam masala': 5049, 'ground allspice': 541, 'parmagiano reggiano': 3051, 'japanese pumpkin': 5629, 'Cointreau Liqueur': 3309, 'fresh cilantro': 108, 'chicken cutlets': 1252, 'fat free less sodium chicken broth': 116, 'whole wheat couscous': 3748, 'beef brisket': 1427, 'minced chicken': 4780, 'baking mix': 1367, 'uni': 5254, 'bean sauce': 4100, 'lo mein noodles': 181, 'palm sugar': 226, 'red pepper hot sauce': 4312, 'marshmallow vodka': 3987, 'boned skinned duck breast halves': 5781, 'mango': 186, 'cider': 2299, 'fettuccine pasta': 1208, 'soy milk': 2867, 'frozen whole kernel corn': 986, 'hen': 5959, 'Poire Williams': 2058, 'dry yeast': 1502, 'grape vine leaves': 6411, 'food gel': 4417, 'dark muscovado sugar': 3893, 'sugar syrup': 2202, 'chilled seltzer': 4840, 'unsweetened iced tea': 5222, 'angel hair': 1829, 'tomatillos': 468, 'apricot halves': 1734, 'pasta': 664, 'quinces': 2064, 'kingfish': 4575, 'melon': 3779, 'pumpkin seed oil': 3437, 'Knorr Fish Stock Cubes': 6435, 'shaved chocolate': 4005, 'sichuan peppercorn oil': 6188, 'coarse salt': 330, 'cooked ham': 450, 'flour': 64, 'panang curry paste': 5890, 'dessert wine': 3503, 'cake yeast': 3722, 'cinnamon sugar': 1279, 'gran marnier': 2144, 'stilton cheese': 3424, 'garlic chives': 2286, 'condensed cream': 6402, 'skinless chicken breasts': 839, 'cremini mushrooms': 770, 'pansies': 5563, 'crema': 923, 'country white bread': 1448, 'low-fat spaghetti sauce': 3108, 'coconut vinegar': 1307, 'granulated white sugar': 2674, 'Pillsbury Pie Crusts': 6442, 'mango nectar': 3647, 'cream yogurt': 5347, 'bottled chili sauce': 5471, 'chile puree': 5916, 'butterflied leg of lamb': 3440, 'Boston lettuce': 887, 'curry sauce': 2015, 'glass noodles': 294, 'conchiglie': 6688, 'poblano chilies': 1633, 'Hurst Family Harvest Chipotle Lime Black Bean Soup mix': 1596, 'cooking oil': 20, 'Zatarains Creole Seasoning': 6346, 'yellow food coloring': 1868, 'walnuts': 105, 'sturgeon fillets': 1859, 'Ragu® Robusto!® Pasta Sauce': 5309, 'hemp seeds': 3418, 'peach preserves': 1690, 'queso panela': 5923, 'serrano chilies': 1893, 'sliced cucumber': 2348, 'plum wine': 5470, 'low fat part skim ricotta chees': 6062, 'lady apples': 6042, 'center cut pork roast': 6512, 'udon': 693, 'chopped hazelnuts': 2530, 'banana extract': 5819, 'rose essence': 2289, 'caster sugar': 1216, 'crushed pineapple': 2013, 'dinner rolls': 932, 'mild sausage': 3871, 'sweet mustard': 3772, 'cooked vegetables': 3098, 'skinless salmon fillets': 4807, 'adobo style seasoning': 5411, 'fried eggs': 3186, 'teriyaki marinade': 5945, 'canned chicken': 6158, 'black vinegar': 1834, 'poolish': 6500, 'frozen broad beans': 592, 'round loaf': 4273, 'crimini mushrooms': 1318, 'tater tots': 6382, 'frozen crabmeat, thaw and drain': 5305, 'chinese baby corn': 3543, 'char siu sauce': 3461, 'collards': 3113, 'popcorn chicken': 4768, 'yellow corn meal': 9, 'fat-free croutons': 6192, 'veal scallopini': 1702, 'yoplait': 6416, 'salted fish': 5228, 'yuzu': 5390, 'french baguette': 2574, 'bonito': 2495, 'pork hocks': 4617, 'hot water': 774, 'low fat plain yoghurt': 3840, 'roasted garlic': 1230, 'Emmenthal': 2888, 'culinary lavender': 6017, 'fish stock': 1858, 'corn syrup': 858, 'horseradish': 1196, 'italian tomatoes': 2281, 'collard green leaves': 2923, 'Wolf Brand Chili': 5809, 'Kraft Slim Cut Mozzarella Cheese Slices': 6703, 'chip plain tortilla': 4328, 'borlotti beans': 3183, 'fast-rising active dry yeast': 5556, 'ramen': 3657, 'peeled fresh ginger': 667, 'manzanilla': 4776, 'yellow bell pepper': 523, 'candied jalapeno': 5518, 'caramel sauce': 1009, 'garlic paste': 43, 'buttermilk': 290, 'self rising flour': 417, 'powdered vanilla pudding mix': 3745, 'maifun': 4093, 'Italian cheese blend': 3335, 'goat': 4518, 'herbs': 185, 'sweet potato vermicelli': 4395, 'Pale Ale': 3809, 'beurre manié': 6282, 'raw sugar': 2812, 'skinless mahi mahi fillets': 5725, 'shaoxing': 4460, 'water chestnut powder': 6362, 'italian pizza crust': 5020, 'pina colada mix': 5599, 'jumbo pasta shells': 1419, 'toffee sauce': 4229, 'meat tenderizer': 4086, 'fully cooked ham': 1563, 'plain chocolate': 2054, 'cooked brown rice': 1062, 'bertolli organic tradit sauc': 5001, 'asafoetida': 2083, 'New York Style Panetini® toasts': 5257, 'lambs liver': 6608, 'chili pepper': 1008, 'liqueur': 2159, 'scotch': 2382, 'kale': 822, 'smoked mackerel': 6377, 'black': 2197, 'kasuri methi': 895, 'ikura': 4090, 'vanilla yogurt': 4352, 'chili paste with garlic': 715, 'cummin': 5150, 'broccoli': 168, 'fine granulated sugar': 2603, 'roast duck meat': 6313, 'globe eggplant': 3110, 'lavender flowers': 6107, 'pitted prunes': 1459, 'unsalted vegetable stock': 3760, 'sea cucumber': 3410, 'olive oil flavored cooking spray': 708, 'Crisco Pure Vegetable Oil': 6436, 'cream powder': 6348, 'potato gnocchi': 1820, 'salt free chili powder': 6667, 'dried lavender blossoms': 5045, 'chipotle chile powder': 732, 'KRAFT Shredded Pepper Jack Cheese with a TOUCH OF PHILADELPHIA': 4815, 'anise': 648, 'hibiscus flowers': 5181, 'croutons': 2118, 'mixed mushrooms': 791, 'brown rice penne': 6443, 'toasted sesame oil': 629, 'biga': 5654, 'milk chocolate chips': 2945, 'Italian bread': 390, 'frozen chopped spinach': 707, 'nonfat dry milk powder': 4020, 'shimeji mushrooms': 3582, 'fritos': 2109, 'pasta sauce': 710, 'veal tongue': 5366, 'Korean chile flakes': 891, 'dried fig': 1478, 'giardiniera': 258, 'instant espresso granules': 544, 'mincemeat pie filling': 5855, 'monterey jack': 304, 'strawberry gelatin': 5815, 'slaw mix': 1131, 'peach schnapps': 3370, 'herb dressing': 5531, 'sultana': 2855, 'gnocchi': 117, 'bone-in chicken breasts': 616, 'hickory smoke': 5244, 'meat loaf mixture': 6142, 'soup mix': 4616, 'ground pork sausage': 6172, 'campari': 4174, 'spanish onion': 2468, 'miniature semisweet chocolate chips': 4519, 'dill tips': 2369, 'caciocavallo': 3092, 'marzipan': 3038, 'coffee': 1959, 'whole wheat pita': 2431, 'fat-free chicken broth': 1977, 'dijon style mustard': 2221, 'asian eggplants': 3103, 'salted dry roasted peanuts': 2079, 'friselle': 6615, 'fresh raspberries': 984, 'Domino Confectioners Sugar': 5552, 'striped bass': 3063, 'clear honey': 2631, 'hatcho miso': 2236, 'light cream or half and half': 4163, 'mussels': 308, 'parsnips': 583, 'polenta': 1051, 'mezcal': 3805, 'chicken stock': 255, 'stevia powder': 5614, 'goma': 4779, 'wheatberries': 5743, 'frozen limeade concentrate': 1979, 'dried tart cherries': 1234, 'pineapple juice concentrate': 2309, 'egg bread': 424, 'extra-virgin olive oil': 78, 'sugar cane juice': 3202, 'pickle wedges': 4684, 'pickling spices': 1436, 'reduced-sodium tamari sauce': 3817, 'Breyers® Natural Vanilla Ice Cream': 5428, 'peperoncini': 4078, 'date molasses': 6577, 'fresh peas': 1446, 'zucchini': 555, 'osetra caviar': 3701, 'soba noodles': 911, 'malt syrup': 3974, 'herb seasoned stuffing': 4895, 'reduced sodium beef stock': 5242, 'sugarcane sticks': 3863, 'nori sheets': 3193, 'fresh chervil': 2216, 'dill weed': 1616, 'romano cheese': 970, 'reduced sodium chicken flavor stuffing mix': 6290, 'caribbean jerk seasoning': 5145, 'corn tortilla chips': 2153, 'instant oats': 6043, 'jerk rub seasoning': 6476, 'free-range eggs': 3749, 'French mustard': 3603, 'tonic water': 6666, 'assorted fresh vegetables': 3553, 'quatre épices': 1530, 'ice': 406, 'rice crackers': 4934, 'angel food cake': 640, 'gluten-free penne': 6322, 'lite coconut milk': 1675, 'roasted rice powder': 4720, 'katsuo bushi': 3476, 'white almond bark': 65, 'hearts of palm': 1129, 'orange peel': 1619, 'ghee': 345, 'swiss': 6405, 'leftover steak': 4272, 'vegetable shortening': 455, 'vegan butter': 3026, 'chinese spinach': 5353, 'praline syrup': 6194, 'edible gold leaf': 6394, 'skinless chicken thighs': 560, 'daikon sprouts': 5921, 'diced apples': 2737, 'rosé wine': 2363, 'chopped bacon': 4064, 'Yakisoba noodles': 4176, 'nutmeg': 1177, 'cheese soup': 2926, 'butter lettuce': 1299, 'dried oysters': 4953, 'baked pita chips': 6562, 'regular chicken broth': 4479, 'dark meat': 5662, 'sunflower seeds': 4566, 'shortbread': 4401, 'ragu old world style tradit pasta sauc': 2067, 'cauliflowerets': 3586, 'minced lean steak': 6490, 'smoked almonds': 6045, 'vanilla cream': 1748, 'venison': 2511, 'pearl barley': 496, 'toffee bits': 5771, 'Nilla Wafers': 3176, 'gumbo file powder': 5293, 'shanghai bok choy': 6372, 'rendered bacon fat': 4027, 'turkey breast deli meat': 6300, 'lasagna sheets': 3081, 'sesame oil': 93, 'low-fat deli ham': 6634, 'promise buttery spread': 3515, 'barbecued pork': 3432, 'winter melon': 3624, 'fire roasted diced tomatoes': 764, 'aged gouda': 1244, 'reduced fat ricotta cheese': 3191, 'smoked bacon': 2300, 'biscuit dough': 4102, 'white sugar': 228, 'burger style crumbles': 5567, 'hot mustard': 2520, 'unsweetened shredded dried coconut': 2403, 'kielbasa (not low fat)': 5327, 'powdered milk': 2434, 'passion fruit': 2443, 'garlic cloves': 106, 'long beans': 2076, 'rice vermicelli': 1449, 'pitted kalamata olives': 403, 'pound cake': 545, 'prunes': 2301, 'apple pie filling': 4096, 'baking spray': 2421, 'non dairy milk': 2573, 'Kikkoman Oyster Sauce': 6354, 'vanilla essence': 2543, 'kalamata olive halves': 4095, 'blood': 6488, 'black pepper': 42, 'sprite': 2461, 'bird chile': 1120, 'smoked haddock': 3725, 'fresh green peas': 3198, 'oats': 2818, 'low-fat parmesan cheese': 6342, 'tempeh': 3775, 'celery': 214, 'greek style plain yogurt': 1433, 'grana padano': 906, 'spanish chorizo': 2427, 'waxy potatoes': 1442, 'mantou': 2629, 'Green Giant™ sliced mushrooms': 5095, 'langoustines': 6509, 'glazed pecans': 1860, 'minced pork': 2259, 'beansprouts': 150, 'Sargento® Artisan Blends® Shredded Parmesan Cheese': 6475, 'kielbasa': 624, 'tandoori paste': 1968, 'wieners': 6267, 'peperoncino': 2958, 'rapid rise yeast': 3149, 'jaggery': 1035, 'salted roasted pecans': 3821, 'poppy seed dressing': 5825, 'hot pork sausage': 5555, 'neutral oil': 2487, 'Fisher Pecans': 5230, 'black turtle beans': 3252, 'whole wheat rotini pasta': 4099, 'bourbon whiskey': 915, 'cocktail sauce': 2872, 'chinese eggplants': 2422, 'habanero powder': 5329, 'beef bouillon powder': 4233, 'pitted cherries': 3413, 'grated romano cheese': 2002, 'grissini': 3184, 'italian style stewed tomatoes': 2277, 'sodium free chicken stock': 5759, 'kaffir lime leaves': 908, 'melted fat': 4798, 'cuttlefish': 4296, 'Mazola Canola Oil': 5198, 'prepared horseradish': 776, 'ground peanut': 5279, 'crab claws': 4349, 'tart crust': 5868, 'whole grain thin spaghetti': 962, 'low sodium chicken stock': 1992, 'raspberry juice': 3117, 'dried lavender flowers': 6661, 'rose hip tea bags': 5043, 'frozen cranberry juice concentrate': 5287, 'cannelloni': 6460, 'Nielsen-Massey Vanilla Extract': 6222, 'oat milk': 5435, 'oil packed dried tomatoes': 6600, 'chili seasoning mix': 2143, 'processed cheese': 1974, 'sesame': 1692, 'reduced fat Mexican cheese': 3398, 'low sodium tomato juice': 3923, 'Tuttorosso Diced Tomatoes': 5545, 'coconut extract': 2608, 'smoked paprika': 873, 'bay scallops': 2104, 'green tea bags': 4753, 'aonori': 5641, 'fat free cream of mushroom soup': 2735, 'smithfield ham': 4248, 'cheese cubes': 4523, 'whole wheat thin italian pizza crust': 5523, 'herbes de provence': 2097, 'tofu puffs': 4207, 'baby goat': 6217, 'chinese chives': 225, 'cubed meat': 5540, 'table syrup': 5607, 'ramps': 425, 'baby tatsoi': 5235, 'toasted nori': 2090, 'roasted pistachios': 3853, 'unsweetened vanilla almond milk': 3967, 'soybean oil': 6273, 'red raspberries': 1590, \"JOHNSONVILLE® Hot 'N Spicy Brats\": 3368, 'soft shelled crabs': 3502, 'shredded coleslaw mix': 2795, 'turkey sausage': 2704, 'chopped cilantro fresh': 68, 'escarole': 1885, 'tikka paste': 6137, 'whole wheat sourdough bread': 6592, 'mint': 1316, 'head on shrimp': 4291, 'nut meal': 5912, 'snow peas': 682, 'lower sodium chicken broth': 1292, 'capsicum': 627, 'black sea bass': 6279, 'salt pork': 2030, 'fresh angel hair': 3628, 'baguette': 1068, 'silver tequila': 4797, 'cabrales': 4894, 'white tuna in water': 4191, 'sweet pickle relish': 2914, 'cooking sherry': 2887, 'dried oregano': 82, 'feta cheese crumbles': 2, 'jamaican jerk rub': 5223, '(10 oz.) frozen chopped spinach': 5200, 'wonton wrappers': 668, 'stuffing mix': 2604, 'bacardi': 4747, 'chicken-flavored soup powder': 3450, 'yellow curry paste': 1796, 'wine': 1488, 'colby cheese': 988, 'mustard greens': 1260, 'butter oil': 3591, 'smoked trout': 878, 'tenderloin roast': 1326, 'orange bitters': 4879, 'kale leaves': 1144, 'brioche buns': 5186, 'enriched white rice': 3251, 'andouille turkey sausages': 6425, 'boneless ham': 4534, 'whipped cream cheese': 3908, 'fish sauce': 217, 'truffle oil': 1701, 'taco bell home originals': 3386, 'mulato chiles': 1700, 'tagliatelle': 3142, 'ceylon cinnamon': 5395, 'grated cauliflower': 4473, 'lime peel': 3928, 'shredded reduced fat reduced sodium swiss cheese': 3579, 'sazon goya with coriander and annatto': 6628, 'ascorbic acid': 4946, 'gluten free barbecue sauce': 6293, 'vegetable gumbo': 4264, 'biscuit baking mix': 1713, 'chile con queso': 3204, 'crusty rolls': 675, 'orange bell pepper': 161, 'rooster': 5424, 'caraway seeds': 1792, 'greater galangal': 5601, 'Country Crock® Spread': 1957, 'sun dried tomato dressing': 6234, 'fruit filling': 2664, 'chile negro': 3485, 'lime wedges': 218, 'raw prawn': 3912, 'citrus vinaigrette': 2477, 'tomato sauce': 479, 'strip steaks': 4429, 'golden beets': 2169, 'tamarind paste': 224, 'italian plum tomatoes': 2966, 'chiles': 727, 'country bread': 2126, 'sumac': 3211, 'brown mushroom': 2405, 'pappardelle': 355, 'leftover gravy': 1651, 'frangipane': 4704, 'cayenne pepper sauce': 4725, 'low sodium soy sauce': 92, 'cube steaks': 2977, 'champagne vinegar': 1233, 'karashi': 927, 'unbaked pie crusts': 2536, 'lipton green tea bag': 4162, 'dangmyun': 6093, 'chile bean paste': 1582, 'dark soy': 5700, 'gluten free marinara sauce': 5884, 'salad': 1045, 'mild curry powder': 1434, 'salmon sashimi': 6410, 'free range chicken breasts': 5533, 'pane di casa': 5137, 'potato starch': 753, 'pinto beans': 1455, 'salad oil': 1644, 'salmon': 2982, 'chunky style pasta sauce': 6050, 'Kraft Miracle Whip Dressing': 4481, 'linguica': 3984, 'mandarin pancakes': 3656, 'maldon sea salt': 1608, 'fines herbes': 4307, 'chambord': 1729, 'fresh chicken stock': 6189, 'absinthe': 5846, 'frozen peas': 553, 'rolls': 1280, 'fresh lima beans': 1637, 'custard': 2433, 'alum': 5904, 'muenster cheese': 2045, 'lemon pudding': 5542, 'coffee extract': 4869, 'cipollini onions': 5708, 'grated orange': 1081, 'ground rosemary': 5128, 'roti': 3390, 'Japanese turnips': 4109, 'frozen banana leaf': 2917, 'fish fingers': 3244, 'pastina': 4982, 'veal': 2112, 'sweet red bean paste': 4969, 'lavender': 2420, 'vanilla wafer crumbs': 4081, 'chicken flavor stuffing mix': 4947, 'icing mix': 4419, 'ground veal': 955, 'butter cake': 5881, 'refrigerated biscuits': 2383, 'roasted sesame seeds': 1756, 'cannellini beans': 829, 'seedless raspberry jam': 4313, 'grass-fed butter': 4717, 'boneless chicken thigh fillets': 3646, 'brown mustard': 5335, 'French bread loaves': 5094, 'black sesame seeds': 768, 'sugarcane juice': 3828, 'crema mexicana': 883, 'dark corn syrup': 1768, 'knorr rice side   cheddar broccoli': 5323, 'white bread flour': 6016, 'parmigiana-reggiano': 5303, 'butter salt': 4539, 'curry powder': 273, 'satsumas': 3428, 'ox tongue': 2672, 'beef stew seasoning mix': 5949, 'fontina cheese': 1339, 'rose petals': 725, 'baking yeast': 4116, 'low-fat cottage cheese': 1466, 'satsuma orange': 2339, 'honey graham crackers': 4760, 'tart apples': 3408, 'beef for stew': 5116, 'chili bean paste': 2838, 'beer batter': 3798, 'kippers': 5832, 'lime slices': 2117, 'ginger': 349, 'shanghai noodles': 1833, 'toasted shredded coconut': 4447, 'linguine': 172, 'crème de menthe': 5574, 'kosher wine': 3927, 'chop green chilies, undrain': 4314, 'Marcona almonds': 5683, 'savoiardi': 3282, 'masoor dal': 3394, 'jack daniels': 3366, 'samphire': 6448, 'chinese roast pork': 3463, 'grated kefalotiri': 3180, 'pickled onion': 4975, 'adobo sauce': 733, 'hibiscus tea': 1825, 'ginger syrup': 5739, 'pork ribs': 573, 'chocolate graham cracker crumbs': 6132, 'brine-cured black olives': 1272, 'frozen corn': 520, 'mineral water': 4931, 'shahi jeera': 2905, 'vanilla bean ice cream': 4290, 'whole grain pasta': 4142, 'sliced salami': 2478, 'pork tail': 3155, 'mentsuyu': 5080, 'chicken legs': 346, 'wine vinegar': 3500, 'dinosaur kale': 5615, 'head cauliflower': 6111, 'frozen cheese ravioli': 2444, 'lean ground beef': 567, 'yellow squash': 145, 'toast': 2018, 'bermuda onion': 6582, 'homemade stock': 4806, 'unsweetened pineapple juice': 5442, 'fat-free shredded cheddar cheese': 6233, 'chunky peanut butter': 1130, 'cayenne pepper': 35, 'lemon cucumber': 1190, 'vietnamese fish sauce': 1924, 'egg roll wraps': 1308, 'low-fat soy milk': 1496, 'fedelini': 6208, 'chili flakes': 589, 'baked pizza crust': 4981, 'japanese rice': 2235, 'veal medallions': 6370, 'turkey thigh': 5078, 'Gourmet Garden garlic paste': 3295, 'Mission Corn Tortillas': 6056, 'asian chile paste': 2915, 'muenster': 5582, 'turkey mince': 3980, 'Swanson Chicken Broth': 3307, 'Italian seasoned panko bread crumbs': 5349, 'pizza toppings': 4974, 'homemade beef stock': 5312, 'chili habanero pepper': 4853, 'Knorr® Pasta Sides™ - Alfredo': 3994, 'fresh ginger root': 52, 'quail eggs': 4066, 'crushed saltines': 4319, 'ratatouille': 6554, 'rib-eye roast': 2885, 'Tipo 00 flour': 5584, 'sliced chicken': 220, 'boneless chicken thighs': 754, 'butter pecan cake mix': 4068, 'cilantro': 840, 'toasted baguette': 4161, 'fruitcake': 5971, 'boneless beef round steak': 3938, 'callaloo': 3154, 'gravlax': 3047, 'chocolate graham crackers': 6672, 'string cheese': 3343, 'Thai fish sauce': 1000, 'nori paper': 4707, 'liquid smoke': 2095, 'Mazola Corn Oil': 4285, 'salt free cajun creole seasoning': 6314, 'borage': 3997, 'snow crab': 6407, 'beef stock cubes': 2184, 'jumbo shell pasta , cook and drain': 6097, 'white grapefruit juice': 5806, \"Campbell's Condensed Cream of Mushroom Soup\": 3563, 'carpaccio': 3972, 'castellane': 1417, 'small shells': 6483, 'tonkatsu sauce': 4183, 'star anise': 243, 'soft fresh goat cheese': 1209, 'salted roast peanuts': 1071, 'beef smoked sausage': 2283, 'chopmeat': 5651, 'natural yogurt': 44, 'vegetable oil': 18, 'chicken sausage': 2792, 'Goya Extra Virgin Olive Oil': 6227, 'cream of potato soup': 6450, 'kashmiri chile': 892, 'shredded reduced fat cheddar cheese': 1976, 'chanterelle': 1763, 'cereal flakes': 4091, 'low salt chicken broth': 476, 'vanilla lowfat yogurt': 1090, 'cut up chicken': 4275, 'quickcooking grits': 303, 'whiskey': 862, 'prepared guacamole': 4082, 'onion flakes': 2975, 'red snapper': 3314, 'fideos': 2606, 'Wholesome Sweeteners Organic Sugar': 5873, 'ground flaxseed': 383, 'corn tortillas': 72, 'all-purpose flour': 121, 'flaxseed': 3687, 'tuna steaks': 939, 'low fat tortilla chip': 4362, 'pepperidge farm puff pastry': 3278, 'fat-free reduced-sodium chicken broth': 4129, 'marshmallow creme': 370, 'fresh curry': 6191, 'chopped garlic': 446, 'cheddar cheese': 74, 'bone-in ribeye steak': 6679, 'rib pork chops': 3814, 'cooked steak': 4379, 'golden raisins': 512, 'walnut oil': 3608, 'sweet baking chocolate': 5319, 'gluten-free broth': 6335, 'green papaya': 219, 'Amaretti Cookies': 3693, 'Japanese mountain yam': 4774, 'Mezzetta Sliced Greek Kalamata Olives': 6070, 'coconut cream': 1128, 'shelled hemp seeds': 4955, 'clementine juice': 6058, 'Hidden Valley® Original Ranch® Light Dressing': 6563, 'sour cream': 267, 'whole wheat tortillas': 1498, 'condensed cheddar cheese soup': 593, 'cheese dip': 4927, 'cranberries': 2555, 'cornbread': 1551, 'scrod fillets': 5655, 'mushroom broth': 4297, 'beef rump steaks': 1951, 'hero rolls': 4022, 'cavolo nero': 2178, 'extra fine granulated sugar': 3514, 'dandelion': 2678, 'table salt': 1880, 'grated cotija': 2823, 'ice cream': 3482, 'round sourdough bread': 1470, 'tuna packed in olive oil': 2666, 'pimento stuffed green olives': 2003, 'ricard': 4432, 'cucumber': 533, 'batter': 3715, 'twists': 5482, 'black bean stir fry sauce': 5926, 'cake': 1708, 'deli ham': 1325, 'knorr pasta side': 4745, 'pisco': 3973, 'conch': 4252, 'bengal gram': 2767, 'fat-free buttermilk': 3621, 'creole seasoning mix': 2504, 'lamb leg steaks': 6252, 'katsuo dashi': 4883, 'cream cheese spread': 6323, 'wheat bread': 3261, 'mini pepperoni slices': 3941, 'turkey tenderloins': 2548, 'Swerve Sweetener': 4734, 'coarse semolina': 5283, 'amaretto liqueur': 1839, 'shoulder steak': 4400, 'pink peppercorns': 3168, 'savoy cabbage leaves': 4514, 'Gourmet Garden Parsley': 6103, 'bologna': 3691, 'levain bread': 4994, 'matzos': 6633, 'vanilla sugar': 1634, 'asian chili red sauc': 4449, 'frozen sweet corn': 2008, 'penne': 1311, 'salted pistachios': 6162, 'candied ginger': 5060, 'meat-filled tortellini': 4957, 'rice milk': 6658, 'white pepper': 95, 'ground turkey breast': 2396, 'clarified butter': 1541, 'frosting': 283, 'methi leaves': 2191, 'mint sprigs': 1365, 'jamaican jerk spice': 2428, 'reduced sodium vegetable broth': 4181, 'white miso': 1162, 'wildflower honey': 3818, 'dried red chile peppers': 1063, 'graham flour': 6573, 'hot chili paste': 3290, 'Italian turkey sausage': 2985, 'peapods': 6078, 'cherry vanilla ice cream': 6678, 'reduced sodium italian style stewed tomatoes': 6079, 'ravioli': 2353, 'chestnut mushrooms': 1950, 'Domino Light Brown Sugar': 3239, 'apricot nectar': 2014, 'veggie patties': 4971, 'turkey carcass': 5878, 'sliced mango': 3415, '(14.5 oz.) diced tomatoes': 3833, 'one third less sodium chicken broth': 6345, 'barley grits': 4392, 'finely chopped fresh parsley': 457, 'low-fat vegetarian chili with beans': 3800, 'green tomato relish': 4230, 'raw tiger prawn': 5645, 'low sodium canned chicken stock': 2971, 'rice': 154, 'Margherita Pepperoni': 2840, 'crusty whole wheat toast': 5604, 'wheat berries': 1389, 'bone in skinless chicken thigh': 1422, 'cooked italian meatballs': 3999, 'poblano chiles': 1212, 'hake fillets': 6098, 'silver': 3952, 'Ciabatta rolls': 3635, 'raspberry sauce': 5386, 'kimchi juice': 2991, 'green tea powder': 1591, 'spaghettini': 2342, 'green chile': 730, 'extra large eggs': 1154, 'duck stock': 1984, 'lardons': 1780, 'moong dal': 628, 'flanken short ribs': 3829, 'grit quick': 3703, 'sherry vinegar': 421, 'cultured buttermilk': 4699, 'thousand island dressing': 5918, 'low-fat turkey kielbasa': 6066, 'clamato juice': 4103, 'chopped cooked ham': 2682, 'char siu': 3334, 'banh pho rice noodles': 4686, 'beef consomme': 1327, 'goat milk feta': 4336, 'carbonated water': 3556, 'streaky bacon': 1782, 'ponzu': 2111, 'uncook medium shrimp, peel and devein': 1195, 'refrigerated buttermilk biscuits': 1351, 'dried wood ear mushrooms': 2675, 'rice powder': 4046, 'garlic salt': 656, 'brown rice noodles': 5660, 'pistachio nuts': 63, 'thick curds': 5798, 'topside steak': 5741, 'cinnamon candy canes': 5688, 'cake mix or white yellow': 5776, 'flageolet': 5765, 'chinese parsley': 5003, 'mild cheddar cheese': 3109, 'swiss cheese': 81, 'lapsang souchong': 5783, 'fresh tuna steaks': 2636, 'coca-cola': 3590, 'rotel pasta, cook and drain': 5757, 'long pepper': 4018, 'ground chicken breast': 1972, 'coconut milk powder': 5438, 'cloud ear fungus': 2251, 'gala apples': 2060, 'carnation': 4593, 'baby spinach leaves': 447, 'ahi tuna steaks': 2258, 'rye whiskey': 3547, 'leeks': 334, 'dried porcini mushrooms': 773, 'Alexia Waffle Fries': 5573, 'kewra essence': 2904, 'pimentos': 87, 'tasso': 2974, 'tom yum paste': 5437, 'robiola': 5267, 'instant pudding mix': 4736, 'puffed rice': 5321, 'whole wheat seasoned breadcrumbs': 4551, 'tri tip': 2773, 'unsalted pumpkinseed kernels': 4011, 'bread ciabatta': 2788, 'sea bass': 2469, 'tangelos': 5995, 'dry hard cider': 4924, 'canela': 2476, 'condensed cream of celery soup': 3524, 'fructose': 4462, 'ground nuts': 6128, 'spaghetti sauce seasoning mix': 3558, 'diced onions': 1125, 'beef fillet': 4249, 'mexican cooking sauce': 3676, 'chicken livers': 27, 'boiling potatoes': 935, 'French lentils': 3124, 'polenta prepar': 1392, 'beef hot dogs': 5277, 'pea eggplants': 3169, 'raspberry lambic': 6059, 'passover wine': 6054, 'knorr chicken flavor bouillon cube': 4085, 'corn bread crumbs': 6574, 'jack': 1512, 'abalone': 2902, 'small pearl tapioca': 3019, 'raw cashews': 1704, 'hot cocoa mix': 1659, 'wine syrup': 4623, 'merluza': 4026, 'riblets': 6683, 'buttercup squash': 5372, 'pear tomatoes': 1814, 'muesli': 3774, 'havarti cheese': 2929, 'whole crab': 3520, 'Niçoise olives': 1387, 'tamarind concentrate': 1982, 'raw almond': 2556, 'center cut loin pork chop': 2068, 'croissant dough': 1853, 'kha': 6274, 'laurel leaves': 4294, 'Philadelphia Light Cream Cheese': 4371, 'cajun remoulade': 6096, 'ragu': 3361, 'roasted pumpkin seeds': 2535, 'gingersnap': 369, 'shredded cheddar cheese': 244, 'vidalia onion': 942, 'spring greens': 1952, 'sugar cane': 3708, 'dried coconut flakes': 6091, 'baby leaf lettuce': 4322, 'ground white pepper': 949, 'artichoke hearts': 684, 'cocoa': 2303, 'sugar cubes': 3913, 'black salt': 1271, 'Manischewitz Potato Starch': 6659, 'yellow summer squash': 3434, 'chicken stock cubes': 2393, 'hawaiian sweet rolls': 3796, 'paella rice': 2525, 'white vinegar': 55, 'garlic powder': 24, 'dry roasted peanuts': 1671, 'bean soup mix': 3266, 'diet dr. pepper': 5027, 'confectioners sugar': 130, 'sirloin tip steak': 6256, 'chunky tomato sauce': 5234, 'powdered sugar': 47, 'Barilla Plus Pasta': 6685, 'blackstrap molasses': 4274, 'blue corn tortilla chips': 1766, 'duck bones': 6108, 'store-bought pound cake': 5496, 'liver': 2891, 'white rice vinegar': 4111, 'smoked pork neck bones': 4151, 'shortcakes': 4540, 'Wish-Bone Light Italian Dressing': 4386, 'hanger steak': 1932, 'hummus': 2426, 'spicy mayonnaise': 6566, 'sweet white miso paste': 2925, 'Everglades Seasoning': 6201, 'low-fat refried beans': 2763, 'lavender honey': 4160, 'haricots verts': 968, 'herb cheese': 5570, 'whole wheat rotini': 6129, 'less sodium fat free chicken broth': 6338, 'bbq seasoning': 3318, 'lamb shoulder chops': 3106, 'mooli': 5247, 'bresaola': 5388, 'bloody mary mix': 3287, 'seasoning mix': 5213, 'dried chile peppers': 615, 'dragon fruit': 5273, 'cooked bone in ham': 5546, 'watermelon': 1965, 'beef kidney': 4389, 'loaves': 3895, 'chicken and rice soup': 6622, 'roe': 4724, 'orange juice concentrate': 366, 'raspberry puree': 3369, 'Kim Crawford Sauvignon Blanc': 6318, 'calamari steak': 6139, 'italian vinaigrette': 6120, 'corn salsa': 4516, 'microgreens': 3854, 'salted seaweed': 4353, 'fat free less sodium vegetable broth': 5158, 'fish': 1410, 'beef tenderloin steaks': 2796, 'dill pickles': 1757, 'masa dough': 1995, 'thyme leaves': 978, 'sloe gin': 5859, 'tomato chutney': 6498, 'matcha': 3850, 'oven-ready lasagna noodles': 1135, 'unseasoned breadcrumbs': 3823, 'nondairy whipped topping': 6171, 'dark rye flour': 6447, 'hothouse cucumber': 1861, 'Kraft Shredded Pepper Jack Cheese': 6312, 'brown rice': 1342, 'almond extract': 66, 'nori': 1178, 'oxtails': 2585, 'oatmeal': 2328, 'chicken schmaltz': 2331, 'grated parmesan romano': 2186, 'orange zest': 1069, 'Bertolli Garlic Alfredo Sauce': 4394, 'chicken pan drippings': 5541, 'gingersnap cookies': 4495, 'Manzanilla olives': 6140, 'pancit': 6165, 'brioche': 3519, 'watercress': 411, 'blade steak': 4135, 'jerk seasoning': 1621, 'dark crème de cacao': 3711, 'mahi mahi': 3001, 'boneless beef rib eye steaks': 4937, 'manicotti pasta': 2784, 'oil cured olives': 1268, 'jamaica': 4972, 'cabbage leaves': 2612, 'quick cooking brown rice': 3143, 'lobster meat': 2539, 'sugar': 53, 'port': 2450, 'corn-on-the-cob': 2799, 'tea cake': 3436, 'jasmine': 2032, 'medium curry powder': 3145, 'whole wheat thin spaghetti': 5079, 'knorr cilantro minicub': 2584, 'crushed ice': 1332, 'Marshmallow Fluff': 4610, 'shiso leaves': 3639, 'banh hoi': 2772, 'greens': 384, 'rockfish': 4169, 'nonfat sweetened condensed milk': 2078, 'smoked eel': 5466, 'almond flour': 677, 'knorr chicken flavor bouillon': 4305, 'bread crumb fresh': 953, 'japanese cucumber': 3177, 'shaved parmesan cheese': 4238, 'tangzhong roux': 6294, 'sliced meat': 5818, 'red': 2306, 'boned duck breast halves': 4369, 'honey': 310, 'thai jasmine rice': 4326, 'spinach tortilla': 6516, 'meatballs': 2699, 'frozen green beans': 2846, 'dried tagliatelle': 5185, 'fresh sage': 1517, 'meyer lemon': 3564, 'pork loin chops': 980, 'kaiser rolls': 3780, 'chipotle puree': 1597, 'chinese leaf': 3750, 'yellow rice': 2807, 'powdered garlic': 4525, 'citric acid': 4802, 'pigeon peas': 1679, 'unsweetened applesauce': 3970, 'whole wheat fusilli': 5589, 'mincemeat': 4387, 'lamb seasoning': 4074, 'store bought low sodium vegetable stock': 4125, 'sweet white miso': 4112, 'self raising flour': 3891, 'cake mix': 3932, 'meat stock': 4675, 'all potato purpos': 3065, 'frozen petit pois': 4668, 'black truffles': 2725, 'elderflower cordial': 6378, 'low sodium diced tomatoes': 2881, 'cured chorizo': 2494, 'tex-mex shredded cheese': 5199, 'reduced sodium ham': 6693, 'codfish': 3329, 'seedless cucumber': 3054, 'mini phyllo dough shells': 2384, 'boneless rib eye steaks': 1119, 'foie gras terrine': 4634, 'prebaked pizza crusts': 2722, 'furikake': 4833, 'boneless, skinless chicken breast': 1969, 'vanilla powder': 4710, 'hot pepper': 1521, 'low-fat pasta sauce': 5197, 'rice cakes': 1041, 'hibiscus': 542, 'sodium free chicken broth': 3781, 'amaretto': 1473, 'low-fat sour cream': 333, 'pepperidge farm puff pastry sheets': 5415, 'instant couscous': 5553, 'rouille': 2407, 'nashi': 5407, \"M&M's Candy\": 6263, 'pork butt roast': 3931, 'whole wheat flour': 1259, 'ground coriander': 109, 'Gold Medal Flour': 5136, 'pancake batter': 5443, 'salsa verde': 718, 'port wine': 2826, 'ground turkey sausage': 5693, 'mahi mahi fillets': 3742, 'regular sour cream': 4216, 'raspberry vinegar': 5420, 'Jamaican allspice': 4860, 'spices': 940, 'buckwheat flour': 2372, 'yellow miso': 3539, 'yam bean': 5940, 'ham steak': 3140, 'brewed tea': 511, 'bottled clam juice': 1059, 'gelatin sheet': 4873, 'round steaks': 1163, 'shortcrust pastry': 3144, 'Wish-Bone® Robusto Italian Dressing': 6501, 'bass': 2514, 'tarama': 2517, 'chicken gravy mix': 4786, 'cooked meat': 5256, 'poussins': 5167, 'condensed golden mushroom soup': 5068, 'english cucumber': 999, 'semisweet chocolate chunks': 5548, 'rigatoni or large tube pasta': 4993, 'walnut halves': 1789, 'skinless boneless turkey breast halves': 5814, 'frozen whip topping, thaw': 4737, 'candy canes': 4771, 'wheat starch': 3221, 'Velveeta Cheese Spread': 3945, 'ampalaya': 2141, \"Cox's Orange Pippin\": 5914, 'salt free southwest chipotle seasoning': 6094, 'pork chops, 1 inch thick': 5588, '(15 oz.) refried beans': 5108, 'thin pizza crust': 2179, 'ham': 625, 'cashew chop unsalt': 5184, 'chicken wing drummettes': 4324, 'slivered almonds': 494, 'top loin': 3403, 'dark ale': 2894, 'ginger juice': 1221, \"Hellmann's Dijonnaise Creamy Dijon Mustard\": 6223, 'dried apple': 2557, 'baby zucchini': 3870, 'methi': 1372, 'baking potatoes': 160, 'fideos pasta': 5967, 'pike': 6631, 'flowering chives': 5112, 'bisquick': 4848, 'blackpepper': 5493, 'deep dish pie crust': 2987, 'basmati rice': 471, 'Ragu Traditional Sauce': 6650, 'arborio rice': 552, 'swiss chard': 661, 'sesame seeds': 167, 'Imperial Sugar Light Brown Sugar': 5393, 'yam noodles': 4600, 'unhulled sesame seeds': 6251, 'frozen tater tots': 2131, 'trout': 3075, 'chicken flavored rice': 6099, 'choy sum': 2297, 'duck drippings': 2017, 'calamansi': 4244, 'habanero pepper': 2000, 'Massaman curry paste': 3820, 'black mustard seeds': 426, 'topping': 6114, 'black rice vinegar': 5187, 'minced peperoncini': 2507, 'fish bones': 1966, 'semi-soft cheese': 4474, 'Hidden Valley® Original Ranch® Dressing': 3517, 'large marshmallows': 5789, 'shell-on shrimp': 1005, 'TABASCO® Chipotle Pepper Sauce': 5679, 'nian gao': 2883, 'lettuce leaves': 280, 'red chili powder': 1278, 'fruit cocktail': 4268, 'banana blossom': 2486, 'shrimp shells': 1878, 'sugar pea': 1851, 'pippin apples': 6387, 'lamb steaks': 5063, 'green chilies': 22, 'foccacia': 4128, 'sourdough rolls': 6326, 'bai cai': 5318, 'flowering garlic chives': 5236, 'dried kidney beans': 1114, 'wheat': 30, 'flavored rice mix': 4637, 'Old El Paso Taco Seasoning Mix': 3333, 'taro': 3300, 'lime rind': 1751, 'instant espresso': 643, 'rice bran': 5391, 'chinese wheat noodles': 3572, 'biscotti': 5376, 'pound cake mix': 4587, 'sherbet': 6148, 'flat leaf parsley': 57, 'heavy cream': 193, 'sweet peas': 4217, 'tortellini': 2415, 'pickled carrots': 1098, 'Velveeta': 2639, 'whole kernel corn, drain': 783, 'hot italian turkey sausage links': 5751, 'green split peas': 2270, 'Himalayan salt': 1188, 'high-gluten flour': 2999, 'beef rib roast': 3728, 'pizza crust mix': 3125, 'soba': 1261, 'fresh oregano': 543, 'fast rising yeast': 4197, 'lager': 2098, 'aleppo': 4855, 'hing (powder)': 5804, 'monkfish fillets': 4308, 'pie crust': 2336, 'english breakfast tea bags': 5018, 'white fleshed fish': 1899, 'Herdez Salsa Verde': 4031, 'ground nutmeg': 372, 'pancake': 3771, 'german mustard': 6527, 'low-fat ricotta': 5052, 'halibut fillets': 1870, 'pear nectar': 3288, 'chili seasoning': 5299, 'ragu cheesi doubl cheddar sauc': 5488, 'cranberry juice': 2625, 'bosc pears': 1284, 'Jiffy Corn Muffin Mix': 5009, 'taco sauce': 720, 'DeLallo Penne Ziti': 5922, 'medium-grain rice': 1815, 'cajun seasoning': 211, 'farro': 2215, 'Pillsbury™ Crescent Recipe Creations® refrigerated seamless dough sheet': 5756, 'taco seasoned cheese': 4818, 'unsweetened soymilk': 2042, 'tostada shells': 902, 'caul fat': 456, 'pink salmon': 3921, 'green enchilada sauce': 2136, 'cereal': 3811, 'links': 3704, 'bing cherries': 2877, 'currant jelly': 1994, 'coffee liqueur': 1904, 'white frostings': 4790, 'cream cheese lowfat': 6328, 'adzuki beans': 2529, 'green peppercorns': 973, 'southern comfort': 5047, 'calamansi juice': 2373, 'fresh leav spinach': 602, 'panela': 6570, 'fresh pork fat': 3255, 'low-fat natural yogurt': 613, 'organic tomato': 2757, 'bows': 2385, 'dried pappardelle': 3264, 'bread mix': 2481, 'bacon grease': 2551, 'asafetida (powder)': 4209, 'maple extract': 3469, 'frozen orange juice concentrate, thawed and undiluted': 4475, 'wheels': 1602, 'butter pecan ice cream': 5749, 'boar': 3422, 'poppadoms': 5260, 'La Victoria Red Chile Sauce': 6081, 'black trumpet mushrooms': 2245, 'chocolate wafer cookies': 2591, 'squabs': 1235, 'Tuaca Liqueur': 6351, 'egg yolks': 597, 'mesclun': 3767, 'pinot blanc': 2498, 'kangkong': 5871, 'duxelles': 4605, 'chilli paste': 3171, 'golden zucchini': 4803, 'seasoned flour': 1565, 'pasta shells': 3020, 'garlic puree': 881, 'century eggs': 5801, 'lemonade concentrate': 5138, 'brine': 3378, 'cooked fettuccini': 5492, 'gluten free chicken broth': 3541, 'Truvía® natural sweetener': 5691, 'cornflake crumbs': 2752, 'bouquet garni': 3126, 'cool whip': 4280, 'KRAFT Shredded Low-Moisture Part-Skim Mozzarella Cheese': 5982, 'grated lemon zest': 510, 'sliced leeks': 5551, 'yaki-nori': 5007, 'chicken drumsticks': 867, 'sweet mini bells': 3259, 'ground cinnamon': 49, 'lamb strips': 5535, 'baby bok choy': 515, 'tamari soy sauce': 340, 'cod fish': 4632, 'fresh cranberries': 3671, 'Nestle Table Cream': 4267, 'hominy grits': 1975, 'ground blanched almonds': 3159, 'whitefish fillets': 1905, 'french bread': 816, 'hass avocado': 1289, 'baby back ribs': 2753, 'cornish game hens': 3076, 'bamboo shoots': 910, 'part-skim mozzarella': 2950, 'orange liqueur': 284, 'cocktail pumpernickel bread': 6674, 'salmon fillets': 275, 'rock shrimp': 3230, 'tuna in oil': 4673, 'diced yellow onion': 2782, 'mushroom soy sauce': 1895, 'firm silken tofu': 1654, 'soy crumbles': 6317, 'light mayonnaise': 1664, 'crystallized ginger': 1531, 'lager beer': 1211, 'dried minced garlic': 3080, 'frozen mini ravioli': 4703, 'light whipping cream': 6499, 'steak tips': 6464, 'whole wheat penne': 4563, 'ibarra': 4671, 'sangria': 3654, 'roast turkey': 2199, 'giblet': 2983, 'sun-dried tomatoes in oil': 1061, 'sliced olives': 2687, 'blanco chees queso': 6065, 'yellow hominy': 2789, 'sesame butter': 6337, 'chocolate milk mix': 6287, 'small eggs': 2670, 'steak seasoning': 4179, 'fresh salmon': 766, 'cockles': 3752, 'sweet turkey sausage': 5262, 'masala': 2255, 'flavored tortilla chips': 6241, 'myzithra': 745, 'Mexican cheese blend': 569, 'dark miso': 4342, 'multi-grain penne pasta': 5139, 'porcini': 1238, 'amontillado sherry': 4529, 'turbinado': 266, 'bittersweet chocolate': 642, 'rotisserie chicken': 1525, 'candied orange peel': 505, 'chile sauce': 884, 'luncheon meat': 4083, 'ground cardamom': 387, 'small red potato': 943, 'mushroom caps': 1666, 'low-fat monterey jack': 6073, 'dried dillweed': 820, 'Best Foods® Real Mayonnaise': 3269, 'foie gras': 419, 'curds': 1374, 'frozen ravioli': 6203, 'boned lamb shoulder': 4553, 'fennel fronds': 4487, 'cumin seed': 274, 'long-grain rice': 534, 'baked corn tortilla chips': 6459, 'shredded extra sharp cheddar cheese': 2503, 'bouillon granules': 2849, 'pumpkin pie spice': 2069, 'bone in chicken thighs': 836, 'jicama': 930, 'garbanzo beans': 8, 'sunchokes': 6484, 'braising steak': 4152, 'lamb cutlet': 5550, 'pizza shells': 1804, 'kalonji': 788, 'pie pastry': 3933, 'Castelvetrano olives': 6219, 'shellfish': 5371, 'ears': 4333, 'cream sauce': 4887, 'shirataki': 2643, 'smooth natural peanut butter': 4922, 'agave tequila': 5291, 'spaghetti': 191, 'romaine lettuce hearts': 3717, 'frozen chopped spinach, thawed and squeezed dry': 2949, 'coconut chips': 5519, 'Shaoxing wine': 98, 'sirloin tip': 1491, 'evaporated skim milk': 2151, 'alfredo sauce mix': 4123, 'ground black pepper': 14, 'fresh herbs': 1108, 'yoghurt': 743, 'fine grain salt': 4299, 'chicken chorizo sausages': 3940, 'sponge cake': 1803, 'corn mix muffin': 2710, 'fresh bean': 4459, 'garlic naan': 4253, 'beef shin': 5501, 'Greek feta': 1456, 'boneless steak': 6231, 'frozen mixed vegetables': 1911, 'crumb topping': 4770, 'Green Giant Whole Kernel Sweet Corn': 6572, 'flavored syrup': 3350, 'small white beans': 2801, 'Knorr Chicken Flavor Bouillon': 4500, 'chees fresh mozzarella': 2087, 'unsweetened apple juice': 2050, 'bagel chips': 5500, 'Tapatio Hot Sauce': 4488, 'squid': 1559, 'fresh yeast': 3525, 'sweetened condensed milk': 405, 'citrus juice': 6321, 'apricot jelly': 5612, 'boneless skinless chicken tenderloins': 4569, 'pork tongue': 5712, 'boysenberries': 6304, 'bigoli': 6236, 'tiger lily buds': 6303, 'chili bean sauce': 2075, 'low sodium tomato paste': 5687, '8 ounc ziti pasta, cook and drain': 4242, 'crumbled corn bread': 5507, 'Jif Creamy Peanut Butter': 5193, 'kirschwasser': 3804, 'pastry flour': 2411, 'chuno sauce': 5640, 'brown beech mushrooms': 6489, 'vanilla pudding': 5786, 'cooked brisket': 2654, 'seedless green grape': 1447, 'salad dressing': 1542, 'pork sirloin': 6196, 'leaf parsley': 1452, 'light cream cheese': 1423, 'KRAFT Original Barbecue Sauce': 5797, 'lillet': 1785, 'yellowtail': 1179, 'char fillets': 5671, 'celery flakes': 2820, 'canned peas and carrots': 4127, 'pasta sheets': 609, 'pork baby back ribs': 1622, 'corkscrew pasta': 4348, 'green tea': 1750, 'plum jam': 5681, 'citrus fruit': 6564, 'bell pepper': 797, 'quince paste': 3004, 'cava': 5304, 'green cauliflower': 5569, 'saki': 4335, 'helix snails': 5103, 'minute rice': 4958, 'Bragg Liquid Aminos': 2889, 'sourdough loaf': 1239, 'whipped dessert topping': 6649, 'cranberry juice cocktail': 3513, 'peach pie filling': 4847, 'mixed fruit': 5340, 'poblano peppers': 71, 'pizza seasoning': 6385, 'dashi powder': 3640, 'Thai red curry paste': 1406, 'green cabbage': 1495, 'gluten-free pie crust': 5872, 'sweet biscuit crumbs': 5973, 'fresh spinach': 826, 'pudding powder': 4750, 'dried cherry': 964, 'herbsaint': 3546, 'bay leaves': 254, 'Swanson Vegetable Broth': 4070, 'pepper': 1, 'fat free reduced sodium chicken broth': 3729, 'rape': 3930, 'sandwich steak': 3348, 'ready-made pie crusts': 6032, 'superfine sugar': 863, 'plum tomatoes': 110, 'sweet relish': 4080, 'beef heart': 4105, 'blueberry pie filling': 3746, 'sweetened coconut flakes': 1347, 'refrigerated bread dough': 6355, 'bread dough': 1647, 'Crystal Farms Reduced Fat Shredded Marble Jack Cheese': 6018, 'flour for dusting': 1443, 'kochujang': 2438, 'pozole': 3978, 'stevia extract': 2954, 'fryers': 6155, 'salted roasted almonds': 5361, 'Soy Vay® Hoisin Garlic Marinade & Sauce': 6085, 'caesar salad dressing': 2120, 'mole paste': 5333, 'rainbow trout': 2910, 'horseradish root': 4311, 'chinese ham': 3388, 'herb seasoning': 3205, 'katakuriko': 5841, 'lotus seed paste': 4501, 'soft tofu': 2252, 'stock': 182, 'semisweet baking chocolate': 5311, 'minced meat': 3617, 'quinoa': 522, 'fresh cheese': 4651, 'stir fry sauce': 2756, 'garlic': 7, 'erythritol': 1169, 'schnapps': 4755, 'chrysanthemum': 6178, 'sundae syrup': 4265, 'Hatch Green Chiles': 1511, 'nonfat half-and-half': 6393, 'garlic and herb seasoning': 4435, 'lemon grass': 1001, 'Argo Corn Starch': 2594, 'pork cutlets': 3342, 'prego fresh mushroom italian sauce': 3916, 'praline topping': 6682, 'black tea leaves': 2333, 'fresh poblano pepper': 5387, 'crème de cassis': 2936, 'pickling salt': 2250, 'raw buckwheat groats': 3414, 'mango chutney': 3138, 'field lettuce': 3769, 'Hidden Valley® Original Ranch® Spicy Ranch Dressing': 3601, 'cheese ravioli': 1122, 'satsuma imo': 2924, 'gluten-free flour': 4751, 'whole wheat spaghettini': 4136, 'young nettle': 6636, 'fishcake': 3243, 'poundcake': 3744, 'carambola': 4962, 'paprika paste': 6470, 'cuttlefish balls': 2858, 'strawberry compote': 6285, 'low sodium low fat pasta sauce': 4234, 'sliced black olives': 805, 'day old bread': 2311, 'club soda': 264, 'chinese jujubes': 5430, 'ajwain': 2154, 'dried cranberries': 67, 'drippings': 2249, 'butternut': 5053, 'pork spare ribs': 4114, 'less sodium mushroom flavored soy sauce': 5468, 'frozen blueberries': 1293, 'low sodium tomato sauce': 3843, 'teriyaki sauce': 1437, 'Mexican cheese': 1206, 'tomato garlic pasta sauce': 6712, 'gin': 2989, 'peach salsa': 5929, 'parboiled rice': 3665, 'juice': 1107, 'plums': 1738, 'small red beans': 2053, 'calamata olives': 4693, 'cactus': 6224, 'extra wide egg noodles': 2587, 'shredded nori': 6230, 'pea shoots': 3905, 'chocolate ice cream': 3903, 'buttercream frosting': 1946, 'baby lima beans': 1652, 'whole wheat tortilla wraps': 5663, 'filet mignon': 4380, 'instant espresso powder': 461, 'mashed cauliflower': 6513, 'Smart Balance Cooking Spray': 6020, 'dry sherry': 342, 'vine ripened tomatoes': 634, 'yellowtail snapper fillets': 6202, 'annatto powder': 2423, 'galanga': 5863, 'espresso beans': 3379, 'acai juice': 5061, 'berries': 1314, 'baking chocolate': 4124, 'imitation crab meat': 2960, 'flounder': 5146, 'low sodium chili sauce': 3201, 'pâte brisée': 3037, 'Knorr Onion Minicubes': 6452, 'low sodium gluten free soy sauce': 4256, 'lemon slices': 1253, 'vegetable fats': 4198, 'prepared coleslaw': 3664, 'shell pasta': 2616, 'finger chili': 4986, 'powdered turmeric': 5025, 'rosemary leaves': 808, 'beef round': 5326, 'meat seasoning': 5522, 'romaine lettuce': 0, 'beef bouillon': 3018, 'Spice Islands Oregano': 4739, 'applewood smoked bacon': 1250, 'Texas Pete Hot Sauce': 5217, 'basil mayonnaise': 3187, 'black mushrooms': 4159, 'ground walnuts': 4545, 'lamb bouillon cube': 4208, 't-bone steak': 6261, 'beef stock': 653, 'crumpet': 5779, 'pickled garlic': 5954, 'artisan bread': 5719, 'spring mix': 1474, 'chicken soup base': 3492, 'amber': 4596, 'rub seasoning': 6292, 'lipton onion soup mix': 6492, 'kasha': 4364, 'dried hibiscus blossoms': 5444, 'double crust pie': 3510, 'Sugar in the Raw': 6340, 'fresh lavender': 2214, 'boiling water': 205, 'vodka sauce': 6143, 'Japanese rice vinegar': 5274, 'pork blade steaks': 1940, 'V8 Juice': 5902, 'Chartreuse Liqueur': 6664, 'italian sauce': 5394, 'raw honey': 1533, 'tart filling': 6286, 'knoblauch': 5122, 'tequila': 852, 'salsify': 2726, 'balsamic vinaigrette': 1430, 'tamari almonds': 5362, 'curry mix': 6702, 'semi sweet mini chocolate chips': 6424, 'sliced almonds': 1076, 'whole wheat sandwich bread': 5188, 'Cavenders Greek Seasoning': 4190, 'yellowfin tuna': 5339, 'palm vinegar': 3156, 'reduced sodium condensed cream of chicken soup': 5906, 'tarragon leaves': 3642, 'fat-free cottage cheese': 1134, 'long green': 5897, 'butter': 23, 'ground peppercorn': 5899, 'whole wheat orzo': 4555, 'legumes': 6068, 'alphabet pasta': 5955, 'cream cheese frosting': 4137, 'flavoring': 3152, 'pearl rice': 2227, 'process cheese spread': 6349, 'flaked': 3724, 'sweetener': 1532, 'Ragu Sauce': 4428, 'chihuahua cheese': 4424, 'low sodium jarred chicken soup base': 5924, 'sugar pumpkin': 4370, 'apple schnapps': 4120, 'zinfandel': 645, 'garam masala': 37, 'red drum': 2627, 'Bob Evans Italian Sausage': 5033, 'part-skim mozzarella cheese': 331, 'condensed soup': 5478, 'red kidnei beans, rins and drain': 765, 'tomatoes with juice': 1871, 'white cornmeal': 288, 'creamed coconut': 4925, 'black tea': 1927, 'valencia rice': 3922, 'rye flour': 5141, 'whole wheat penne pasta': 3924, 'organic unsalted butter': 5439, 'apricot jam': 3160, 'meatloaf': 3838, 'sea bream': 3061, 'white bread crumbs': 6180, 'reduced fat cream cheese': 1575, 'banana flower': 4327, 'ciabatta': 1109, 'vegetable gumbo mixture': 4150, 'full-fat plain yogurt': 4943, 'pork rind': 4757, 'Knorr® Fiesta Sides™ - Mexican Rice': 4165, 'Progresso Black Beans': 2134, 'wensleydale': 6605, 'pork blood': 2329, 'onion rings': 3896, 'garlic sauce': 4644, 'worcestershire sauce': 234, 'gluten free all purpose flour': 1707, 'shrimp meat': 4649, 'white corn': 2110, 'ground sichuan pepper': 2559, 'fleur de sel': 2188, 'diced ham': 2965, 'candy sprinkles': 3194, 'sweet italian pork sausage': 5892, 'sharp cheddar cheese': 84, 'pasta rotel': 1267, 'brandy extract': 5265, 'tapioca pearls': 1937, 'limeade concentrate': 3442, 'agar agar flakes': 4821, 'diced tomatoes in juice': 1737, 'ground turmeric': 344, 'pure maple syrup': 3626, 'dr. pepper': 5218, 'potato flour': 2456, 'beef stew meat': 2850, 'Mission Yellow Corn Tortillas': 4556, 'ducklings': 4498, 'low-fat plain greek yogurt': 6404, 'brown butter': 6412, 'nama shoyu': 6025, 'dried cornhusks': 4382, 'shark steak': 3163, 'pomegranate juice': 2116, 'lean beef': 2185, 'thickeners': 4940, 'minute steaks': 2683, 'pita wraps': 6422, 'center-cut salmon fillet': 3667, 'bhaji': 4694, 'yukon gold potatoes': 335, 'greater yam': 2489, 'tangerine zest': 5495, 'english walnuts': 5422, 'sunflower oil': 785, 'boquerones': 6373, 'vanilla pods': 1799, 'pear juice': 4052, 'lamb loin chops': 1691, 'meat': 1573, 'brown basmati rice': 2269, 'french dressing': 4104, 'heeng': 3599, 'cooked rigatoni': 3511, 'granulated garlic': 1027, 'catfish fillets': 470, 'tamarind water': 5225, 'Sicilian olives': 1363, 'new potatoes': 1881, 'abbamele': 1661, 'white tequila': 4033, 'Gourmet Garden Oregano': 3296, 'asian black bean sauce': 4232, 'bay leaf': 46, 'mexican chocolate': 1625, 'anise liqueur': 5910, 'honeycomb tripe': 6599, 'wild garlic': 4030, 'mole poblano': 4552, 'monkfish': 4911, 'cheese slices': 815, 'zest': 3207, 'green pumpkin seeds': 2880, 'low fat reduced sodium pasta sauce': 3007, 'white rice': 329, 'low-fat baked tortilla chips': 4666, 'cornbread crumbs': 6210, 'rosemary': 1736, 'matcha green tea powder': 324, 'DeLallo Extra Virgin Olive Oil': 3971, 'pastry': 1944, \"Uncle Ben's Ready Rice Whole Grain Brown Rice\": 5675, 'cooked rice': 146, 'london broil': 3158, 'scallops': 1613, 'eye of the round': 4954, 'toasted buns': 6534, 'gruyere cheese': 115, 'red vinegar white white, wine,': 4601, 'perilla': 1581, 'hong kong-style noodles': 5848, 'chipped beef': 4680, 'low-fat smoked sausage': 6441, 'pasta water': 1269, 'garbanzo bean flour': 5082, 'breasts halves': 2102, 'heirloom tomatoes': 2611, 'spiny lobsters': 4592, 'radicchio leaves': 3083, 'frozen seafood': 6506, 'dasheen': 5486, 'Soy Vay® Veri Veri Teriyaki® Marinade & Sauce': 5534, 'lean minced lamb': 6138, 'frying oil': 3093, 'suet': 2330, 'unsmoked bacon': 5425, 'frozen edamame beans': 784, 'scape pesto': 6088, 'baking apples': 799, 'black forest ham': 2505, 'ground fennel': 2760, 'pot roast': 3991, 'frozen sweetened raspberries': 6493, 'sobrasada': 2544, 'sansho': 2715, 'asparagus': 598, 'orange': 525, 'american cheese food': 6352, 'shredded basil': 5467, 'raspberry fruit spread': 5784, '33% less sodium cooked deli ham': 6055, 'demi-glace': 423, 'whole wheat peasant bread': 6694, 'dried dill': 3356, 'giant white beans': 5583, 'edible flowers': 2065, 'chicken breast tenderloins': 3561, 'frozen lemonade concentrate': 2731, 'unbaked pie shells': 5302, 'sumac powder': 6077, 'cookie crumbs': 5958, 'squash blossoms': 4841, 'chile paste': 493, 'marjoram leaves': 4071, 'panch phoran': 4787, 'lamb fillet': 4038, 'chinese cinnamon': 4892, 'cranberry sauce': 736, 'coco': 2549, 'pitted green olives': 2848, 'roasting hen': 6049, 'precooked meatballs': 5089, 'mi': 4212, 'vegetable stock': 125, \"Uncle Ben's Original Converted Brand rice\": 2856, 'frozen peas and carrots': 705, 'baby eggplants': 2873, 'forest fruit': 4321, 'yellow rock sugar': 1896, 'chocolate chunks': 4215, 'pork bones': 1962, 'lamb shanks': 1340, 'cauliflower flowerets': 936, 'lamb neck': 4808, 'sponge': 2232, 'buckwheat': 5373, 'mrs. dash seasoning mix': 5581, 'tenderloin steaks': 3740, 'treviso': 3401, 'seltzer': 3695, 'cracked wheat': 6515, 'grated nutmeg': 452, 'crispy rice cereal': 3802, 'fillet red snapper': 2350, 'queso blanco': 3741, 'annatto seeds': 2830, 'top round steak': 361, 'gouda': 4914, 'canning salt': 1953, 'orange roughy': 5643, 'bitter melon': 2168, 'chicken tenderloin': 590, 'and fat free half half': 1790, 'curry': 323, 'steak sauce': 3100, 'guava': 4880, 'dried dates': 4959, 'jelli strawberri': 4016, 'canned low sodium chicken broth': 992, 'dried udon': 4293, 'pain au levain': 5129, 'fresh prawn': 2265, 'guacamole seasoning mix': 5592, 'shredded lettuce': 268, 'wheat germ': 1116, 'pineapple syrup': 6350, 'leg quarters': 4076, 'refrigerated chocolate chip cookie dough': 4620, 'Crystal Farms Butter': 1312, 'salt and ground black pepper': 803, 'bocconcini': 2948, 'soya bean': 3405, 'lean chuck roast': 6086, 'black truffle oil': 5114, 'fillets': 1002, 'red wine vinegar': 488, 'runny honey': 1611, 'light lager': 5917, 'cinnamon hot candy': 6639, 'rock salt': 2417, 'chipotle sauce': 3195, 'cream cheese': 246, 'kasseri': 4138, 'McCormick Ground White Pepper': 3595, 'kimchi': 1039, 'cherry pie filling': 3968, 'parsley leaves': 983, 'barilla piccolini mini': 6408, 'green chard': 3949, 'Asian chili sauce': 4155, 'dried apricot': 1352, 'dried currants': 507, 'Jagermeister Liqueur': 6618, 'stewed tomatoes': 1395, 'creamy gravy': 5369, 'Taco Bell Taco Seasoning Mix': 4838, 'blanco tequila': 3962, 'frisee': 2145, 'posole': 2916, 'olive oil': 54, 'natural low-fat yogurt': 5172, 'tropical fruits': 3944, 'awase miso': 4936, 'smoked ham hocks': 1113, 'chipotle': 1181, 'pepperoni turkei': 3000, 'sour salt': 5834, 'bolillo': 3341, 'oloroso sherry': 3797, 'roquefort': 1487, 'cane syrup': 4543, 'low sodium stock': 4510, 'virgin coconut oil': 5076, 'pork neck': 2325, 'fish balls': 2836, 'heavy whipping cream': 459, 'chicken demi-glace': 5860, 'light brown sugar': 249, 'mild pork sausage': 2957, 'oil': 33, 'cachaca': 1330, 'treviso radicchio': 6374, 'sundried tomato pesto': 4147, 'breadfruit': 5696, 'organic chicken': 644, 'liver pate': 4708, 'pistachios': 724, 'field peas': 1503, 'lapsang': 4289, 'russet potatoes': 991, 'yogurt low fat': 6654, 'veal stock': 2278, 'frozen blackberries': 5221, 'currant': 2562, 'arrowroot powder': 165, 'soft sandwich rolls': 4227, 'wonton noodles': 6469, 'chinese black mushrooms': 4850, 'chocolate': 1818, 'blanched almonds': 1705, 'spicy pork sausage': 3253, 'Grand Marnier': 1587, 'lecithin': 6166, 'Earth Balance Buttery Spread': 5451, 'gram dal': 4058, 'wasabi powder': 1915, 'margarine spread': 5126, 'veal chops': 1263, 'chilegarlic sauce': 2879, 'soda bread': 2275, 'seafood breader': 3631, 'tree ears': 4916, 'bread': 1290, 'chunky pasta sauce': 4702, 'truffle butter': 4452, 'jamaican jerk': 5499, 'chuck short ribs': 3383, 'double crust': 6040, 'mashed banana': 3567, '2 1/2 to 3 lb. chicken, cut into serving pieces': 6181, 'Pace Picante Sauce': 1733, 'cooked beetroot': 6214, 'diced pimentos': 4491, 'boudin': 3830, 'marrons glacés': 5745, 'reduced-fat sour cream': 1836, 'pita rounds': 2717, 'jackfruit': 2714, 'sesame seeds buns': 5294}\n"
     ]
    }
   ],
   "source": [
    "print(str(dictionary.token2id))"
   ]
  },
  {
   "cell_type": "code",
   "execution_count": 104,
   "metadata": {
    "collapsed": false
   },
   "outputs": [
    {
     "name": "stdout",
     "output_type": "stream",
     "text": [
      "salt 19\n",
      "sugar 9\n",
      "water 10\n",
      "mushrooms 0\n",
      "chicken 0\n",
      "eggs 2\n"
     ]
    }
   ],
   "source": [
    "for word in words:    \n",
    "    print (word, cnt[str(dictionary.token2id[word])])"
   ]
  },
  {
   "cell_type": "code",
   "execution_count": 105,
   "metadata": {
    "collapsed": true
   },
   "outputs": [],
   "source": [
    "save_answers1(19,9,10,0,0,2)"
   ]
  },
  {
   "cell_type": "markdown",
   "metadata": {},
   "source": [
    "### Фильтрация словаря\n",
    "В топах тем гораздо чаще встречаются первые три рассмотренных ингредиента, чем последние три. При этом наличие в рецепте курицы, яиц и грибов яснее дает понять, что мы будем готовить, чем наличие соли, сахара и воды. Таким образом, даже в рецептах есть слова, часто встречающиеся в текстах и не несущие смысловой нагрузки, и поэтому их не желательно видеть в темах. Наиболее простой прием борьбы с такими фоновыми элементами — фильтрация словаря по частоте. Обычно словарь фильтруют с двух сторон: убирают очень редкие слова (в целях экономии памяти) и очень частые слова (в целях повышения интерпретируемости тем). Мы уберем только частые слова."
   ]
  },
  {
   "cell_type": "code",
   "execution_count": 46,
   "metadata": {
    "collapsed": true
   },
   "outputs": [],
   "source": [
    "import copy\n",
    "dictionary2 = copy.deepcopy(dictionary)"
   ]
  },
  {
   "cell_type": "code",
   "execution_count": 60,
   "metadata": {
    "collapsed": false
   },
   "outputs": [
    {
     "name": "stdout",
     "output_type": "stream",
     "text": [
      "Dictionary(6702 unique tokens: ['fat free ground turkey breast', 'calf liver', 'reduced sodium smoked ham', 'red food coloring', 'wide egg noodles']...)\n",
      "calf liver\n",
      "c\n"
     ]
    }
   ],
   "source": [
    "print(dictionary2)\n",
    "print(dictionary2[1])\n",
    "print(dictionary2[1][0])"
   ]
  },
  {
   "cell_type": "markdown",
   "metadata": {},
   "source": [
    "__Задание 2.__ У объекта dictionary2 есть переменная *dfs* — это словарь, ключами которого являются id токена, а элементами — число раз, сколько слово встретилось во всей коллекции. Сохраните в отдельный список ингредиенты, которые встретились в коллекции больше 4000 раз. Вызовите метод словаря *filter_tokens*, подав в качестве первого аргумента полученный список популярных ингредиентов. Вычислите две величины: dict_size_before и dict_size_after — размер словаря до и после фильтрации.\n",
    "\n",
    "Затем, используя новый словарь, создайте новый корпус документов, corpus2, по аналогии с тем, как это сделано в начале ноутбука. Вычислите две величины: corpus_size_before и corpus_size_after — суммарное количество ингредиентов в корпусе (для каждого документа вычислите число различных ингредиентов в нем и просуммируйте по всем документам) до и после фильтрации.\n",
    "\n",
    "Передайте величины dict_size_before, dict_size_after, corpus_size_before, corpus_size_after в функцию save_answers2 и загрузите сгенерированный файл в форму."
   ]
  },
  {
   "cell_type": "code",
   "execution_count": 106,
   "metadata": {
    "collapsed": false
   },
   "outputs": [],
   "source": [
    "freq4000 = map(lambda it: it[0],filter(lambda it: it[1] > 4000, dictionary2.dfs.items()))#The method items() returns a list of dict's (key, value) tuple pairs"
   ]
  },
  {
   "cell_type": "code",
   "execution_count": 149,
   "metadata": {
    "collapsed": false
   },
   "outputs": [
    {
     "data": {
      "text/plain": [
       "<map at 0x105cbe828>"
      ]
     },
     "execution_count": 149,
     "metadata": {},
     "output_type": "execute_result"
    }
   ],
   "source": [
    "freq4000"
   ]
  },
  {
   "cell_type": "code",
   "execution_count": 107,
   "metadata": {
    "collapsed": false
   },
   "outputs": [
    {
     "name": "stdout",
     "output_type": "stream",
     "text": [
      "before: 6702\n",
      "after: 6702\n"
     ]
    }
   ],
   "source": [
    "dict_size_before = len(dictionary2)\n",
    "dictionary2.filter_tokens(freq4000)\n",
    "dict_size_after = len(dictionary2)\n",
    "print ('before:', dict_size_before)\n",
    "print ('after:', dict_size_after)"
   ]
  },
  {
   "cell_type": "code",
   "execution_count": 108,
   "metadata": {
    "collapsed": false
   },
   "outputs": [
    {
     "name": "stdout",
     "output_type": "stream",
     "text": [
      "before: 428249\n",
      "after: 343665\n"
     ]
    }
   ],
   "source": [
    "corpus_size_before = sum(map(lambda x: len(x),corpus))\n",
    "corpus2 = [dictionary2.doc2bow(text) for text in texts]  # составляем корпус документов\n",
    "corpus_size_after = sum(map(lambda x: len(x),corpus2))\n",
    "print ('before:', corpus_size_before)\n",
    "print ('after:', corpus_size_after)"
   ]
  },
  {
   "cell_type": "code",
   "execution_count": 109,
   "metadata": {
    "collapsed": true
   },
   "outputs": [],
   "source": [
    "def save_answers2(dict_size_before, dict_size_after, corpus_size_before, corpus_size_after):\n",
    "    with open(\"cooking_LDA_pa_task2.txt\", \"w\") as fout:\n",
    "        fout.write(\" \".join([str(el) for el in [dict_size_before, dict_size_after, corpus_size_before, corpus_size_after]]))"
   ]
  },
  {
   "cell_type": "code",
   "execution_count": 65,
   "metadata": {
    "collapsed": false
   },
   "outputs": [],
   "source": [
    "save_answers2(dict_size_before, dict_size_after, corpus_size_before, corpus_size_after)"
   ]
  },
  {
   "cell_type": "markdown",
   "metadata": {},
   "source": [
    "### Сравнение когерентностей\n",
    "__Задание 3.__ Постройте еще одну модель по корпусу corpus2 и словарю dictionary2, остальные параметры оставьте такими же, как при первом построении модели. Сохраните новую модель в другую переменную (не перезаписывайте предыдущую модель). Не забудьте про фиксирование seed!\n",
    "\n",
    "Затем воспользуйтесь методом *top_topics* модели, чтобы вычислить ее когерентность. Передайте в качестве аргумента соответствующий модели корпус. Метод вернет список кортежей (топ токенов, когерентность), отсортированных по убыванию последней. Вычислите среднюю по всем темам когерентность для каждой из двух моделей и передайте в функцию save_answers3. "
   ]
  },
  {
   "cell_type": "code",
   "execution_count": 110,
   "metadata": {
    "collapsed": true
   },
   "outputs": [],
   "source": [
    "np.random.seed(76543)\n",
    "# здесь код для построения модели:\n",
    "lda2 = models.LdaModel(corpus=corpus2, num_topics=40, passes=5)"
   ]
  },
  {
   "cell_type": "code",
   "execution_count": 111,
   "metadata": {
    "collapsed": true
   },
   "outputs": [],
   "source": [
    "coher1 = lda.top_topics(corpus)"
   ]
  },
  {
   "cell_type": "code",
   "execution_count": 112,
   "metadata": {
    "collapsed": false
   },
   "outputs": [],
   "source": [
    "coher2 = lda2.top_topics(corpus2)"
   ]
  },
  {
   "cell_type": "code",
   "execution_count": 113,
   "metadata": {
    "collapsed": true
   },
   "outputs": [],
   "source": [
    "coherence1 = np.mean([x[1] for x in coher1])"
   ]
  },
  {
   "cell_type": "code",
   "execution_count": 114,
   "metadata": {
    "collapsed": true
   },
   "outputs": [],
   "source": [
    "coherence2 = np.mean([x[1] for x in coher2])"
   ]
  },
  {
   "cell_type": "code",
   "execution_count": 115,
   "metadata": {
    "collapsed": true
   },
   "outputs": [],
   "source": [
    "def save_answers3(coherence, coherence2):\n",
    "    with open(\"cooking_LDA_pa_task3.txt\", \"w\") as fout:\n",
    "        fout.write(\" \".join([\"%3f\"%el for el in [coherence, coherence2]]))"
   ]
  },
  {
   "cell_type": "code",
   "execution_count": 116,
   "metadata": {
    "collapsed": false
   },
   "outputs": [
    {
     "name": "stdout",
     "output_type": "stream",
     "text": [
      "-635.642456934 -678.996332679\n"
     ]
    }
   ],
   "source": [
    "print(coherence1,coherence2)\n",
    "save_answers3(coherence1, coherence2)"
   ]
  },
  {
   "cell_type": "markdown",
   "metadata": {},
   "source": [
    "Считается, что когерентность хорошо соотносится с человеческими оценками интерпретируемости тем. Поэтому на больших текстовых коллекциях когерентность обычно повышается, если убрать фоновую лексику. Однако в нашем случае этого не произошло. "
   ]
  },
  {
   "cell_type": "markdown",
   "metadata": {},
   "source": [
    "### Изучение влияния гиперпараметра alpha"
   ]
  },
  {
   "cell_type": "markdown",
   "metadata": {},
   "source": [
    "В этом разделе мы будем работать со второй моделью, то есть той, которая построена по сокращенному корпусу. \n",
    "\n",
    "Пока что мы посмотрели только на матрицу темы-слова, теперь давайте посмотрим на матрицу темы-документы. Выведите темы для нулевого (или любого другого) документа из корпуса, воспользовавшись методом *get_document_topics* второй модели:"
   ]
  },
  {
   "cell_type": "code",
   "execution_count": 117,
   "metadata": {
    "collapsed": false
   },
   "outputs": [
    {
     "data": {
      "text/plain": [
       "[(6, 0.50312499999999927),\n",
       " (28, 0.12812499999999979),\n",
       " (30, 0.12812499999999979),\n",
       " (31, 0.12812499999999979)]"
      ]
     },
     "execution_count": 117,
     "metadata": {},
     "output_type": "execute_result"
    }
   ],
   "source": [
    "lda2.get_document_topics(corpus2[0])"
   ]
  },
  {
   "cell_type": "markdown",
   "metadata": {},
   "source": [
    "Также выведите содержимое переменной *.alpha* второй модели:"
   ]
  },
  {
   "cell_type": "code",
   "execution_count": 118,
   "metadata": {
    "collapsed": false
   },
   "outputs": [
    {
     "data": {
      "text/plain": [
       "array([ 0.025,  0.025,  0.025,  0.025,  0.025,  0.025,  0.025,  0.025,\n",
       "        0.025,  0.025,  0.025,  0.025,  0.025,  0.025,  0.025,  0.025,\n",
       "        0.025,  0.025,  0.025,  0.025,  0.025,  0.025,  0.025,  0.025,\n",
       "        0.025,  0.025,  0.025,  0.025,  0.025,  0.025,  0.025,  0.025,\n",
       "        0.025,  0.025,  0.025,  0.025,  0.025,  0.025,  0.025,  0.025])"
      ]
     },
     "execution_count": 118,
     "metadata": {},
     "output_type": "execute_result"
    }
   ],
   "source": [
    "lda2.alpha"
   ]
  },
  {
   "cell_type": "markdown",
   "metadata": {},
   "source": [
    "У вас должно получиться, что документ характеризуется небольшим числом тем. Попробуем поменять гиперпараметр alpha, задающий априорное распределение Дирихле для распределений тем в документах."
   ]
  },
  {
   "cell_type": "markdown",
   "metadata": {},
   "source": [
    "__Задание 4.__ Обучите третью модель: используйте сокращенный корпус (corpus2 и dictionary2) и установите параметр __alpha=1__, passes=5. Не забудьте про фиксацию seed! Выведите темы новой модели для нулевого документа; должно получиться, что распределение над множеством тем практически равномерное. Чтобы убедиться в том, что во второй модели документы описываются гораздо более разреженными распределениями, чем в третьей, посчитайте суммарное количество элементов, __превосходящих 0.01__, в матрицах темы-документы обеих моделей. Другими словами, запросите темы  модели для каждого документа с параметром *minimum_probability=0.01* и просуммируйте число элементов в получаемых массивах. Передайте две суммы (сначала для модели с alpha по умолчанию, затем для модели в alpha=1) в функцию save_answers4."
   ]
  },
  {
   "cell_type": "code",
   "execution_count": 121,
   "metadata": {
    "collapsed": true
   },
   "outputs": [],
   "source": [
    "np.random.seed(76543)\n",
    "# здесь код для построения модели:\n",
    "lda3 = models.LdaModel(corpus=corpus2, num_topics=40, passes=5,alpha=1.0)"
   ]
  },
  {
   "cell_type": "code",
   "execution_count": 125,
   "metadata": {
    "collapsed": false
   },
   "outputs": [
    {
     "data": {
      "text/plain": [
       "<gensim.interfaces.TransformedCorpus at 0x1166655f8>"
      ]
     },
     "execution_count": 125,
     "metadata": {},
     "output_type": "execute_result"
    }
   ],
   "source": [
    "lda3.get_document_topics(corpus2, minimum_probability=0.01)                    \n",
    "#Return topic distribution for the given document bow, as a list of (topic_id, topic_probability) 2-tuples."
   ]
  },
  {
   "cell_type": "code",
   "execution_count": 169,
   "metadata": {
    "collapsed": false
   },
   "outputs": [
    {
     "data": {
      "text/plain": [
       "[(0, 0.020498215090136954),\n",
       " (1, 0.020453118683976371),\n",
       " (2, 0.020408163265306121),\n",
       " (3, 0.040816326530612242),\n",
       " (4, 0.02040856235616767),\n",
       " (5, 0.020408201366100383),\n",
       " (6, 0.020421024935410641),\n",
       " (7, 0.040818734534525697),\n",
       " (8, 0.020424550749968719),\n",
       " (9, 0.020408163265306121),\n",
       " (10, 0.020408163265306121),\n",
       " (11, 0.040816326530612242),\n",
       " (12, 0.020408165241046852),\n",
       " (13, 0.020408163265306187),\n",
       " (14, 0.020408163265306121),\n",
       " (15, 0.020408163265336871),\n",
       " (16, 0.020408163265306121),\n",
       " (17, 0.020408163265306124),\n",
       " (18, 0.020408163265306242),\n",
       " (19, 0.040816326530612235),\n",
       " (20, 0.020447034463457591),\n",
       " (21, 0.040816326530612242),\n",
       " (22, 0.020414184406749469),\n",
       " (23, 0.061224489795918359),\n",
       " (24, 0.020442552288341739),\n",
       " (25, 0.040861878065569138),\n",
       " (26, 0.040295432997301886),\n",
       " (27, 0.020438487523846471),\n",
       " (28, 0.020408366618622862),\n",
       " (29, 0.020411252908205307),\n",
       " (30, 0.020408163273480648),\n",
       " (31, 0.020409412672160031),\n",
       " (32, 0.020473447071962522),\n",
       " (33, 0.020408567485906082),\n",
       " (34, 0.020408163265306121),\n",
       " (35, 0.020443114168093916),\n",
       " (36, 0.020408163265306121),\n",
       " (37, 0.020408163265306121),\n",
       " (38, 0.020408257896531889),\n",
       " (39, 0.020501520100365316)]"
      ]
     },
     "execution_count": 169,
     "metadata": {},
     "output_type": "execute_result"
    }
   ],
   "source": [
    "lda3.get_document_topics(corpus[0])"
   ]
  },
  {
   "cell_type": "code",
   "execution_count": 172,
   "metadata": {
    "collapsed": false
   },
   "outputs": [],
   "source": [
    "def cnt_model (lda,corpus):\n",
    "    cnt=0\n",
    "    for corp in corpus:\n",
    "        topics=lda.get_document_topics(corp,minimum_probability=0.01)\n",
    "        cnt+=len(topics)\n",
    "    return cnt"
   ]
  },
  {
   "cell_type": "code",
   "execution_count": 173,
   "metadata": {
    "collapsed": false
   },
   "outputs": [],
   "source": [
    "count_model2=cnt_model(lda2,corpus2)\n",
    "count_model3=cnt_model(lda3,corpus2)"
   ]
  },
  {
   "cell_type": "code",
   "execution_count": 174,
   "metadata": {
    "collapsed": false
   },
   "outputs": [
    {
     "name": "stdout",
     "output_type": "stream",
     "text": [
      "201650 1590960\n"
     ]
    }
   ],
   "source": [
    "print(count_model2,count_model3)"
   ]
  },
  {
   "cell_type": "code",
   "execution_count": 175,
   "metadata": {
    "collapsed": true
   },
   "outputs": [],
   "source": [
    "def save_answers4(count_model2, count_model3):\n",
    "    with open(\"cooking_LDA_pa_task4.txt\", \"w\") as fout:\n",
    "        fout.write(\" \".join([str(el) for el in [count_model2, count_model3]]))"
   ]
  },
  {
   "cell_type": "code",
   "execution_count": 202,
   "metadata": {
    "collapsed": true
   },
   "outputs": [],
   "source": [
    "save_answers4(count_model2,count_model3)"
   ]
  },
  {
   "cell_type": "markdown",
   "metadata": {},
   "source": [
    "Таким образом, гиперпараметр __alpha__ влияет на разреженность распределений тем в документах. Аналогично гиперпараметр __eta__ влияет на разреженность распределений слов в темах."
   ]
  },
  {
   "cell_type": "markdown",
   "metadata": {},
   "source": [
    "### LDA как способ понижения размерности\n",
    "Иногда, распределения над темами, найденные с помощью LDA, добавляют в матрицу объекты-признаки как дополнительные, семантические, признаки, и это может улучшить качество решения задачи. Для простоты давайте просто обучим классификатор рецептов на кухни на признаках, полученных из LDA, и измерим точность (accuracy).\n",
    "\n",
    "__Задание 5.__ Используйте модель, построенную по сокращенной выборке с alpha по умолчанию (вторую модель). Составьте матрицу $\\Theta = p(t|d)$ вероятностей тем в документах; вы можете использовать тот же метод get_document_topics, а также вектор правильных ответов y (в том же порядке, в котором рецепты идут в переменной recipes). Создайте объект RandomForestClassifier со 100 деревьями, с помощью функции cross_val_score вычислите среднюю accuracy по трем фолдам (перемешивать данные не нужно) и передайте в функцию save_answers5."
   ]
  },
  {
   "cell_type": "code",
   "execution_count": 126,
   "metadata": {
    "collapsed": true
   },
   "outputs": [],
   "source": [
    "from sklearn.ensemble import RandomForestClassifier\n",
    "from sklearn.cross_validation import cross_val_score"
   ]
  },
  {
   "cell_type": "code",
   "execution_count": 127,
   "metadata": {
    "collapsed": false
   },
   "outputs": [],
   "source": [
    "theta=np.zeros([len(corpus2),40]) # n of topics =40"
   ]
  },
  {
   "cell_type": "code",
   "execution_count": 128,
   "metadata": {
    "collapsed": false
   },
   "outputs": [
    {
     "data": {
      "text/plain": [
       "(39774, 40)"
      ]
     },
     "execution_count": 128,
     "metadata": {},
     "output_type": "execute_result"
    }
   ],
   "source": [
    "theta.shape"
   ]
  },
  {
   "cell_type": "code",
   "execution_count": 130,
   "metadata": {
    "collapsed": false
   },
   "outputs": [
    {
     "data": {
      "text/plain": [
       "<bound method LdaModel.get_document_topics of <gensim.models.ldamodel.LdaModel object at 0x10406b7b8>>"
      ]
     },
     "execution_count": 130,
     "metadata": {},
     "output_type": "execute_result"
    }
   ],
   "source": [
    "lda2.get_document_topics"
   ]
  },
  {
   "cell_type": "code",
   "execution_count": 178,
   "metadata": {
    "collapsed": false
   },
   "outputs": [],
   "source": [
    "for i,j in enumerate(corpus2):\n",
    "    for topic_id,prob in lda2.get_document_topics(j):\n",
    "        theta[i,topic_id]=prob"
   ]
  },
  {
   "cell_type": "code",
   "execution_count": 187,
   "metadata": {
    "collapsed": false
   },
   "outputs": [
    {
     "name": "stdout",
     "output_type": "stream",
     "text": [
      "['cajun_creole', 'thai', 'vietnamese', 'french', 'japanese', 'southern_us', 'jamaican', 'chinese', 'brazilian', 'moroccan', 'mexican', 'russian', 'irish', 'filipino', 'british', 'korean', 'spanish', 'indian', 'italian', 'greek']\n"
     ]
    }
   ],
   "source": [
    "cuisine_list=list(set([recipe[\"cuisine\"] for recipe in recipes]))\n",
    "print(cuisine_list)"
   ]
  },
  {
   "cell_type": "code",
   "execution_count": 185,
   "metadata": {
    "collapsed": false
   },
   "outputs": [
    {
     "name": "stdout",
     "output_type": "stream",
     "text": [
      "['greek' 'southern_us' 'filipino' ..., 'irish' 'chinese' 'mexican']\n"
     ]
    },
    {
     "data": {
      "text/plain": [
       "(39774,)"
      ]
     },
     "execution_count": 185,
     "metadata": {},
     "output_type": "execute_result"
    }
   ],
   "source": [
    "y=np.array([recipe[\"cuisine\"] for recipe in recipes])\n",
    "print(y)\n",
    "y.shape"
   ]
  },
  {
   "cell_type": "code",
   "execution_count": 189,
   "metadata": {
    "collapsed": false
   },
   "outputs": [],
   "source": [
    "clf=RandomForestClassifier(n_estimators=100)"
   ]
  },
  {
   "cell_type": "code",
   "execution_count": 191,
   "metadata": {
    "collapsed": false
   },
   "outputs": [],
   "source": [
    "accuracy=np.mean(cross_val_score(clf,theta,y,cv=3,scoring='accuracy'))"
   ]
  },
  {
   "cell_type": "code",
   "execution_count": 192,
   "metadata": {
    "collapsed": false
   },
   "outputs": [
    {
     "name": "stdout",
     "output_type": "stream",
     "text": [
      "0.558959063116\n"
     ]
    }
   ],
   "source": [
    "print(accuracy)"
   ]
  },
  {
   "cell_type": "code",
   "execution_count": 193,
   "metadata": {
    "collapsed": true
   },
   "outputs": [],
   "source": [
    "def save_answers5(accuracy):\n",
    "     with open(\"cooking_LDA_pa_task5.txt\", \"w\") as fout:\n",
    "        fout.write(str(accuracy))"
   ]
  },
  {
   "cell_type": "code",
   "execution_count": 194,
   "metadata": {
    "collapsed": true
   },
   "outputs": [],
   "source": [
    "save_answers5(accuracy)"
   ]
  },
  {
   "cell_type": "markdown",
   "metadata": {},
   "source": [
    "Для такого большого количества классов это неплохая точность. Вы можете попроовать обучать RandomForest на исходной матрице частот слов, имеющей значительно большую размерность, и увидеть, что accuracy увеличивается на 10–15%. Таким образом, LDA собрал не всю, но достаточно большую часть информации из выборки, в матрице низкого ранга."
   ]
  },
  {
   "cell_type": "markdown",
   "metadata": {},
   "source": [
    "### LDA — вероятностная модель\n",
    "Матричное разложение, использующееся в LDA, интерпретируется как следующий процесс генерации документов.\n",
    "\n",
    "Для документа $d$ длины $n_d$:\n",
    "1. Из априорного распределения Дирихле с параметром alpha сгенерировать распределение над множеством тем: $\\theta_d \\sim Dirichlet(\\alpha)$\n",
    "1. Для каждого слова $w = 1, \\dots, n_d$:\n",
    "    1. Сгенерировать тему из дискретного распределения $t \\sim \\theta_{d}$\n",
    "    1. Сгенерировать слово из дискретного распределения $w \\sim \\phi_{t}$.\n",
    "    \n",
    "Подробнее об этом в [Википедии](https://en.wikipedia.org/wiki/Latent_Dirichlet_allocation).\n",
    "\n",
    "В контексте нашей задачи получается, что, используя данный генеративный процесс, можно создавать новые рецепты. Вы можете передать в функцию модель и число ингредиентов и сгенерировать рецепт :)"
   ]
  },
  {
   "cell_type": "code",
   "execution_count": null,
   "metadata": {
    "collapsed": false
   },
   "outputs": [],
   "source": [
    "def generate_recipe(model, num_ingredients):\n",
    "    theta = np.random.dirichlet(model.alpha)\n",
    "    for i in range(num_ingredients):\n",
    "        t = np.random.choice(np.arange(model.num_topics), p=theta)\n",
    "        topic = model.show_topic(t, topn=model.num_terms)\n",
    "        topic_distr = [x[1] for x in topic]\n",
    "        terms = [x[0] for x in topic]\n",
    "        w = np.random.choice(terms, p=topic_distr)\n",
    "        print (w)"
   ]
  },
  {
   "cell_type": "code",
   "execution_count": null,
   "metadata": {
    "collapsed": true
   },
   "outputs": [],
   "source": [
    "generate_recipe(lda2,3)"
   ]
  },
  {
   "cell_type": "markdown",
   "metadata": {},
   "source": [
    "### Интерпретация построенной модели\n",
    "Вы можете рассмотреть топы ингредиентов каждой темы. Большиснтво тем сами по себе похожи на рецепты; в некоторых собираются продукты одного вида, например, свежие фрукты или разные виды сыра.\n",
    "\n",
    "Попробуем эмпирически соотнести наши темы с национальными кухнями (cuisine). Построим матрицу $A$ размера темы $x$ кухни, ее элементы $a_{tc}$ — суммы $p(t|d)$ по всем документам $d$, которые отнесены к кухне $c$. Нормируем матрицу на частоты рецептов по разным кухням, чтобы избежать дисбаланса между кухнями. Следующая функция получает на вход объект модели, объект корпуса и исходные данные и возвращает нормированную матрицу $A$. Ее удобно визуализировать с помощью seaborn."
   ]
  },
  {
   "cell_type": "code",
   "execution_count": 195,
   "metadata": {
    "collapsed": true
   },
   "outputs": [],
   "source": [
    "import pandas\n",
    "import seaborn\n",
    "from matplotlib import pyplot as plt\n",
    "%matplotlib inline"
   ]
  },
  {
   "cell_type": "code",
   "execution_count": 196,
   "metadata": {
    "collapsed": true
   },
   "outputs": [],
   "source": [
    "def compute_topic_cuisine_matrix(model, corpus, recipes):\n",
    "    # составляем вектор целевых признаков\n",
    "    targets = list(set([recipe[\"cuisine\"] for recipe in recipes]))\n",
    "    # составляем матрицу\n",
    "    tc_matrix = pandas.DataFrame(data=np.zeros((model.num_topics, len(targets))), columns=targets)\n",
    "    for recipe, bow in zip(recipes, corpus):\n",
    "        recipe_topic = model.get_document_topics(bow)\n",
    "        for t, prob in recipe_topic:\n",
    "            tc_matrix[recipe[\"cuisine\"]][t] += prob\n",
    "    # нормируем матрицу\n",
    "    target_sums = pandas.DataFrame(data=np.zeros((1, len(targets))), columns=targets)\n",
    "    for recipe in recipes:\n",
    "        target_sums[recipe[\"cuisine\"]] += 1\n",
    "    return pandas.DataFrame(tc_matrix.values/target_sums.values, columns=tc_matrix.columns)"
   ]
  },
  {
   "cell_type": "code",
   "execution_count": 197,
   "metadata": {
    "collapsed": true
   },
   "outputs": [],
   "source": [
    "def plot_matrix(tc_matrix):\n",
    "    plt.figure(figsize=(10, 10))\n",
    "    seaborn.heatmap(tc_matrix, square=True)"
   ]
  },
  {
   "cell_type": "code",
   "execution_count": 200,
   "metadata": {
    "collapsed": false
   },
   "outputs": [
    {
     "data": {
      "image/png": "[encoded data removed]",
      "text/plain": [
       "<matplotlib.figure.Figure at 0x11d38bba8>"
      ]
     },
     "metadata": {},
     "output_type": "display_data"
    }
   ],
   "source": [
    "# Визуализируйте матрицу\n",
    "plot_matrix(compute_topic_cuisine_matrix(lda2,corpus2,recipes))"
   ]
  },
  {
   "cell_type": "markdown",
   "metadata": {},
   "source": [
    "Чем темнее квадрат в матрице, тем больше связь этой темы с данной кухней. Мы видим, что у нас есть темы, которые связаны с несколькими кухнями. Такие темы показывают набор ингредиентов, которые популярны в кухнях нескольких народов, то есть указывают на схожесть кухонь этих народов. Некоторые темы распределены по всем кухням равномерно, они показывают наборы продуктов, которые часто используются в кулинарии всех стран. "
   ]
  },
  {
   "cell_type": "markdown",
   "metadata": {},
   "source": [
    "Жаль, что в датасете нет названий рецептов, иначе темы было бы проще интерпретировать..."
   ]
  },
  {
   "cell_type": "markdown",
   "metadata": {},
   "source": [
    "### Заключение\n",
    "В этом задании вы построили несколько моделей LDA, посмотрели, на что влияют гиперпараметры модели и как можно использовать построенную модель. "
   ]
  }
 ],
 "metadata": {
  "kernelspec": {
   "display_name": "Python [Root]",
   "language": "python",
   "name": "Python [Root]"
  },
  "language_info": {
   "codemirror_mode": {
    "name": "ipython",
    "version": 3
   },
   "file_extension": ".py",
   "mimetype": "text/x-python",
   "name": "python",
   "nbconvert_exporter": "python",
   "pygments_lexer": "ipython3",
   "version": "3.5.2"
  }
 },
 "nbformat": 4,
 "nbformat_minor": 0
}
